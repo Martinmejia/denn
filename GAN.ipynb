{
 "cells": [
  {
   "cell_type": "code",
   "execution_count": 1,
   "metadata": {},
   "outputs": [],
   "source": [
    "import numpy as np\n",
    "import matplotlib.pyplot as plt"
   ]
  },
  {
   "cell_type": "markdown",
   "metadata": {},
   "source": [
    "# Equation: \n",
    "\n",
    "# $$ \\frac{dx}{dt} = \\lambda x$$\n",
    "\n",
    "# == Setup ==\n",
    "\n"
   ]
  },
  {
   "cell_type": "markdown",
   "metadata": {},
   "source": [
    "# Generator (regression):\n",
    "\n",
    "<img src=\"generator.png\" width=\"500\">\n",
    "\n",
    "# Discriminator (classification):\n",
    "\n",
    "<img src=\"discriminator.png\" width=\"500\">"
   ]
  },
  {
   "cell_type": "markdown",
   "metadata": {},
   "source": [
    "## Analytical Solutionn"
   ]
  },
  {
   "cell_type": "code",
   "execution_count": 17,
   "metadata": {},
   "outputs": [],
   "source": [
    "L = -1\n",
    "analytic = lambda t: np.exp(L*t)"
   ]
  },
  {
   "cell_type": "code",
   "execution_count": 30,
   "metadata": {},
   "outputs": [
    {
     "data": {
      "image/png": "[encoded data removed]",
      "text/plain": [
       "<Figure size 720x504 with 1 Axes>"
      ]
     },
     "metadata": {},
     "output_type": "display_data"
    }
   ],
   "source": [
    "t = np.linspace(0,10,100)\n",
    "plt.figure(figsize=(10,7))\n",
    "plt.xlabel('$t$', fontsize=20)\n",
    "plt.ylabel('$x$', fontsize=20)\n",
    "plt.plot(t, analytic(t), '-', label='analytic')\n",
    "plt.legend();"
   ]
  },
  {
   "cell_type": "markdown",
   "metadata": {},
   "source": [
    "## GAN"
   ]
  },
  {
   "cell_type": "code",
   "execution_count": 39,
   "metadata": {},
   "outputs": [],
   "source": [
    "import torch\n",
    "import torch.nn as nn\n",
    "from torch import tensor, autograd"
   ]
  },
  {
   "cell_type": "code",
   "execution_count": 33,
   "metadata": {},
   "outputs": [],
   "source": [
    "class Generator(nn.Module):\n",
    "    def __init__(self, n_hidden=20):\n",
    "        super(Generator, self).__init__()\n",
    "        self.main = nn.Sequential(\n",
    "            nn.Linear(1, n_hidden),\n",
    "            nn.Tanh(),\n",
    "            nn.Linear(n_hidden, n_hidden),\n",
    "            nn.Tanh(),\n",
    "            nn.Linear(n_hidden, 1) # regression\n",
    "        )\n",
    "    \n",
    "    def forward(self, x):\n",
    "        output = self.main(x)\n",
    "        return output\n",
    "\n",
    "class Discriminator(nn.Module):\n",
    "    def __init__(self, n_hidden=20):\n",
    "        super(Discriminator, self).__init__()\n",
    "        self.main = nn.Sequential(\n",
    "            nn.Linear(1, n_hidden),\n",
    "            nn.Tanh(),\n",
    "            nn.Linear(n_hidden, n_hidden),\n",
    "            nn.Tanh(),\n",
    "            nn.Linear(n_hidden, 1),\n",
    "            nn.Tanh() # classification\n",
    "        )\n",
    "    \n",
    "    def forward(self, x):\n",
    "        output = self.main(x)\n",
    "        return output"
   ]
  },
  {
   "cell_type": "code",
   "execution_count": 34,
   "metadata": {},
   "outputs": [],
   "source": [
    "G = Generator()\n",
    "D = Discriminator()"
   ]
  },
  {
   "cell_type": "code",
   "execution_count": 37,
   "metadata": {},
   "outputs": [],
   "source": [
    "t = tensor(t, dtype=torch.float, requires_grad=True).reshape(-1,1)"
   ]
  },
  {
   "cell_type": "code",
   "execution_count": 42,
   "metadata": {},
   "outputs": [],
   "source": [
    "real_label = 1\n",
    "fake_label = 0\n",
    "criterion = nn.BCELoss()"
   ]
  },
  {
   "cell_type": "code",
   "execution_count": 43,
   "metadata": {},
   "outputs": [],
   "source": [
    "# setup optimizer\n",
    "optimizerD = torch.optim.Adam(D.parameters(), lr=0.001, betas=(0.9, 0.999))\n",
    "optimizerG = torch.optim.Adam(G.parameters(), lr=0.001, betas=(0.9, 0.999))"
   ]
  },
  {
   "cell_type": "code",
   "execution_count": 41,
   "metadata": {},
   "outputs": [],
   "source": [
    "for epoch in range(10000):\n",
    "    \n",
    "    # predict\n",
    "    x = G(t)\n",
    "    \n",
    "    # compute dx/dt\n",
    "    dx_dt, = autograd.grad(x, t, grad_outputs=x.data.new(x.shape).fill_(1),\n",
    "                           retain_graph=True, create_graph=True)\n",
    "    \n",
    "    # draw x (real) or dx/dt (fake)\n",
    "    label = np.random.choice([0, 1], size=t.shape[0])\n",
    "    d_in = \n",
    "    for l in label:\n",
    "        if l == 0:\n",
    "            \n",
    "        \n",
    "    \n",
    "    \n",
    "\n",
    "#     for i, data in enumerate(t):\n",
    "#         ############################\n",
    "#         # (1) Update D network: maximize log(D(x)) + log(1 - D(G(z)))\n",
    "#         ###########################\n",
    "#         # train with real\n",
    "#         D.zero_grad()\n",
    "# #         real_cpu = data[0].to(device)\n",
    "# #         batch_size = real_cpu.size(0)\n",
    "#         label = torch.full((batch_size,), real_label, device=device)\n",
    "\n",
    "#         output = netD(real_cpu)\n",
    "#         errD_real = criterion(output, label)\n",
    "#         errD_real.backward()\n",
    "#         D_x = output.mean().item()\n",
    "\n",
    "#         # train with fake\n",
    "#         noise = torch.randn(batch_size, nz, 1, 1, device=device)\n",
    "#         fake = netG(noise)\n",
    "#         label.fill_(fake_label)\n",
    "#         output = netD(fake.detach())\n",
    "#         errD_fake = criterion(output, label)\n",
    "#         errD_fake.backward()\n",
    "#         D_G_z1 = output.mean().item()\n",
    "#         errD = errD_real + errD_fake\n",
    "#         optimizerD.step()\n",
    "\n",
    "#         ############################\n",
    "#         # (2) Update G network: maximize log(D(G(z)))\n",
    "#         ###########################\n",
    "#         netG.zero_grad()\n",
    "#         label.fill_(real_label)  # fake labels are real for generator cost\n",
    "#         output = netD(fake)\n",
    "#         errG = criterion(output, label)\n",
    "#         errG.backward()\n",
    "#         D_G_z2 = output.mean().item()\n",
    "#         optimizerG.step()\n",
    "\n",
    "#         print('[%d/%d][%d/%d] Loss_D: %.4f Loss_G: %.4f D(x): %.4f D(G(z)): %.4f / %.4f'\n",
    "#               % (epoch, opt.niter, i, len(dataloader),\n",
    "#                  errD.item(), errG.item(), D_x, D_G_z1, D_G_z2))\n",
    "#         if i % 100 == 0:\n",
    "#             vutils.save_image(real_cpu,\n",
    "#                     '%s/real_samples.png' % opt.outf,\n",
    "#                     normalize=True)\n",
    "#             fake = netG(fixed_noise)\n",
    "#             vutils.save_image(fake.detach(),\n",
    "#                     '%s/fake_samples_epoch_%03d.png' % (opt.outf, epoch),\n",
    "#                     normalize=True)\n",
    "\n",
    "#     # do checkpointing\n",
    "#     torch.save(netG.state_dict(), '%s/netG_epoch_%d.pth' % (opt.outf, epoch))\n",
    "#     torch.save(netD.state_dict(), '%s/netD_epoch_%d.pth' % (opt.outf, epoch))\n"
   ]
  },
  {
   "cell_type": "code",
   "execution_count": null,
   "metadata": {},
   "outputs": [],
   "source": []
  }
 ],
 "metadata": {
  "kernelspec": {
   "display_name": "Python 3",
   "language": "python",
   "name": "python3"
  },
  "language_info": {
   "codemirror_mode": {
    "name": "ipython",
    "version": 3
   },
   "file_extension": ".py",
   "mimetype": "text/x-python",
   "name": "python",
   "nbconvert_exporter": "python",
   "pygments_lexer": "ipython3",
   "version": "3.6.5"
  }
 },
 "nbformat": 4,
 "nbformat_minor": 2
}
