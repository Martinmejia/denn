{
 "cells": [
  {
   "cell_type": "code",
   "execution_count": 6,
   "metadata": {},
   "outputs": [],
   "source": [
    "import pde_nn.channel_flow as chan\n",
    "import matplotlib.pyplot as plt\n",
    "import numpy as np\n",
    "import utils"
   ]
  },
  {
   "cell_type": "code",
   "execution_count": 16,
   "metadata": {},
   "outputs": [
    {
     "name": "stdout",
     "output_type": "stream",
     "text": [
      "Calculating at Retau=180.0000018\n"
     ]
    }
   ],
   "source": [
    "# overall hypers\n",
    "pde_nn = chan.Chanflow()\n",
    "hypers=pde_nn.hypers\n",
    "retau=utils.calc_retau(hypers['delta'], hypers['dp_dx'], hypers['rho'], hypers['nu'])\n",
    "print('Calculating at Retau={}'.format(retau))\n",
    "\n",
    "# grid\n",
    "delta=hypers['delta']\n",
    "n = 1000\n",
    "y = np.linspace(hypers['ymin'], hypers['ymax'], n)\n",
    "delta_y = y[1] - y[0]\n",
    "u0 = np.ones_like(y)\n",
    "U_0, U_L = 0, 0"
   ]
  },
  {
   "cell_type": "code",
   "execution_count": 11,
   "metadata": {},
   "outputs": [
    {
     "data": {
      "text/plain": [
       "[<matplotlib.lines.Line2D at 0x11da67a58>]"
      ]
     },
     "execution_count": 11,
     "metadata": {},
     "output_type": "execute_result"
    },
    {
     "data": {
      "image/png": "[encoded data removed]",
      "text/plain": [
       "<Figure size 432x288 with 1 Axes>"
      ]
     },
     "metadata": {},
     "output_type": "display_data"
    }
   ],
   "source": [
    "plt.plot(u0, y)"
   ]
  },
  {
   "cell_type": "code",
   "execution_count": 8,
   "metadata": {},
   "outputs": [],
   "source": [
    "# just here for reference.\n",
    "# reynolds_stress_fn = lambda y, du_dy: -1*((hypers['k']*(np.abs(y)-delta))**2)*np.abs(du_dy)*du_dy\n",
    "# diffeq = lambda du2_dy2, dre_dy: hypers['nu']*du2_dy2 - dre_dy - (1/hypers['rho']) * hypers['dp_dx']"
   ]
  },
  {
   "cell_type": "code",
   "execution_count": 12,
   "metadata": {},
   "outputs": [],
   "source": [
    "def handle_boundary(u, i, n):\n",
    "    # careful with boundaries. contains {i-2, i-1, i, i+1, i+2}\n",
    "    # if we step on or beyond the boundary, just set to the boundary (check this assumption!)\n",
    "    # returns u[i-2], u[i-1], u[i], u[i+1], u[i+2] while respecting boundary conditions\n",
    "\n",
    "    if i==0: # far left\n",
    "        return U_0, U_0, u[i], u[i+1], u[i+2]\n",
    "    elif i==1: # second from left\n",
    "        return U_0, u[i-1], u[i], u[i+1], u[i+2]\n",
    "    elif i==n-2: # second from right\n",
    "        return u[i-2], u[i-1], u[i], u[i+1], U_L\n",
    "    elif i==n-1: # far right\n",
    "        return u[i-2], u[i-1], u[i], U_L, U_L\n",
    "    else: # no boundaries\n",
    "        return u[i-2], u[i-1], u[i], u[i+1], u[i+2]\n",
    "\n",
    "def Gf(u):\n",
    "    n = u.shape[0]\n",
    "    gvec = np.zeros(n)\n",
    "    for i in range(n):\n",
    "        \n",
    "        uim2, uim1, ui, uip1, uip2 = handle_boundary(u, i, n)\n",
    "        yim1, yip1 = y[i] - delta_y, y[i] + delta_y\n",
    "            \n",
    "        a = (hypers['nu'] / (delta_y ** 2)) * (uip1 - 2*ui + uim1) \n",
    "        fplus = (uip2 - ui) / (2*delta_y)\n",
    "        fminus = (ui - uim2) / (2*delta_y)\n",
    "        b = (1 / (2 * delta_y)) * ((hypers['k'] * np.abs(yip1 - delta)) ** 2) * np.abs(fplus) * fplus \n",
    "        c = (-1 / (2 * delta_y)) * ((hypers['k'] * np.abs(yim1 - delta)) ** 2) * np.abs(fminus) * fminus\n",
    "        d = (-1 / hypers['rho']) * hypers['dp_dx']\n",
    "        \n",
    "        gvec[i] = a + b + c + d\n",
    "        \n",
    "    return gvec\n",
    "\n",
    "def dGi_ui(u, i, eps=1e-8):\n",
    "    n = u.shape[0]\n",
    "    uim2, uim1, ui, uip1, uip2 = handle_boundary(u, i, n)\n",
    "    yim1, yip1 = y[i] - delta_y, y[i] + delta_y\n",
    "    \n",
    "    a = -2*hypers['nu'] / (delta_y**2)\n",
    "    b = (hypers['k']**2) / (2*delta_y)\n",
    "    \n",
    "    fplus = ((uip2 - ui)/(2*delta_y)) + eps\n",
    "    fminus = ((ui - uim2)/(2*delta_y)) + eps\n",
    "    \n",
    "    c1 = (np.abs(yip1-delta)**2)\n",
    "    c2 = (fplus**2) * (-1/(2*delta_y)) / np.abs(fplus)\n",
    "    c3 = np.abs(fplus) * (-1/(2*delta_y))\n",
    "    c = c1*(c2+c3)\n",
    "    \n",
    "    d1 = -(np.abs(yim1-delta)**2)\n",
    "    d2 = (fminus**2) * (1/(2*delta_y)) / np.abs(fminus)\n",
    "    d3 = np.abs(fminus) * (1/(2*delta_y))\n",
    "    d = d1*(d2+d3)\n",
    "    \n",
    "    return a + b * (c + d)\n",
    "\n",
    "def dGi_uim2(u, i, eps=1e-8):\n",
    "    n = u.shape[0]\n",
    "    uim2, uim1, ui, uip1, uip2 = handle_boundary(u, i, n)\n",
    "    yim1, yip1 = y[i] - delta_y, y[i] + delta_y\n",
    "    \n",
    "    a = -((hypers['k'] * np.abs(yim1 - delta))**2) / (2*delta_y)\n",
    "    fminus = ((ui - uim2) / (2*delta_y)) + eps\n",
    "    b = (fminus**2) * (-1/(2*delta_y)) / np.abs(fminus)\n",
    "    c = np.abs(fminus) * (-1/(2*delta_y))\n",
    "    \n",
    "    return a * (b + c)\n",
    "\n",
    "def dGi_uip2(u, i, eps=1e-8):\n",
    "    n = u.shape[0]\n",
    "    uim2, uim1, ui, uip1, uip2 = handle_boundary(u, i, n)\n",
    "    yim1, yip1 = y[i] - delta_y, y[i] + delta_y\n",
    "    \n",
    "    a = -((hypers['k'] * np.abs(yip1 - delta))**2) / (2*delta_y)\n",
    "    fplus = ((uip2 - ui) / (2*delta_y)) + eps\n",
    "    b = (fplus**2) * (1/(2*delta_y)) / np.abs(fplus)\n",
    "    c = np.abs(fplus) * (1/(2*delta_y))\n",
    "    \n",
    "    return a * (b + c)\n",
    "\n",
    "def jacobian(u, eps=1e-8):\n",
    "    # returns an entire column of jacobian\n",
    "    # careful with boundaries. contains {i-2, ..}\n",
    "    n = u.shape[0]\n",
    "    jac = np.zeros((n,n))\n",
    "    for i in range(n):\n",
    "        if i == 0:\n",
    "            jac[i,i]=dGi_ui(u, i, eps)\n",
    "            jac[i+1, i]=hypers['nu']/(delta_y**2)\n",
    "            jac[i+2, i]=dGi_uip2(u, i, eps)\n",
    "        elif i==1:\n",
    "            jac[i-1, i] = hypers['nu']/(delta_y**2)\n",
    "            jac[i, i] = dGi_ui(u, i, eps)\n",
    "            jac[i+1, i] = hypers['nu']/(delta_y**2)\n",
    "            jac[i+2, i] = dGi_uip2(u, i, eps)\n",
    "        elif i==n-2:\n",
    "            jac[i-2, i] = dGi_uim2(u, i, eps)\n",
    "            jac[i-1, i] = hypers['nu']/(delta_y**2)\n",
    "            jac[i, i] = dGi_ui(u, i, eps)\n",
    "            jac[i+1, i] = hypers['nu']/(delta_y**2)\n",
    "        elif i==n-1:\n",
    "            jac[i-2, i] = dGi_uim2(u, i, eps)\n",
    "            jac[i-1, i] = hypers['nu']/(delta_y**2)\n",
    "            jac[i, i] = dGi_ui(u, i, eps)\n",
    "        else:\n",
    "            jac[i-2, i] = dGi_uim2(u, i, eps)\n",
    "            jac[i-1, i] = hypers['nu']/(delta_y**2)\n",
    "            jac[i, i] = dGi_ui(u, i, eps)\n",
    "            jac[i+1, i] = hypers['nu']/(delta_y**2)\n",
    "            jac[i+2, i] = dGi_uip2(u, i, eps)\n",
    "        \n",
    "    return jac\n",
    "\n",
    "from tqdm import tqdm\n",
    "def newton(u0, tol=1e-14, max_iter=int(1e6), eps=1e-8):\n",
    "    u = u0\n",
    "    for it in range(max_iter):\n",
    "        G = Gf(u)\n",
    "        jac = jacobian(u, eps=eps)\n",
    "        delta_u = np.linalg.solve(jac, -G)\n",
    "        u = u + delta_u\n",
    "        max_du = np.max(delta_u)\n",
    "        if it % 100 == 0:\n",
    "            print('iter {}/{}: max delta_u = {}'.format(it, max_iter, max_du))\n",
    "        if max_du < tol:\n",
    "            break\n",
    "    return u"
   ]
  },
  {
   "cell_type": "code",
   "execution_count": 10,
   "metadata": {},
   "outputs": [
    {
     "name": "stdout",
     "output_type": "stream",
     "text": [
      "iter 0/10000: max delta_u = 0.03855644512830729\n",
      "iter 100/10000: max delta_u = 0.0020282803326753217\n",
      "iter 200/10000: max delta_u = 0.0014895083346951395\n",
      "iter 300/10000: max delta_u = 0.0012301743905994583\n",
      "iter 400/10000: max delta_u = 0.0010675974751501035\n",
      "iter 500/10000: max delta_u = 0.0009526122002163555\n",
      "iter 600/10000: max delta_u = 0.0008653593048811575\n",
      "iter 700/10000: max delta_u = 0.0007960365748260341\n",
      "iter 800/10000: max delta_u = 0.0007391215837475977\n",
      "iter 900/10000: max delta_u = 0.0006912141613377671\n",
      "iter 1000/10000: max delta_u = 0.0006501540553748823\n",
      "iter 1100/10000: max delta_u = 0.0006143877773098364\n",
      "iter 1200/10000: max delta_u = 0.0005828507608890527\n",
      "iter 1300/10000: max delta_u = 0.0005547572496129795\n",
      "iter 1400/10000: max delta_u = 0.0005295211710873306\n",
      "iter 1500/10000: max delta_u = 0.0005066646566465265\n",
      "iter 1600/10000: max delta_u = 0.0004858330224447975\n",
      "iter 1700/10000: max delta_u = 0.00046674091244194\n",
      "iter 1800/10000: max delta_u = 0.0004491559125083845\n",
      "iter 1900/10000: max delta_u = 0.0004328866441818672\n",
      "iter 2000/10000: max delta_u = 0.00041777395806824705\n",
      "iter 2100/10000: max delta_u = 0.0004036843208329627\n",
      "iter 2200/10000: max delta_u = 0.00039050478031079386\n",
      "iter 2300/10000: max delta_u = 0.00037813908672151863\n",
      "iter 2400/10000: max delta_u = 0.00036650468833034094\n",
      "iter 2500/10000: max delta_u = 0.000355537125151137\n",
      "iter 2600/10000: max delta_u = 0.0003451741513764779\n",
      "iter 2700/10000: max delta_u = 0.0003353549742248962\n",
      "iter 2800/10000: max delta_u = 0.0003260355348655785\n",
      "iter 2900/10000: max delta_u = 0.0003171822334172341\n",
      "iter 3000/10000: max delta_u = 0.0003087460435178468\n",
      "iter 3100/10000: max delta_u = 0.0003007028866826218\n",
      "iter 3200/10000: max delta_u = 0.00029302070112616484\n",
      "iter 3300/10000: max delta_u = 0.0002856705472817246\n",
      "iter 3400/10000: max delta_u = 0.0002786358921949245\n",
      "iter 3500/10000: max delta_u = 0.0002718861724099153\n",
      "iter 3600/10000: max delta_u = 0.00026541239744336216\n",
      "iter 3700/10000: max delta_u = 0.00025918702132541585\n",
      "iter 3800/10000: max delta_u = 0.000253202829317177\n",
      "iter 3900/10000: max delta_u = 0.0002474385850921728\n",
      "iter 4000/10000: max delta_u = 0.0002418847157097075\n",
      "iter 4100/10000: max delta_u = 0.0002365286022326989\n",
      "iter 4200/10000: max delta_u = 0.0002313553379267086\n",
      "iter 4300/10000: max delta_u = 0.00022636250037141875\n",
      "iter 4400/10000: max delta_u = 0.00022153218362626112\n",
      "iter 4500/10000: max delta_u = 0.00021686003703476643\n",
      "iter 4600/10000: max delta_u = 0.00021233821851101146\n",
      "iter 4700/10000: max delta_u = 0.00020795531634391055\n",
      "iter 4800/10000: max delta_u = 0.00020370868685044008\n",
      "iter 4900/10000: max delta_u = 0.00019959036794828917\n",
      "iter 5000/10000: max delta_u = 0.00019559185716869096\n",
      "iter 5100/10000: max delta_u = 0.0001917100397487069\n",
      "iter 5200/10000: max delta_u = 0.00018794044559293448\n",
      "iter 5300/10000: max delta_u = 0.00018427502752937862\n",
      "iter 5400/10000: max delta_u = 0.00018070934805986468\n",
      "iter 5500/10000: max delta_u = 0.00017724283323577788\n",
      "iter 5600/10000: max delta_u = 0.00017386825522295929\n",
      "iter 5700/10000: max delta_u = 0.00017058122163132687\n",
      "iter 5800/10000: max delta_u = 0.000167378224949538\n",
      "iter 5900/10000: max delta_u = 0.00016425850442361927\n",
      "iter 6000/10000: max delta_u = 0.00016121693808021124\n",
      "iter 6100/10000: max delta_u = 0.0001582497477325857\n",
      "iter 6200/10000: max delta_u = 0.00015535413799804863\n",
      "iter 6300/10000: max delta_u = 0.00015252745601626824\n",
      "iter 6400/10000: max delta_u = 0.00014976951425103662\n",
      "iter 6500/10000: max delta_u = 0.00014707545204588148\n",
      "iter 6600/10000: max delta_u = 0.0001444429734442988\n",
      "iter 6700/10000: max delta_u = 0.00014186988599505486\n",
      "iter 6800/10000: max delta_u = 0.00013935414390528182\n",
      "iter 6900/10000: max delta_u = 0.00013689377589652088\n",
      "iter 7000/10000: max delta_u = 0.00013448843619824462\n",
      "iter 7100/10000: max delta_u = 0.0001321348261942797\n",
      "iter 7200/10000: max delta_u = 0.00012983112609934338\n",
      "iter 7300/10000: max delta_u = 0.00012757572624510648\n",
      "iter 7400/10000: max delta_u = 0.00012536708296597424\n",
      "iter 7500/10000: max delta_u = 0.0001232037238085734\n",
      "iter 7600/10000: max delta_u = 0.00012108423930027366\n",
      "iter 7700/10000: max delta_u = 0.00011900728529242054\n",
      "iter 7800/10000: max delta_u = 0.0001169718188283248\n",
      "iter 7900/10000: max delta_u = 0.00011497688582166348\n",
      "iter 8000/10000: max delta_u = 0.00011302067697035682\n",
      "iter 8100/10000: max delta_u = 0.00011110206021173917\n",
      "iter 8200/10000: max delta_u = 0.00010921994937153996\n",
      "iter 8300/10000: max delta_u = 0.00010737330455473467\n",
      "iter 8400/10000: max delta_u = 0.00010556111831796089\n",
      "iter 8500/10000: max delta_u = 0.00010378243573484263\n",
      "iter 8600/10000: max delta_u = 0.00010203633097091015\n",
      "iter 8700/10000: max delta_u = 0.00010032191604143051\n",
      "iter 8800/10000: max delta_u = 9.863833701532988e-05\n",
      "iter 8900/10000: max delta_u = 9.698477413393873e-05\n",
      "iter 9000/10000: max delta_u = 9.536043600654044e-05\n",
      "iter 9100/10000: max delta_u = 9.376455364848449e-05\n",
      "iter 9200/10000: max delta_u = 9.219640546802456e-05\n",
      "iter 9300/10000: max delta_u = 9.06552809895842e-05\n",
      "iter 9400/10000: max delta_u = 8.914049973056806e-05\n",
      "iter 9500/10000: max delta_u = 8.765140568571017e-05\n",
      "iter 9600/10000: max delta_u = 8.61873662377409e-05\n",
      "iter 9700/10000: max delta_u = 8.474777112388906e-05\n",
      "iter 9800/10000: max delta_u = 8.333203139752299e-05\n",
      "iter 9900/10000: max delta_u = 8.19395789508589e-05\n"
     ]
    }
   ],
   "source": [
    "u_star5 = newton(u0, tol=1e-6, max_iter=int(1e4), eps=1e-8)"
   ]
  },
  {
   "cell_type": "code",
   "execution_count": 11,
   "metadata": {},
   "outputs": [
    {
     "data": {
      "text/plain": [
       "[<matplotlib.lines.Line2D at 0x120fcbcc0>]"
      ]
     },
     "execution_count": 11,
     "metadata": {},
     "output_type": "execute_result"
    },
    {
     "data": {
      "image/png": "[encoded data removed]",
      "text/plain": [
       "<Figure size 432x288 with 1 Axes>"
      ]
     },
     "metadata": {},
     "output_type": "display_data"
    }
   ],
   "source": [
    "plt.plot(u_star5, y)"
   ]
  },
  {
   "cell_type": "markdown",
   "metadata": {},
   "source": [
    "## Scipy Root"
   ]
  },
  {
   "cell_type": "code",
   "execution_count": 14,
   "metadata": {},
   "outputs": [],
   "source": [
    "from scipy.optimize import root"
   ]
  },
  {
   "cell_type": "code",
   "execution_count": 17,
   "metadata": {},
   "outputs": [],
   "source": [
    "scipy_optimal_res = root(Gf, u0, jac=jacobian, method='lm')"
   ]
  },
  {
   "cell_type": "code",
   "execution_count": 18,
   "metadata": {},
   "outputs": [
    {
     "data": {
      "text/plain": [
       "True"
      ]
     },
     "execution_count": 18,
     "metadata": {},
     "output_type": "execute_result"
    }
   ],
   "source": [
    "scipy_optimal_res.success"
   ]
  },
  {
   "cell_type": "code",
   "execution_count": 19,
   "metadata": {},
   "outputs": [],
   "source": [
    "u_star = scipy_optimal_res.x"
   ]
  },
  {
   "cell_type": "code",
   "execution_count": 20,
   "metadata": {},
   "outputs": [
    {
     "data": {
      "text/plain": [
       "[<matplotlib.lines.Line2D at 0x101ed4cc88>]"
      ]
     },
     "execution_count": 20,
     "metadata": {},
     "output_type": "execute_result"
    },
    {
     "data": {
      "image/png": "[encoded data removed]",
      "text/plain": [
       "<Figure size 432x288 with 1 Axes>"
      ]
     },
     "metadata": {},
     "output_type": "display_data"
    }
   ],
   "source": [
    "plt.plot(u_star, y)"
   ]
  },
  {
   "cell_type": "code",
   "execution_count": 34,
   "metadata": {},
   "outputs": [],
   "source": [
    "scipy_optimal_res = root(Gf, u0, method='df-sane')"
   ]
  },
  {
   "cell_type": "code",
   "execution_count": 35,
   "metadata": {},
   "outputs": [
    {
     "data": {
      "text/plain": [
       "False"
      ]
     },
     "execution_count": 35,
     "metadata": {},
     "output_type": "execute_result"
    }
   ],
   "source": [
    "scipy_optimal_res.success"
   ]
  },
  {
   "cell_type": "code",
   "execution_count": 36,
   "metadata": {},
   "outputs": [],
   "source": [
    "u_star = scipy_optimal_res.x"
   ]
  },
  {
   "cell_type": "code",
   "execution_count": 37,
   "metadata": {},
   "outputs": [
    {
     "data": {
      "text/plain": [
       "[<matplotlib.lines.Line2D at 0x102a149a90>]"
      ]
     },
     "execution_count": 37,
     "metadata": {},
     "output_type": "execute_result"
    },
    {
     "data": {
      "image/png": "[encoded data removed]",
      "text/plain": [
       "<Figure size 432x288 with 1 Axes>"
      ]
     },
     "metadata": {},
     "output_type": "display_data"
    }
   ],
   "source": [
    "plt.plot(u_star, y)"
   ]
  },
  {
   "cell_type": "code",
   "execution_count": null,
   "metadata": {},
   "outputs": [
    {
     "name": "stderr",
     "output_type": "stream",
     "text": [
      "/anaconda3/lib/python3.6/site-packages/scipy/optimize/nonlin.py:1000: RuntimeWarning: invalid value encountered in true_divide\n",
      "  d = v / vdot(df, v)\n"
     ]
    }
   ],
   "source": [
    "scipy_optimal_res = root(Gf, u0, method='broyden1')"
   ]
  },
  {
   "cell_type": "code",
   "execution_count": null,
   "metadata": {},
   "outputs": [],
   "source": [
    "scipy_optimal_res.success"
   ]
  },
  {
   "cell_type": "code",
   "execution_count": null,
   "metadata": {},
   "outputs": [],
   "source": []
  },
  {
   "cell_type": "markdown",
   "metadata": {},
   "source": [
    "## NL Opt"
   ]
  },
  {
   "cell_type": "code",
   "execution_count": null,
   "metadata": {},
   "outputs": [],
   "source": []
  },
  {
   "cell_type": "markdown",
   "metadata": {},
   "source": [
    "## Scipy Least Squares"
   ]
  },
  {
   "cell_type": "code",
   "execution_count": 21,
   "metadata": {},
   "outputs": [],
   "source": [
    "from scipy.optimize import least_squares"
   ]
  },
  {
   "cell_type": "code",
   "execution_count": 25,
   "metadata": {},
   "outputs": [],
   "source": [
    "u_ls = least_squares(Gf, u0)"
   ]
  },
  {
   "cell_type": "code",
   "execution_count": 26,
   "metadata": {},
   "outputs": [
    {
     "data": {
      "text/plain": [
       "[<matplotlib.lines.Line2D at 0x10298280b8>]"
      ]
     },
     "execution_count": 26,
     "metadata": {},
     "output_type": "execute_result"
    },
    {
     "data": {
      "image/png": "[encoded data removed]",
      "text/plain": [
       "<Figure size 432x288 with 1 Axes>"
      ]
     },
     "metadata": {},
     "output_type": "display_data"
    }
   ],
   "source": [
    "plt.plot(u_ls.x, y)"
   ]
  },
  {
   "cell_type": "code",
   "execution_count": null,
   "metadata": {},
   "outputs": [],
   "source": []
  }
 ],
 "metadata": {
  "kernelspec": {
   "display_name": "Python 3",
   "language": "python",
   "name": "python3"
  },
  "language_info": {
   "codemirror_mode": {
    "name": "ipython",
    "version": 3
   },
   "file_extension": ".py",
   "mimetype": "text/x-python",
   "name": "python",
   "nbconvert_exporter": "python",
   "pygments_lexer": "ipython3",
   "version": "3.6.5"
  }
 },
 "nbformat": 4,
 "nbformat_minor": 2
}
