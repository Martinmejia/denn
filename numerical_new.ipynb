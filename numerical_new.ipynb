{
 "cells": [
  {
   "cell_type": "code",
   "execution_count": 1,
   "metadata": {},
   "outputs": [],
   "source": [
    "import pde_nn.channel_flow as chan\n",
    "import matplotlib.pyplot as plt\n",
    "import numpy as np\n",
    "import utils"
   ]
  },
  {
   "cell_type": "code",
   "execution_count": 22,
   "metadata": {},
   "outputs": [
    {
     "name": "stdout",
     "output_type": "stream",
     "text": [
      "Calculating at Retau=180.0000018\n"
     ]
    }
   ],
   "source": [
    "# overall hypers\n",
    "pde_nn = chan.Chanflow()\n",
    "hypers=pde_nn.hypers\n",
    "# hypers['nu']=0.001\n",
    "retau=utils.calc_retau(hypers['delta'], hypers['dp_dx'], hypers['rho'], hypers['nu'])\n",
    "print('Calculating at Retau={}'.format(retau))\n",
    "\n",
    "# grid\n",
    "delta=hypers['delta']\n",
    "n = 1000\n",
    "y = np.linspace(hypers['ymin'], hypers['ymax'], n)\n",
    "delta_y = y[1] - y[0]\n",
    "u0 = np.ones_like(y)\n",
    "U_0, U_L = 0, 0"
   ]
  },
  {
   "cell_type": "code",
   "execution_count": 3,
   "metadata": {},
   "outputs": [
    {
     "data": {
      "text/plain": [
       "[<matplotlib.lines.Line2D at 0x11107c0f0>]"
      ]
     },
     "execution_count": 3,
     "metadata": {},
     "output_type": "execute_result"
    },
    {
     "data": {
      "image/png": "[encoded data removed]",
      "text/plain": [
       "<Figure size 432x288 with 1 Axes>"
      ]
     },
     "metadata": {},
     "output_type": "display_data"
    }
   ],
   "source": [
    "plt.plot(u0, y)"
   ]
  },
  {
   "cell_type": "code",
   "execution_count": 4,
   "metadata": {},
   "outputs": [],
   "source": [
    "# just here for reference.\n",
    "# reynolds_stress_fn = lambda y, du_dy: -1*((hypers['k']*(np.abs(y)-delta))**2)*np.abs(du_dy)*du_dy\n",
    "# diffeq = lambda du2_dy2, dre_dy: hypers['nu']*du2_dy2 - dre_dy - (1/hypers['rho']) * hypers['dp_dx']"
   ]
  },
  {
   "cell_type": "code",
   "execution_count": 4,
   "metadata": {},
   "outputs": [],
   "source": [
    "def handle_boundary(u, i, n):\n",
    "    # careful with boundaries. contains {i-2, i-1, i, i+1, i+2}\n",
    "    # if we step on or beyond the boundary, just set to the boundary (check this assumption!)\n",
    "    # returns u[i-2], u[i-1], u[i], u[i+1], u[i+2] while respecting boundary conditions\n",
    "\n",
    "    if i==0: # far left\n",
    "        return U_0, U_0, u[i], u[i+1], u[i+2]\n",
    "    elif i==1: # second from left\n",
    "        return U_0, u[i-1], u[i], u[i+1], u[i+2]\n",
    "    elif i==n-2: # second from right\n",
    "        return u[i-2], u[i-1], u[i], u[i+1], U_L\n",
    "    elif i==n-1: # far right\n",
    "        return u[i-2], u[i-1], u[i], U_L, U_L\n",
    "    else: # no boundaries\n",
    "        return u[i-2], u[i-1], u[i], u[i+1], u[i+2]\n",
    "\n",
    "def Gf(u):\n",
    "    n = u.shape[0]\n",
    "    gvec = np.zeros(n)\n",
    "    for i in range(n):\n",
    "        \n",
    "        uim2, uim1, ui, uip1, uip2 = handle_boundary(u, i, n)\n",
    "        yim1, yip1 = y[i] - delta_y, y[i] + delta_y\n",
    "            \n",
    "        a = (hypers['nu'] / (delta_y ** 2)) * (uip1 - 2*ui + uim1) \n",
    "        fplus = (uip2 - ui) / (2*delta_y)\n",
    "        fminus = (ui - uim2) / (2*delta_y)\n",
    "        b = (1 / (2 * delta_y)) * ((hypers['k'] * np.abs(yip1 - delta)) ** 2) * np.abs(fplus) * fplus \n",
    "        c = (-1 / (2 * delta_y)) * ((hypers['k'] * np.abs(yim1 - delta)) ** 2) * np.abs(fminus) * fminus\n",
    "        d = (-1 / hypers['rho']) * hypers['dp_dx']\n",
    "        \n",
    "        gvec[i] = a + b + c + d\n",
    "        \n",
    "    return gvec\n",
    "\n",
    "def dGi_ui(u, i, eps=1e-8):\n",
    "    n = u.shape[0]\n",
    "    uim2, uim1, ui, uip1, uip2 = handle_boundary(u, i, n)\n",
    "    yim1, yip1 = y[i] - delta_y, y[i] + delta_y\n",
    "    \n",
    "    a = -2*hypers['nu'] / (delta_y**2)\n",
    "    b = (hypers['k']**2) / (2*delta_y)\n",
    "    \n",
    "    fplus = ((uip2 - ui)/(2*delta_y)) + eps\n",
    "    fminus = ((ui - uim2)/(2*delta_y)) + eps\n",
    "    \n",
    "    c1 = (np.abs(yip1-delta)**2)\n",
    "    c2 = (fplus**2) * (-1/(2*delta_y)) / np.abs(fplus)\n",
    "    c3 = np.abs(fplus) * (-1/(2*delta_y))\n",
    "    c = c1*(c2+c3)\n",
    "    \n",
    "    d1 = -(np.abs(yim1-delta)**2)\n",
    "    d2 = (fminus**2) * (1/(2*delta_y)) / np.abs(fminus)\n",
    "    d3 = np.abs(fminus) * (1/(2*delta_y))\n",
    "    d = d1*(d2+d3)\n",
    "    \n",
    "    return a + b * (c + d)\n",
    "\n",
    "def dGi_uim2(u, i, eps=1e-8):\n",
    "    n = u.shape[0]\n",
    "    uim2, uim1, ui, uip1, uip2 = handle_boundary(u, i, n)\n",
    "    yim1, yip1 = y[i] - delta_y, y[i] + delta_y\n",
    "    \n",
    "    a = -((hypers['k'] * np.abs(yim1 - delta))**2) / (2*delta_y)\n",
    "    fminus = ((ui - uim2) / (2*delta_y)) + eps\n",
    "    b = (fminus**2) * (-1/(2*delta_y)) / np.abs(fminus)\n",
    "    c = np.abs(fminus) * (-1/(2*delta_y))\n",
    "    \n",
    "    return a * (b + c)\n",
    "\n",
    "def dGi_uip2(u, i, eps=1e-8):\n",
    "    n = u.shape[0]\n",
    "    uim2, uim1, ui, uip1, uip2 = handle_boundary(u, i, n)\n",
    "    yim1, yip1 = y[i] - delta_y, y[i] + delta_y\n",
    "    \n",
    "    a = -((hypers['k'] * np.abs(yip1 - delta))**2) / (2*delta_y)\n",
    "    fplus = ((uip2 - ui) / (2*delta_y)) + eps\n",
    "    b = (fplus**2) * (1/(2*delta_y)) / np.abs(fplus)\n",
    "    c = np.abs(fplus) * (1/(2*delta_y))\n",
    "    \n",
    "    return a * (b + c)\n",
    "\n",
    "def jacobian(u, eps=1e-8):\n",
    "    # returns an entire column of jacobian\n",
    "    # careful with boundaries. contains {i-2, ..}\n",
    "    n = u.shape[0]\n",
    "    jac = np.zeros((n,n))\n",
    "    for i in range(n):\n",
    "        if i == 0:\n",
    "            jac[i,i]=dGi_ui(u, i, eps)\n",
    "            jac[i+1, i]=hypers['nu']/(delta_y**2)\n",
    "            jac[i+2, i]=dGi_uip2(u, i, eps)\n",
    "        elif i==1:\n",
    "            jac[i-1, i] = hypers['nu']/(delta_y**2)\n",
    "            jac[i, i] = dGi_ui(u, i, eps)\n",
    "            jac[i+1, i] = hypers['nu']/(delta_y**2)\n",
    "            jac[i+2, i] = dGi_uip2(u, i, eps)\n",
    "        elif i==n-2:\n",
    "            jac[i-2, i] = dGi_uim2(u, i, eps)\n",
    "            jac[i-1, i] = hypers['nu']/(delta_y**2)\n",
    "            jac[i, i] = dGi_ui(u, i, eps)\n",
    "            jac[i+1, i] = hypers['nu']/(delta_y**2)\n",
    "        elif i==n-1:\n",
    "            jac[i-2, i] = dGi_uim2(u, i, eps)\n",
    "            jac[i-1, i] = hypers['nu']/(delta_y**2)\n",
    "            jac[i, i] = dGi_ui(u, i, eps)\n",
    "        else:\n",
    "            jac[i-2, i] = dGi_uim2(u, i, eps)\n",
    "            jac[i-1, i] = hypers['nu']/(delta_y**2)\n",
    "            jac[i, i] = dGi_ui(u, i, eps)\n",
    "            jac[i+1, i] = hypers['nu']/(delta_y**2)\n",
    "            jac[i+2, i] = dGi_uip2(u, i, eps)\n",
    "        \n",
    "    return jac\n",
    "\n",
    "from tqdm import tqdm\n",
    "def newton(u0, tol=1e-14, max_iter=int(1e6), eps=1e-8):\n",
    "    u = u0\n",
    "    for it in range(max_iter):\n",
    "        G = Gf(u)\n",
    "        jac = jacobian(u, eps=eps)\n",
    "        delta_u = np.linalg.solve(jac, -G)\n",
    "        u = u + delta_u\n",
    "        max_du = np.max(delta_u)\n",
    "        if it % 100 == 0:\n",
    "            print('iter {}/{}: max delta_u = {}'.format(it, max_iter, max_du))\n",
    "        if max_du < tol:\n",
    "            break\n",
    "    return u"
   ]
  },
  {
   "cell_type": "markdown",
   "metadata": {},
   "source": [
    "## Scipy Root"
   ]
  },
  {
   "cell_type": "code",
   "execution_count": 7,
   "metadata": {},
   "outputs": [],
   "source": [
    "from scipy.optimize import root"
   ]
  },
  {
   "cell_type": "code",
   "execution_count": 17,
   "metadata": {},
   "outputs": [],
   "source": [
    "scipy_optimal_res = root(Gf, u0, jac=jacobian, method='lm')"
   ]
  },
  {
   "cell_type": "code",
   "execution_count": 18,
   "metadata": {},
   "outputs": [
    {
     "data": {
      "text/plain": [
       "True"
      ]
     },
     "execution_count": 18,
     "metadata": {},
     "output_type": "execute_result"
    }
   ],
   "source": [
    "scipy_optimal_res.success"
   ]
  },
  {
   "cell_type": "code",
   "execution_count": 19,
   "metadata": {},
   "outputs": [],
   "source": [
    "u_star = scipy_optimal_res.x"
   ]
  },
  {
   "cell_type": "code",
   "execution_count": 20,
   "metadata": {},
   "outputs": [
    {
     "data": {
      "text/plain": [
       "[<matplotlib.lines.Line2D at 0x101ed4cc88>]"
      ]
     },
     "execution_count": 20,
     "metadata": {},
     "output_type": "execute_result"
    },
    {
     "data": {
      "image/png": "[encoded data removed]",
      "text/plain": [
       "<Figure size 432x288 with 1 Axes>"
      ]
     },
     "metadata": {},
     "output_type": "display_data"
    }
   ],
   "source": [
    "plt.plot(u_star, y)"
   ]
  },
  {
   "cell_type": "markdown",
   "metadata": {},
   "source": [
    "## Use Numpy gradient + Scipy Root"
   ]
  },
  {
   "cell_type": "code",
   "execution_count": 55,
   "metadata": {},
   "outputs": [],
   "source": [
    "ls = np.load('data/mixlen_numerical_u180.npy') #previous result"
   ]
  },
  {
   "cell_type": "code",
   "execution_count": 5,
   "metadata": {},
   "outputs": [],
   "source": [
    "reynolds_stress_fn = lambda y, du_dy: -1*((hypers['k']*(np.abs(y)-delta))**2)*np.abs(du_dy)*du_dy\n",
    "diffeq = lambda du2_dy2, dre_dy: hypers['nu']*du2_dy2 - dre_dy - (1/hypers['rho']) * hypers['dp_dx']"
   ]
  },
  {
   "cell_type": "code",
   "execution_count": 23,
   "metadata": {},
   "outputs": [],
   "source": [
    "def Gf_np(u):\n",
    "    u[0],u[-1]=0,0\n",
    "    du_dy = np.gradient(u, delta_y, edge_order=2)\n",
    "    dre_dy = np.gradient(reynolds_stress_fn(y, du_dy), delta_y, edge_order=2)\n",
    "    du2_dy2 = np.gradient(du_dy, delta_y, edge_order=2)\n",
    "    return diffeq(du2_dy2, dre_dy)\n",
    "\n",
    "scipy_opt = root(Gf_np, u0, method='lm')"
   ]
  },
  {
   "cell_type": "code",
   "execution_count": 24,
   "metadata": {},
   "outputs": [
    {
     "data": {
      "text/plain": [
       "True"
      ]
     },
     "execution_count": 24,
     "metadata": {},
     "output_type": "execute_result"
    }
   ],
   "source": [
    "scipy_opt.success"
   ]
  },
  {
   "cell_type": "code",
   "execution_count": 56,
   "metadata": {},
   "outputs": [
    {
     "data": {
      "image/png": "[encoded data removed]",
      "text/plain": [
       "<Figure size 432x288 with 1 Axes>"
      ]
     },
     "metadata": {},
     "output_type": "display_data"
    }
   ],
   "source": [
    "plt.plot(scipy_opt.x, y)\n",
    "plt.plot(ls, y, '--');"
   ]
  },
  {
   "cell_type": "markdown",
   "metadata": {},
   "source": [
    "## retau 1k"
   ]
  },
  {
   "cell_type": "code",
   "execution_count": 35,
   "metadata": {},
   "outputs": [],
   "source": [
    "hypers['nu']=0.001"
   ]
  },
  {
   "cell_type": "code",
   "execution_count": 36,
   "metadata": {},
   "outputs": [],
   "source": [
    "scipy_opt1k = root(Gf_np, scipy_opt.x, method='lm')"
   ]
  },
  {
   "cell_type": "code",
   "execution_count": 37,
   "metadata": {},
   "outputs": [
    {
     "data": {
      "text/plain": [
       "True"
      ]
     },
     "execution_count": 37,
     "metadata": {},
     "output_type": "execute_result"
    }
   ],
   "source": [
    "scipy_opt1k.success"
   ]
  },
  {
   "cell_type": "code",
   "execution_count": 47,
   "metadata": {},
   "outputs": [],
   "source": [
    "prev1k = np.load('data/mixlen_numerical_u1000.npy')"
   ]
  },
  {
   "cell_type": "code",
   "execution_count": 48,
   "metadata": {},
   "outputs": [
    {
     "data": {
      "image/png": "[encoded data removed]",
      "text/plain": [
       "<Figure size 432x288 with 1 Axes>"
      ]
     },
     "metadata": {},
     "output_type": "display_data"
    }
   ],
   "source": [
    "plt.plot(scipy_opt1k.x, y)\n",
    "plt.plot(prev1k, y, '--');"
   ]
  },
  {
   "cell_type": "markdown",
   "metadata": {},
   "source": [
    "## Retau 550"
   ]
  },
  {
   "cell_type": "code",
   "execution_count": 49,
   "metadata": {},
   "outputs": [],
   "source": [
    "hypers['nu']=0.001818181818"
   ]
  },
  {
   "cell_type": "code",
   "execution_count": 50,
   "metadata": {},
   "outputs": [],
   "source": [
    "scipy_opt550 = root(Gf_np, scipy_opt.x, method='lm')"
   ]
  },
  {
   "cell_type": "code",
   "execution_count": 51,
   "metadata": {},
   "outputs": [
    {
     "data": {
      "text/plain": [
       "True"
      ]
     },
     "execution_count": 51,
     "metadata": {},
     "output_type": "execute_result"
    }
   ],
   "source": [
    "scipy_opt550.success"
   ]
  },
  {
   "cell_type": "code",
   "execution_count": 63,
   "metadata": {},
   "outputs": [],
   "source": [
    "prev550 = np.load('data/mixlen_numerical_u550.npy')"
   ]
  },
  {
   "cell_type": "code",
   "execution_count": 64,
   "metadata": {},
   "outputs": [
    {
     "data": {
      "image/png": "[encoded data removed]",
      "text/plain": [
       "<Figure size 432x288 with 1 Axes>"
      ]
     },
     "metadata": {},
     "output_type": "display_data"
    }
   ],
   "source": [
    "plt.plot(scipy_opt550.x, y)\n",
    "plt.plot(prev550, y, '--');"
   ]
  },
  {
   "cell_type": "code",
   "execution_count": 62,
   "metadata": {},
   "outputs": [],
   "source": [
    "np.save('data/mixlen_numerical_u550.npy', scipy_opt550.x)"
   ]
  },
  {
   "cell_type": "code",
   "execution_count": null,
   "metadata": {},
   "outputs": [],
   "source": []
  }
 ],
 "metadata": {
  "kernelspec": {
   "display_name": "Python 3",
   "language": "python",
   "name": "python3"
  },
  "language_info": {
   "codemirror_mode": {
    "name": "ipython",
    "version": 3
   },
   "file_extension": ".py",
   "mimetype": "text/x-python",
   "name": "python",
   "nbconvert_exporter": "python",
   "pygments_lexer": "ipython3",
   "version": "3.6.5"
  }
 },
 "nbformat": 4,
 "nbformat_minor": 2
}
