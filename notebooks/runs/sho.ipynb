{
 "cells": [
  {
   "cell_type": "code",
   "execution_count": 1,
   "metadata": {},
   "outputs": [],
   "source": [
    "from ray.tune import Analysis"
   ]
  },
  {
   "cell_type": "code",
   "execution_count": 2,
   "metadata": {},
   "outputs": [],
   "source": [
    "an = Analysis('/Users/dylanrandle/ray_results/gan_tuning_sho/')"
   ]
  },
  {
   "cell_type": "code",
   "execution_count": 12,
   "metadata": {},
   "outputs": [
    {
     "data": {
      "text/html": [
       "<div>\n",
       "<style scoped>\n",
       "    .dataframe tbody tr th:only-of-type {\n",
       "        vertical-align: middle;\n",
       "    }\n",
       "\n",
       "    .dataframe tbody tr th {\n",
       "        vertical-align: top;\n",
       "    }\n",
       "\n",
       "    .dataframe thead th {\n",
       "        text-align: right;\n",
       "    }\n",
       "</style>\n",
       "<table border=\"1\" class=\"dataframe\">\n",
       "  <thead>\n",
       "    <tr style=\"text-align: right;\">\n",
       "      <th></th>\n",
       "      <th>mean_squared_error</th>\n",
       "      <th>experiment_tag</th>\n",
       "    </tr>\n",
       "  </thead>\n",
       "  <tbody>\n",
       "    <tr>\n",
       "      <th>1</th>\n",
       "      <td>0.151774</td>\n",
       "      <td>68_d_lr=4.0406e-05,g_lr=0.0033005,niters=569</td>\n",
       "    </tr>\n",
       "    <tr>\n",
       "      <th>36</th>\n",
       "      <td>0.152463</td>\n",
       "      <td>140_d_lr=0.00010133,g_lr=0.0018932,niters=573</td>\n",
       "    </tr>\n",
       "    <tr>\n",
       "      <th>110</th>\n",
       "      <td>0.157979</td>\n",
       "      <td>169_d_lr=0.0063061,g_lr=0.0057575,niters=921</td>\n",
       "    </tr>\n",
       "    <tr>\n",
       "      <th>157</th>\n",
       "      <td>0.174439</td>\n",
       "      <td>33_d_lr=3.4354e-05,g_lr=0.0049365,niters=923</td>\n",
       "    </tr>\n",
       "    <tr>\n",
       "      <th>66</th>\n",
       "      <td>0.216396</td>\n",
       "      <td>108_d_lr=7.0806e-05,g_lr=0.00030248,niters=700</td>\n",
       "    </tr>\n",
       "  </tbody>\n",
       "</table>\n",
       "</div>"
      ],
      "text/plain": [
       "     mean_squared_error                                  experiment_tag\n",
       "1              0.151774    68_d_lr=4.0406e-05,g_lr=0.0033005,niters=569\n",
       "36             0.152463   140_d_lr=0.00010133,g_lr=0.0018932,niters=573\n",
       "110            0.157979    169_d_lr=0.0063061,g_lr=0.0057575,niters=921\n",
       "157            0.174439    33_d_lr=3.4354e-05,g_lr=0.0049365,niters=923\n",
       "66             0.216396  108_d_lr=7.0806e-05,g_lr=0.00030248,niters=700"
      ]
     },
     "execution_count": 12,
     "metadata": {},
     "output_type": "execute_result"
    }
   ],
   "source": [
    "df = an.dataframe()\n",
    "df.sort_values(by='mean_squared_error').head()[['mean_squared_error', 'experiment_tag']]"
   ]
  },
  {
   "cell_type": "code",
   "execution_count": 8,
   "metadata": {},
   "outputs": [
    {
     "data": {
      "text/plain": [
       "Index(['mean_squared_error', 'trial_id', 'training_iteration',\n",
       "       'time_this_iter_s', 'done', 'timesteps_total', 'episodes_total',\n",
       "       'experiment_id', 'date', 'timestamp', 'time_total_s', 'pid', 'hostname',\n",
       "       'node_ip', 'time_since_restore', 'timesteps_since_restore',\n",
       "       'iterations_since_restore', 'experiment_tag', 'config/discriminator',\n",
       "       'config/generator', 'config/problem', 'config/training', 'logdir'],\n",
       "      dtype='object')"
      ]
     },
     "execution_count": 8,
     "metadata": {},
     "output_type": "execute_result"
    }
   ],
   "source": [
    "df.columns"
   ]
  },
  {
   "cell_type": "code",
   "execution_count": null,
   "metadata": {},
   "outputs": [],
   "source": []
  }
 ],
 "metadata": {
  "kernelspec": {
   "display_name": "Python 3",
   "language": "python",
   "name": "python3"
  },
  "language_info": {
   "codemirror_mode": {
    "name": "ipython",
    "version": 3
   },
   "file_extension": ".py",
   "mimetype": "text/x-python",
   "name": "python",
   "nbconvert_exporter": "python",
   "pygments_lexer": "ipython3",
   "version": "3.7.3"
  }
 },
 "nbformat": 4,
 "nbformat_minor": 4
}
