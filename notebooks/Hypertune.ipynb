{
 "cells": [
  {
   "cell_type": "code",
   "execution_count": 2,
   "metadata": {},
   "outputs": [],
   "source": [
    "import pandas as pd\n",
    "import numpy as np\n",
    "import matplotlib.pyplot as plt"
   ]
  },
  {
   "cell_type": "code",
   "execution_count": 5,
   "metadata": {},
   "outputs": [],
   "source": [
    "hp = pd.read_csv('/Users/dylanrandle/Downloads/GAN_hyper_results.csv', index_col=0)"
   ]
  },
  {
   "cell_type": "code",
   "execution_count": 8,
   "metadata": {},
   "outputs": [],
   "source": [
    "srt = hp.sort_values(by='mean_mse')"
   ]
  },
  {
   "cell_type": "code",
   "execution_count": 11,
   "metadata": {},
   "outputs": [
    {
     "data": {
      "text/html": [
       "<div>\n",
       "<style scoped>\n",
       "    .dataframe tbody tr th:only-of-type {\n",
       "        vertical-align: middle;\n",
       "    }\n",
       "\n",
       "    .dataframe tbody tr th {\n",
       "        vertical-align: top;\n",
       "    }\n",
       "\n",
       "    .dataframe thead th {\n",
       "        text-align: right;\n",
       "    }\n",
       "</style>\n",
       "<table border=\"1\" class=\"dataframe\">\n",
       "  <thead>\n",
       "    <tr style=\"text-align: right;\">\n",
       "      <th></th>\n",
       "      <th>kwargs</th>\n",
       "      <th>mean_mse</th>\n",
       "      <th>std_mse</th>\n",
       "    </tr>\n",
       "  </thead>\n",
       "  <tbody>\n",
       "    <tr>\n",
       "      <th>1113</th>\n",
       "      <td>{'g_units': 32, 'g_layers': 4, 'd_units': 32, ...</td>\n",
       "      <td>0.000086</td>\n",
       "      <td>0.000040</td>\n",
       "    </tr>\n",
       "    <tr>\n",
       "      <th>1662</th>\n",
       "      <td>{'g_units': 64, 'g_layers': 2, 'd_units': 64, ...</td>\n",
       "      <td>0.000120</td>\n",
       "      <td>0.000030</td>\n",
       "    </tr>\n",
       "    <tr>\n",
       "      <th>1437</th>\n",
       "      <td>{'g_units': 32, 'g_layers': 8, 'd_units': 64, ...</td>\n",
       "      <td>0.000157</td>\n",
       "      <td>0.000048</td>\n",
       "    </tr>\n",
       "    <tr>\n",
       "      <th>2169</th>\n",
       "      <td>{'g_units': 64, 'g_layers': 8, 'd_units': 64, ...</td>\n",
       "      <td>0.000161</td>\n",
       "      <td>0.000017</td>\n",
       "    </tr>\n",
       "    <tr>\n",
       "      <th>1659</th>\n",
       "      <td>{'g_units': 64, 'g_layers': 2, 'd_units': 64, ...</td>\n",
       "      <td>0.000163</td>\n",
       "      <td>0.000061</td>\n",
       "    </tr>\n",
       "  </tbody>\n",
       "</table>\n",
       "</div>"
      ],
      "text/plain": [
       "                                                 kwargs  mean_mse   std_mse\n",
       "1113  {'g_units': 32, 'g_layers': 4, 'd_units': 32, ...  0.000086  0.000040\n",
       "1662  {'g_units': 64, 'g_layers': 2, 'd_units': 64, ...  0.000120  0.000030\n",
       "1437  {'g_units': 32, 'g_layers': 8, 'd_units': 64, ...  0.000157  0.000048\n",
       "2169  {'g_units': 64, 'g_layers': 8, 'd_units': 64, ...  0.000161  0.000017\n",
       "1659  {'g_units': 64, 'g_layers': 2, 'd_units': 64, ...  0.000163  0.000061"
      ]
     },
     "execution_count": 11,
     "metadata": {},
     "output_type": "execute_result"
    }
   ],
   "source": [
    "srt.head()"
   ]
  },
  {
   "cell_type": "code",
   "execution_count": 26,
   "metadata": {},
   "outputs": [
    {
     "name": "stdout",
     "output_type": "stream",
     "text": [
      "8.633132771744083e-05\n",
      "{'g_units': 32, 'g_layers': 4, 'd_units': 32, 'd_layers': 8, 'd2_units': 16, 'd2_layers': 8, 'd2': 0.1}\n",
      "0.00012016576753618816\n",
      "{'g_units': 64, 'g_layers': 2, 'd_units': 64, 'd_layers': 4, 'd2_units': 32, 'd2_layers': 8, 'd2': 0.1}\n",
      "0.00015720674370337898\n",
      "{'g_units': 32, 'g_layers': 8, 'd_units': 64, 'd_layers': 8, 'd2_units': 16, 'd2_layers': 8, 'd2': 0.1}\n",
      "0.00016059627038581917\n",
      "{'g_units': 64, 'g_layers': 8, 'd_units': 64, 'd_layers': 8, 'd2_units': 32, 'd2_layers': 2, 'd2': 0.1}\n",
      "0.0001633453939575702\n",
      "{'g_units': 64, 'g_layers': 2, 'd_units': 64, 'd_layers': 4, 'd2_units': 32, 'd2_layers': 4, 'd2': 0.1}\n",
      "0.0001777224000155305\n",
      "{'g_units': 64, 'g_layers': 2, 'd_units': 64, 'd_layers': 2, 'd2_units': 16, 'd2_layers': 4, 'd2': 0.1}\n",
      "0.0001898638026129144\n",
      "{'g_units': 64, 'g_layers': 2, 'd_units': 64, 'd_layers': 8, 'd2_units': 16, 'd2_layers': 8, 'd2': 0.1}\n",
      "0.00020177390009242419\n",
      "{'g_units': 64, 'g_layers': 2, 'd_units': 64, 'd_layers': 2, 'd2_units': 32, 'd2_layers': 2, 'd2': 0.1}\n",
      "0.0002056380326393992\n",
      "{'g_units': 32, 'g_layers': 8, 'd_units': 64, 'd_layers': 8, 'd2_units': 32, 'd2_layers': 2, 'd2': 0.1}\n",
      "0.00020609478330394876\n",
      "{'g_units': 16, 'g_layers': 8, 'd_units': 64, 'd_layers': 4, 'd2_units': 32, 'd2_layers': 4, 'd2': 0.1}\n"
     ]
    }
   ],
   "source": [
    "for i in range(10):\n",
    "    print(srt.iloc[i].mean_mse)\n",
    "    print(srt.iloc[i].kwargs)"
   ]
  },
  {
   "cell_type": "code",
   "execution_count": 16,
   "metadata": {},
   "outputs": [
    {
     "data": {
      "text/plain": [
       "(2187, 3)"
      ]
     },
     "execution_count": 16,
     "metadata": {},
     "output_type": "execute_result"
    }
   ],
   "source": [
    "srt.shape"
   ]
  },
  {
   "cell_type": "code",
   "execution_count": 29,
   "metadata": {},
   "outputs": [
    {
     "data": {
      "text/plain": [
       "Text(0.5, 0, 'Top $i^{th}$ Setting')"
      ]
     },
     "execution_count": 29,
     "metadata": {},
     "output_type": "execute_result"
    },
    {
     "data": {
      "image/png": "[encoded data removed]",
      "text/plain": [
       "<Figure size 432x288 with 1 Axes>"
      ]
     },
     "metadata": {
      "needs_background": "light"
     },
     "output_type": "display_data"
    }
   ],
   "source": [
    "plt.errorbar(range(10), srt.mean_mse.iloc[0:10], yerr=srt.std_mse.iloc[0:10], fmt='o')\n",
    "plt.yscale('log')\n",
    "plt.ylabel('log MSE')\n",
    "plt.xlabel('Top $i^{th}$ Setting')"
   ]
  },
  {
   "cell_type": "code",
   "execution_count": null,
   "metadata": {},
   "outputs": [],
   "source": []
  }
 ],
 "metadata": {
  "kernelspec": {
   "display_name": "Python 3",
   "language": "python",
   "name": "python3"
  },
  "language_info": {
   "codemirror_mode": {
    "name": "ipython",
    "version": 3
   },
   "file_extension": ".py",
   "mimetype": "text/x-python",
   "name": "python",
   "nbconvert_exporter": "python",
   "pygments_lexer": "ipython3",
   "version": "3.7.3"
  }
 },
 "nbformat": 4,
 "nbformat_minor": 2
}
