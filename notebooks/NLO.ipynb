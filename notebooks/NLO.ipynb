{
 "cells": [
  {
   "cell_type": "markdown",
   "metadata": {},
   "source": [
    "# NLO: Non-Linear Oscillator\n",
    "\n",
    "http://web.physics.ucsb.edu/~fratus/phys103/LN/NLO.pdf"
   ]
  },
  {
   "cell_type": "code",
   "execution_count": 1,
   "metadata": {},
   "outputs": [],
   "source": [
    "import numpy as np\n",
    "import matplotlib.pyplot as plt\n",
    "from scipy import optimize"
   ]
  },
  {
   "cell_type": "markdown",
   "metadata": {},
   "source": [
    "General NLO:\n",
    "$$ \\ddot{x}+2 \\beta \\dot{x}+\\omega^{2} x+\\phi x^{2}+\\epsilon x^{3}=f(t) $$\n",
    "\n",
    "Duffing equation: $$ \\ddot{x} + \\omega^2 x + \\epsilon x^3 = 0$$ where $\\omega = \\sqrt{\\frac{k}{m}}$ where $k$ is a constant and $m$ is a mass, and $\\epsilon = \\frac{\\lambda}{6m}, \\lambda > 0$"
   ]
  },
  {
   "cell_type": "code",
   "execution_count": 2,
   "metadata": {},
   "outputs": [],
   "source": [
    "from denn.nlo.nlo_utils import NLO_PARAMS, nlo_eqn, numerical_solution"
   ]
  },
  {
   "cell_type": "code",
   "execution_count": 3,
   "metadata": {},
   "outputs": [
    {
     "data": {
      "text/plain": [
       "{'omega': 1,\n",
       " 'epsilon': 0.1,\n",
       " 'beta': 0.1,\n",
       " 'phi': 1,\n",
       " 'F': 0.1,\n",
       " 'forcing': <function denn.nlo.nlo_utils.<lambda>(t)>,\n",
       " 'x0': 0,\n",
       " 'dx0': 0.5}"
      ]
     },
     "execution_count": 3,
     "metadata": {},
     "output_type": "execute_result"
    }
   ],
   "source": [
    "NLO_PARAMS"
   ]
  },
  {
   "cell_type": "code",
   "execution_count": 4,
   "metadata": {},
   "outputs": [],
   "source": [
    "n = 100\n",
    "periods = 4\n",
    "t = np.linspace(0, periods * np.pi, n)"
   ]
  },
  {
   "cell_type": "code",
   "execution_count": 6,
   "metadata": {},
   "outputs": [
    {
     "name": "stdout",
     "output_type": "stream",
     "text": [
      "Numerical solution succes: True\n"
     ]
    }
   ],
   "source": [
    "x = numerical_solution(t)"
   ]
  },
  {
   "cell_type": "code",
   "execution_count": 8,
   "metadata": {},
   "outputs": [
    {
     "data": {
      "image/png": "[encoded data removed]",
      "text/plain": [
       "<Figure size 432x288 with 1 Axes>"
      ]
     },
     "metadata": {
      "needs_background": "light"
     },
     "output_type": "display_data"
    }
   ],
   "source": [
    "plt.plot(t, x, '-o');"
   ]
  },
  {
   "cell_type": "code",
   "execution_count": 235,
   "metadata": {},
   "outputs": [],
   "source": [
    "from denn.utils import Generator"
   ]
  },
  {
   "cell_type": "code",
   "execution_count": null,
   "metadata": {},
   "outputs": [],
   "source": []
  }
 ],
 "metadata": {
  "kernelspec": {
   "display_name": "Python 3",
   "language": "python",
   "name": "python3"
  },
  "language_info": {
   "codemirror_mode": {
    "name": "ipython",
    "version": 3
   },
   "file_extension": ".py",
   "mimetype": "text/x-python",
   "name": "python",
   "nbconvert_exporter": "python",
   "pygments_lexer": "ipython3",
   "version": "3.7.3"
  }
 },
 "nbformat": 4,
 "nbformat_minor": 4
}
