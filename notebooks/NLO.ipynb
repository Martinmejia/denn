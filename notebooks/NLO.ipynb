{
 "cells": [
  {
   "cell_type": "markdown",
   "metadata": {},
   "source": [
    "# NLO: Non-Linear Oscillator\n",
    "\n",
    "http://web.physics.ucsb.edu/~fratus/phys103/LN/NLO.pdf"
   ]
  },
  {
   "cell_type": "code",
   "execution_count": 12,
   "metadata": {},
   "outputs": [],
   "source": [
    "import numpy as np\n",
    "import matplotlib.pyplot as plt\n",
    "from scipy import optimize"
   ]
  },
  {
   "cell_type": "markdown",
   "metadata": {},
   "source": [
    "General NLO:\n",
    "$$ \\ddot{x}+2 \\beta \\dot{x}+\\omega^{2} x+\\phi x^{2}+\\epsilon x^{3}=f(t) $$\n",
    "\n",
    "Duffing equation: $$ \\ddot{x} + \\omega^2 x + \\epsilon x^3 = 0$$ where $\\omega = \\sqrt{\\frac{k}{m}}$ where $k$ is a constant and $m$ is a mass, and $\\epsilon = \\frac{\\lambda}{6m}, \\lambda > 0$"
   ]
  },
  {
   "cell_type": "code",
   "execution_count": 139,
   "metadata": {},
   "outputs": [],
   "source": [
    "n = 100\n",
    "periods = 5\n",
    "t = np.linspace(0, periods * np.pi, 100)\n",
    "dt = t[1] - t[0]"
   ]
  },
  {
   "cell_type": "code",
   "execution_count": 161,
   "metadata": {},
   "outputs": [],
   "source": [
    "def get_diff(x, x0 = 0, dx0 = .5):\n",
    "    x[0] = x0\n",
    "    dx = np.gradient(x, dt, edge_order = 2)\n",
    "    dx[0] = dx0\n",
    "    d2x = np.gradient(dx, dt, edge_order = 2)\n",
    "    return nlo(d2x, dx, x)"
   ]
  },
  {
   "cell_type": "code",
   "execution_count": 162,
   "metadata": {},
   "outputs": [],
   "source": [
    "guess = np.ones_like(t)"
   ]
  },
  {
   "cell_type": "code",
   "execution_count": 182,
   "metadata": {},
   "outputs": [],
   "source": [
    "omega = 1\n",
    "epsilon = .05\n",
    "beta = .1\n",
    "phi = .1\n",
    "F = .0\n",
    "forcing = lambda x: F * np.sin(x)\n",
    "nlo = lambda d2x, dx, x: d2x + 2 * beta * dx + (omega ** 2) * x + phi * (x ** 2) + epsilon * (x ** 3) - forcing(x)"
   ]
  },
  {
   "cell_type": "code",
   "execution_count": 183,
   "metadata": {},
   "outputs": [],
   "source": [
    "opt_sol = optimize.root(get_diff, guess, method='lm')"
   ]
  },
  {
   "cell_type": "code",
   "execution_count": 184,
   "metadata": {},
   "outputs": [
    {
     "data": {
      "text/plain": [
       "(True,\n",
       " 'Both actual and predicted relative reductions in the sum of squares\\n  are at most 0.000000 and the relative error between two consecutive iterates is at \\n  most 0.000000')"
      ]
     },
     "execution_count": 184,
     "metadata": {},
     "output_type": "execute_result"
    }
   ],
   "source": [
    "opt_sol.success, opt_sol.message"
   ]
  },
  {
   "cell_type": "code",
   "execution_count": 186,
   "metadata": {},
   "outputs": [
    {
     "data": {
      "text/plain": [
       "<matplotlib.legend.Legend at 0x101d516dd8>"
      ]
     },
     "execution_count": 186,
     "metadata": {},
     "output_type": "execute_result"
    },
    {
     "data": {
      "image/png": "[encoded data removed]",
      "text/plain": [
       "<Figure size 432x288 with 1 Axes>"
      ]
     },
     "metadata": {
      "needs_background": "light"
     },
     "output_type": "display_data"
    }
   ],
   "source": [
    "plt.plot(t, opt_sol.x, label='nlo')\n",
    "plt.legend()"
   ]
  },
  {
   "cell_type": "code",
   "execution_count": null,
   "metadata": {},
   "outputs": [],
   "source": []
  }
 ],
 "metadata": {
  "kernelspec": {
   "display_name": "Python 3",
   "language": "python",
   "name": "python3"
  },
  "language_info": {
   "codemirror_mode": {
    "name": "ipython",
    "version": 3
   },
   "file_extension": ".py",
   "mimetype": "text/x-python",
   "name": "python",
   "nbconvert_exporter": "python",
   "pygments_lexer": "ipython3",
   "version": "3.7.3"
  }
 },
 "nbformat": 4,
 "nbformat_minor": 4
}
