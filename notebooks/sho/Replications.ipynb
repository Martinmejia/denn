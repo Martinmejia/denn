{
 "cells": [
  {
   "cell_type": "code",
   "execution_count": 1,
   "metadata": {},
   "outputs": [],
   "source": [
    "import pandas as pd"
   ]
  },
  {
   "cell_type": "code",
   "execution_count": 10,
   "metadata": {},
   "outputs": [],
   "source": [
    "# l2 = pd.read_csv('../../csvs/L2_SHO_replications.csv', index_col=0)\n",
    "l2 = pd.read_csv('../../results/csvs/L2_SHO_replications.csv', index_col=0)"
   ]
  },
  {
   "cell_type": "code",
   "execution_count": 3,
   "metadata": {},
   "outputs": [
    {
     "data": {
      "text/html": [
       "<div>\n",
       "<style scoped>\n",
       "    .dataframe tbody tr th:only-of-type {\n",
       "        vertical-align: middle;\n",
       "    }\n",
       "\n",
       "    .dataframe tbody tr th {\n",
       "        vertical-align: top;\n",
       "    }\n",
       "\n",
       "    .dataframe thead th {\n",
       "        text-align: right;\n",
       "    }\n",
       "</style>\n",
       "<table border=\"1\" class=\"dataframe\">\n",
       "  <thead>\n",
       "    <tr style=\"text-align: right;\">\n",
       "      <th></th>\n",
       "      <th>final_mse</th>\n",
       "      <th>model</th>\n",
       "    </tr>\n",
       "  </thead>\n",
       "  <tbody>\n",
       "    <tr>\n",
       "      <th>0</th>\n",
       "      <td>3.164967e-06</td>\n",
       "      <td>MLP(\\n  (layers): ModuleList(\\n    (0): Linear...</td>\n",
       "    </tr>\n",
       "    <tr>\n",
       "      <th>1</th>\n",
       "      <td>1.929419e-06</td>\n",
       "      <td>MLP(\\n  (layers): ModuleList(\\n    (0): Linear...</td>\n",
       "    </tr>\n",
       "    <tr>\n",
       "      <th>2</th>\n",
       "      <td>4.874400e-07</td>\n",
       "      <td>MLP(\\n  (layers): ModuleList(\\n    (0): Linear...</td>\n",
       "    </tr>\n",
       "    <tr>\n",
       "      <th>3</th>\n",
       "      <td>1.233006e-06</td>\n",
       "      <td>MLP(\\n  (layers): ModuleList(\\n    (0): Linear...</td>\n",
       "    </tr>\n",
       "    <tr>\n",
       "      <th>4</th>\n",
       "      <td>1.444007e-06</td>\n",
       "      <td>MLP(\\n  (layers): ModuleList(\\n    (0): Linear...</td>\n",
       "    </tr>\n",
       "  </tbody>\n",
       "</table>\n",
       "</div>"
      ],
      "text/plain": [
       "      final_mse                                              model\n",
       "0  3.164967e-06  MLP(\\n  (layers): ModuleList(\\n    (0): Linear...\n",
       "1  1.929419e-06  MLP(\\n  (layers): ModuleList(\\n    (0): Linear...\n",
       "2  4.874400e-07  MLP(\\n  (layers): ModuleList(\\n    (0): Linear...\n",
       "3  1.233006e-06  MLP(\\n  (layers): ModuleList(\\n    (0): Linear...\n",
       "4  1.444007e-06  MLP(\\n  (layers): ModuleList(\\n    (0): Linear..."
      ]
     },
     "execution_count": 3,
     "metadata": {},
     "output_type": "execute_result"
    }
   ],
   "source": [
    "l2.head()"
   ]
  },
  {
   "cell_type": "code",
   "execution_count": 9,
   "metadata": {},
   "outputs": [],
   "source": [
    "# gan = pd.read_csv('../../csvs/GAN_SHO_replications.csv', index_col=0)\n",
    "gan = pd.read_csv('../../results/csvs/GAN_SHO_replications.csv', index_col=0)"
   ]
  },
  {
   "cell_type": "code",
   "execution_count": 5,
   "metadata": {},
   "outputs": [
    {
     "data": {
      "text/html": [
       "<div>\n",
       "<style scoped>\n",
       "    .dataframe tbody tr th:only-of-type {\n",
       "        vertical-align: middle;\n",
       "    }\n",
       "\n",
       "    .dataframe tbody tr th {\n",
       "        vertical-align: top;\n",
       "    }\n",
       "\n",
       "    .dataframe thead th {\n",
       "        text-align: right;\n",
       "    }\n",
       "</style>\n",
       "<table border=\"1\" class=\"dataframe\">\n",
       "  <thead>\n",
       "    <tr style=\"text-align: right;\">\n",
       "      <th></th>\n",
       "      <th>final_mse</th>\n",
       "      <th>model</th>\n",
       "    </tr>\n",
       "  </thead>\n",
       "  <tbody>\n",
       "    <tr>\n",
       "      <th>0</th>\n",
       "      <td>4.363346e-08</td>\n",
       "      <td>MLP(\\n  (layers): ModuleList(\\n    (0): Linear...</td>\n",
       "    </tr>\n",
       "    <tr>\n",
       "      <th>1</th>\n",
       "      <td>1.240721e-07</td>\n",
       "      <td>MLP(\\n  (layers): ModuleList(\\n    (0): Linear...</td>\n",
       "    </tr>\n",
       "    <tr>\n",
       "      <th>2</th>\n",
       "      <td>3.327584e-08</td>\n",
       "      <td>MLP(\\n  (layers): ModuleList(\\n    (0): Linear...</td>\n",
       "    </tr>\n",
       "    <tr>\n",
       "      <th>3</th>\n",
       "      <td>7.027429e-08</td>\n",
       "      <td>MLP(\\n  (layers): ModuleList(\\n    (0): Linear...</td>\n",
       "    </tr>\n",
       "    <tr>\n",
       "      <th>4</th>\n",
       "      <td>2.687081e-05</td>\n",
       "      <td>MLP(\\n  (layers): ModuleList(\\n    (0): Linear...</td>\n",
       "    </tr>\n",
       "  </tbody>\n",
       "</table>\n",
       "</div>"
      ],
      "text/plain": [
       "      final_mse                                              model\n",
       "0  4.363346e-08  MLP(\\n  (layers): ModuleList(\\n    (0): Linear...\n",
       "1  1.240721e-07  MLP(\\n  (layers): ModuleList(\\n    (0): Linear...\n",
       "2  3.327584e-08  MLP(\\n  (layers): ModuleList(\\n    (0): Linear...\n",
       "3  7.027429e-08  MLP(\\n  (layers): ModuleList(\\n    (0): Linear...\n",
       "4  2.687081e-05  MLP(\\n  (layers): ModuleList(\\n    (0): Linear..."
      ]
     },
     "execution_count": 5,
     "metadata": {},
     "output_type": "execute_result"
    }
   ],
   "source": [
    "gan.head()"
   ]
  },
  {
   "cell_type": "code",
   "execution_count": 6,
   "metadata": {},
   "outputs": [],
   "source": [
    "import matplotlib.pyplot as plt\n",
    "import denn.utils"
   ]
  },
  {
   "cell_type": "code",
   "execution_count": 11,
   "metadata": {},
   "outputs": [
    {
     "data": {
      "image/png": "[encoded data removed]",
      "text/plain": [
       "<Figure size 720x432 with 1 Axes>"
      ]
     },
     "metadata": {
      "needs_background": "light"
     },
     "output_type": "display_data"
    }
   ],
   "source": [
    "plt.figure(figsize=(10,6))\n",
    "plt.boxplot([gan.final_mse, l2.final_mse], labels=['GAN', '$L_2$'])\n",
    "plt.title('Comparison of Mean Squared Errors for Simple Harmonic Oscillator')\n",
    "plt.ylabel('MSE (Pred vs Actual)')\n",
    "plt.yscale('log')\n",
    "plt.tick_params(labelsize=12)\n",
    "plt.savefig('../../figs/SHO_replications.png');"
   ]
  },
  {
   "cell_type": "code",
   "execution_count": null,
   "metadata": {},
   "outputs": [],
   "source": []
  }
 ],
 "metadata": {
  "kernelspec": {
   "display_name": "Python 3",
   "language": "python",
   "name": "python3"
  },
  "language_info": {
   "codemirror_mode": {
    "name": "ipython",
    "version": 3
   },
   "file_extension": ".py",
   "mimetype": "text/x-python",
   "name": "python",
   "nbconvert_exporter": "python",
   "pygments_lexer": "ipython3",
   "version": "3.7.3"
  }
 },
 "nbformat": 4,
 "nbformat_minor": 4
}
