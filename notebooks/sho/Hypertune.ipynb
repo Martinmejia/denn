{
 "cells": [
  {
   "cell_type": "code",
   "execution_count": 1,
   "metadata": {},
   "outputs": [],
   "source": [
    "import pandas as pd\n",
    "import numpy as np\n",
    "import matplotlib.pyplot as plt"
   ]
  },
  {
   "cell_type": "code",
   "execution_count": 5,
   "metadata": {},
   "outputs": [],
   "source": [
    "hp = pd.read_csv('/Users/dylanrandle/Downloads/GAN_hyper_results.csv', index_col=0)"
   ]
  },
  {
   "cell_type": "code",
   "execution_count": 8,
   "metadata": {},
   "outputs": [],
   "source": [
    "srt = hp.sort_values(by='mean_mse')"
   ]
  },
  {
   "cell_type": "code",
   "execution_count": 11,
   "metadata": {},
   "outputs": [
    {
     "data": {
      "text/html": [
       "<div>\n",
       "<style scoped>\n",
       "    .dataframe tbody tr th:only-of-type {\n",
       "        vertical-align: middle;\n",
       "    }\n",
       "\n",
       "    .dataframe tbody tr th {\n",
       "        vertical-align: top;\n",
       "    }\n",
       "\n",
       "    .dataframe thead th {\n",
       "        text-align: right;\n",
       "    }\n",
       "</style>\n",
       "<table border=\"1\" class=\"dataframe\">\n",
       "  <thead>\n",
       "    <tr style=\"text-align: right;\">\n",
       "      <th></th>\n",
       "      <th>kwargs</th>\n",
       "      <th>mean_mse</th>\n",
       "      <th>std_mse</th>\n",
       "    </tr>\n",
       "  </thead>\n",
       "  <tbody>\n",
       "    <tr>\n",
       "      <th>1113</th>\n",
       "      <td>{'g_units': 32, 'g_layers': 4, 'd_units': 32, ...</td>\n",
       "      <td>0.000086</td>\n",
       "      <td>0.000040</td>\n",
       "    </tr>\n",
       "    <tr>\n",
       "      <th>1662</th>\n",
       "      <td>{'g_units': 64, 'g_layers': 2, 'd_units': 64, ...</td>\n",
       "      <td>0.000120</td>\n",
       "      <td>0.000030</td>\n",
       "    </tr>\n",
       "    <tr>\n",
       "      <th>1437</th>\n",
       "      <td>{'g_units': 32, 'g_layers': 8, 'd_units': 64, ...</td>\n",
       "      <td>0.000157</td>\n",
       "      <td>0.000048</td>\n",
       "    </tr>\n",
       "    <tr>\n",
       "      <th>2169</th>\n",
       "      <td>{'g_units': 64, 'g_layers': 8, 'd_units': 64, ...</td>\n",
       "      <td>0.000161</td>\n",
       "      <td>0.000017</td>\n",
       "    </tr>\n",
       "    <tr>\n",
       "      <th>1659</th>\n",
       "      <td>{'g_units': 64, 'g_layers': 2, 'd_units': 64, ...</td>\n",
       "      <td>0.000163</td>\n",
       "      <td>0.000061</td>\n",
       "    </tr>\n",
       "  </tbody>\n",
       "</table>\n",
       "</div>"
      ],
      "text/plain": [
       "                                                 kwargs  mean_mse   std_mse\n",
       "1113  {'g_units': 32, 'g_layers': 4, 'd_units': 32, ...  0.000086  0.000040\n",
       "1662  {'g_units': 64, 'g_layers': 2, 'd_units': 64, ...  0.000120  0.000030\n",
       "1437  {'g_units': 32, 'g_layers': 8, 'd_units': 64, ...  0.000157  0.000048\n",
       "2169  {'g_units': 64, 'g_layers': 8, 'd_units': 64, ...  0.000161  0.000017\n",
       "1659  {'g_units': 64, 'g_layers': 2, 'd_units': 64, ...  0.000163  0.000061"
      ]
     },
     "execution_count": 11,
     "metadata": {},
     "output_type": "execute_result"
    }
   ],
   "source": [
    "srt.head()"
   ]
  },
  {
   "cell_type": "code",
   "execution_count": 26,
   "metadata": {},
   "outputs": [
    {
     "name": "stdout",
     "output_type": "stream",
     "text": [
      "8.633132771744083e-05\n",
      "{'g_units': 32, 'g_layers': 4, 'd_units': 32, 'd_layers': 8, 'd2_units': 16, 'd2_layers': 8, 'd2': 0.1}\n",
      "0.00012016576753618816\n",
      "{'g_units': 64, 'g_layers': 2, 'd_units': 64, 'd_layers': 4, 'd2_units': 32, 'd2_layers': 8, 'd2': 0.1}\n",
      "0.00015720674370337898\n",
      "{'g_units': 32, 'g_layers': 8, 'd_units': 64, 'd_layers': 8, 'd2_units': 16, 'd2_layers': 8, 'd2': 0.1}\n",
      "0.00016059627038581917\n",
      "{'g_units': 64, 'g_layers': 8, 'd_units': 64, 'd_layers': 8, 'd2_units': 32, 'd2_layers': 2, 'd2': 0.1}\n",
      "0.0001633453939575702\n",
      "{'g_units': 64, 'g_layers': 2, 'd_units': 64, 'd_layers': 4, 'd2_units': 32, 'd2_layers': 4, 'd2': 0.1}\n",
      "0.0001777224000155305\n",
      "{'g_units': 64, 'g_layers': 2, 'd_units': 64, 'd_layers': 2, 'd2_units': 16, 'd2_layers': 4, 'd2': 0.1}\n",
      "0.0001898638026129144\n",
      "{'g_units': 64, 'g_layers': 2, 'd_units': 64, 'd_layers': 8, 'd2_units': 16, 'd2_layers': 8, 'd2': 0.1}\n",
      "0.00020177390009242419\n",
      "{'g_units': 64, 'g_layers': 2, 'd_units': 64, 'd_layers': 2, 'd2_units': 32, 'd2_layers': 2, 'd2': 0.1}\n",
      "0.0002056380326393992\n",
      "{'g_units': 32, 'g_layers': 8, 'd_units': 64, 'd_layers': 8, 'd2_units': 32, 'd2_layers': 2, 'd2': 0.1}\n",
      "0.00020609478330394876\n",
      "{'g_units': 16, 'g_layers': 8, 'd_units': 64, 'd_layers': 4, 'd2_units': 32, 'd2_layers': 4, 'd2': 0.1}\n"
     ]
    }
   ],
   "source": [
    "for i in range(10):\n",
    "    print(srt.iloc[i].mean_mse)\n",
    "    print(srt.iloc[i].kwargs)"
   ]
  },
  {
   "cell_type": "code",
   "execution_count": 16,
   "metadata": {},
   "outputs": [
    {
     "data": {
      "text/plain": [
       "(2187, 3)"
      ]
     },
     "execution_count": 16,
     "metadata": {},
     "output_type": "execute_result"
    }
   ],
   "source": [
    "srt.shape"
   ]
  },
  {
   "cell_type": "code",
   "execution_count": 29,
   "metadata": {},
   "outputs": [
    {
     "data": {
      "text/plain": [
       "Text(0.5, 0, 'Top $i^{th}$ Setting')"
      ]
     },
     "execution_count": 29,
     "metadata": {},
     "output_type": "execute_result"
    },
    {
     "data": {
      "image/png": "[encoded data removed]",
      "text/plain": [
       "<Figure size 432x288 with 1 Axes>"
      ]
     },
     "metadata": {
      "needs_background": "light"
     },
     "output_type": "display_data"
    }
   ],
   "source": [
    "plt.errorbar(range(10), srt.mean_mse.iloc[0:10], yerr=srt.std_mse.iloc[0:10], fmt='o')\n",
    "plt.yscale('log')\n",
    "plt.ylabel('log MSE')\n",
    "plt.xlabel('Top $i^{th}$ Setting')"
   ]
  },
  {
   "cell_type": "markdown",
   "metadata": {},
   "source": [
    "# Job 2"
   ]
  },
  {
   "cell_type": "code",
   "execution_count": 2,
   "metadata": {},
   "outputs": [],
   "source": [
    "hp2 = pd.read_csv('/Users/dylanrandle/Downloads/GAN_hyper_results.csv', index_col=0)"
   ]
  },
  {
   "cell_type": "code",
   "execution_count": 3,
   "metadata": {},
   "outputs": [],
   "source": [
    "srt2 = hp2.sort_values(by='mean_mse')"
   ]
  },
  {
   "cell_type": "code",
   "execution_count": 7,
   "metadata": {},
   "outputs": [
    {
     "name": "stdout",
     "output_type": "stream",
     "text": [
      "5.2759849798652185e-06\n",
      "{'d2': 0.01, 'num_epochs': 50000, 'gp': 0.1, 'd_lr': 0.001, 'g_lr': 0.0002, 'eq_lr': 0.001}\n",
      "5.5119812714110594e-06\n",
      "{'d2': 0.01, 'num_epochs': 50000, 'gp': 0.1, 'd_lr': 0.001, 'g_lr': 0.0002, 'eq_lr': 0.0001}\n",
      "5.536034071459047e-06\n",
      "{'d2': 0.001, 'num_epochs': 50000, 'gp': 0.1, 'd_lr': 0.001, 'g_lr': 0.0002, 'eq_lr': 0.001}\n",
      "5.591569333773805e-06\n",
      "{'d2': 0.001, 'num_epochs': 50000, 'gp': 0.1, 'd_lr': 0.001, 'g_lr': 0.0002, 'eq_lr': 0.0001}\n",
      "5.8706483893426285e-06\n",
      "{'d2': 0.01, 'num_epochs': 50000, 'gp': 0.1, 'd_lr': 0.001, 'g_lr': 0.0002, 'eq_lr': 0.0002}\n",
      "5.915729313225407e-06\n",
      "{'d2': 0.001, 'num_epochs': 50000, 'gp': 0.1, 'd_lr': 0.001, 'g_lr': 0.001, 'eq_lr': 0.0001}\n",
      "5.950606767631446e-06\n",
      "{'d2': 0.001, 'num_epochs': 50000, 'gp': 0.1, 'd_lr': 0.001, 'g_lr': 0.0002, 'eq_lr': 0.0002}\n",
      "6.044054316589609e-06\n",
      "{'d2': 0.001, 'num_epochs': 50000, 'gp': 0.1, 'd_lr': 0.001, 'g_lr': 0.001, 'eq_lr': 0.0002}\n",
      "6.2197069989148685e-06\n",
      "{'d2': 0.001, 'num_epochs': 50000, 'gp': 1, 'd_lr': 0.001, 'g_lr': 0.0001, 'eq_lr': 0.0001}\n",
      "6.54969896155914e-06\n",
      "{'d2': 0.001, 'num_epochs': 50000, 'gp': 0.1, 'd_lr': 0.0002, 'g_lr': 0.0002, 'eq_lr': 0.0001}\n",
      "6.682618277409348e-06\n",
      "{'d2': 0.001, 'num_epochs': 50000, 'gp': 0.1, 'd_lr': 0.0002, 'g_lr': 0.0001, 'eq_lr': 0.0002}\n",
      "6.739940090483288e-06\n",
      "{'d2': 0.001, 'num_epochs': 50000, 'gp': 0.1, 'd_lr': 0.001, 'g_lr': 0.001, 'eq_lr': 0.001}\n",
      "6.7463737044211785e-06\n",
      "{'d2': 0.01, 'num_epochs': 50000, 'gp': 0.1, 'd_lr': 0.0002, 'g_lr': 0.0002, 'eq_lr': 0.0001}\n",
      "6.767903263001547e-06\n",
      "{'d2': 0.001, 'num_epochs': 50000, 'gp': 0.1, 'd_lr': 0.0002, 'g_lr': 0.0002, 'eq_lr': 0.001}\n",
      "7.052669843687909e-06\n",
      "{'d2': 0.01, 'num_epochs': 50000, 'gp': 0.1, 'd_lr': 0.0002, 'g_lr': 0.0001, 'eq_lr': 0.0002}\n",
      "7.094394428956245e-06\n",
      "{'d2': 0.01, 'num_epochs': 50000, 'gp': 1, 'd_lr': 0.001, 'g_lr': 0.0001, 'eq_lr': 0.0001}\n",
      "7.244103774913431e-06\n",
      "{'d2': 0.01, 'num_epochs': 50000, 'gp': 1, 'd_lr': 0.001, 'g_lr': 0.0001, 'eq_lr': 0.0002}\n",
      "7.2966721139285555e-06\n",
      "{'d2': 0.01, 'num_epochs': 50000, 'gp': 0.1, 'd_lr': 0.0002, 'g_lr': 0.0001, 'eq_lr': 0.001}\n",
      "7.387024197669234e-06\n",
      "{'d2': 0.001, 'num_epochs': 50000, 'gp': 1, 'd_lr': 0.001, 'g_lr': 0.0001, 'eq_lr': 0.0002}\n",
      "7.564199222542811e-06\n",
      "{'d2': 0.001, 'num_epochs': 50000, 'gp': 1, 'd_lr': 0.0002, 'g_lr': 0.0001, 'eq_lr': 0.0001}\n",
      "7.71831082602148e-06\n",
      "{'d2': 0.01, 'num_epochs': 50000, 'gp': 0.1, 'd_lr': 0.0002, 'g_lr': 0.0002, 'eq_lr': 0.0002}\n",
      "7.769865230026578e-06\n",
      "{'d2': 0.001, 'num_epochs': 50000, 'gp': 0.1, 'd_lr': 0.0002, 'g_lr': 0.0001, 'eq_lr': 0.0001}\n",
      "7.803452111450799e-06\n",
      "{'d2': 0.001, 'num_epochs': 50000, 'gp': 0.1, 'd_lr': 0.0002, 'g_lr': 0.0001, 'eq_lr': 0.001}\n",
      "8.097547682458147e-06\n",
      "{'d2': 0.01, 'num_epochs': 50000, 'gp': 0.1, 'd_lr': 0.0002, 'g_lr': 0.0002, 'eq_lr': 0.001}\n",
      "8.271423363718593e-06\n",
      "{'d2': 0.001, 'num_epochs': 50000, 'gp': 1, 'd_lr': 0.0002, 'g_lr': 0.0001, 'eq_lr': 0.001}\n",
      "8.359129575789364e-06\n",
      "{'d2': 0.01, 'num_epochs': 50000, 'gp': 0.1, 'd_lr': 0.0002, 'g_lr': 0.0001, 'eq_lr': 0.0001}\n",
      "8.401866580243222e-06\n",
      "{'d2': 0.001, 'num_epochs': 50000, 'gp': 1, 'd_lr': 0.0002, 'g_lr': 0.0001, 'eq_lr': 0.0002}\n",
      "8.426639245347664e-06\n",
      "{'d2': 0.001, 'num_epochs': 50000, 'gp': 1, 'd_lr': 0.001, 'g_lr': 0.0002, 'eq_lr': 0.0001}\n",
      "8.540260902615653e-06\n",
      "{'d2': 0.01, 'num_epochs': 50000, 'gp': 0.1, 'd_lr': 0.001, 'g_lr': 0.001, 'eq_lr': 0.0001}\n",
      "8.577548366398938e-06\n",
      "{'d2': 0.001, 'num_epochs': 50000, 'gp': 1, 'd_lr': 0.0002, 'g_lr': 0.0002, 'eq_lr': 0.001}\n",
      "8.776341019256506e-06\n",
      "{'d2': 0.001, 'num_epochs': 50000, 'gp': 0.1, 'd_lr': 0.001, 'g_lr': 0.0001, 'eq_lr': 0.0002}\n",
      "8.870776279460792e-06\n",
      "{'d2': 0.001, 'num_epochs': 50000, 'gp': 0.1, 'd_lr': 0.0001, 'g_lr': 0.0001, 'eq_lr': 0.0001}\n",
      "9.168710524439424e-06\n",
      "{'d2': 0.001, 'num_epochs': 50000, 'gp': 1, 'd_lr': 0.0002, 'g_lr': 0.0002, 'eq_lr': 0.0002}\n",
      "9.33096756246717e-06\n",
      "{'d2': 0.001, 'num_epochs': 50000, 'gp': 1, 'd_lr': 0.0002, 'g_lr': 0.0002, 'eq_lr': 0.0001}\n",
      "9.364909904737337e-06\n",
      "{'d2': 0.01, 'num_epochs': 50000, 'gp': 0.1, 'd_lr': 0.001, 'g_lr': 0.0001, 'eq_lr': 0.001}\n",
      "9.396816797864934e-06\n",
      "{'d2': 0.001, 'num_epochs': 50000, 'gp': 0.1, 'd_lr': 0.001, 'g_lr': 0.0001, 'eq_lr': 0.001}\n",
      "9.46347305822807e-06\n",
      "{'d2': 0.01, 'num_epochs': 50000, 'gp': 0.1, 'd_lr': 0.001, 'g_lr': 0.0001, 'eq_lr': 0.0002}\n",
      "9.742999282025265e-06\n",
      "{'d2': 0.001, 'num_epochs': 50000, 'gp': 1, 'd_lr': 0.001, 'g_lr': 0.0002, 'eq_lr': 0.001}\n",
      "9.957412809550684e-06\n",
      "{'d2': 0.001, 'num_epochs': 50000, 'gp': 1, 'd_lr': 0.001, 'g_lr': 0.0002, 'eq_lr': 0.0002}\n",
      "1.0333144018659368e-05\n",
      "{'d2': 0.01, 'num_epochs': 50000, 'gp': 1, 'd_lr': 0.001, 'g_lr': 0.0002, 'eq_lr': 0.0002}\n",
      "1.0438382408513766e-05\n",
      "{'d2': 0.01, 'num_epochs': 50000, 'gp': 0.1, 'd_lr': 0.0001, 'g_lr': 0.0001, 'eq_lr': 0.001}\n",
      "1.0698543367955914e-05\n",
      "{'d2': 0.01, 'num_epochs': 50000, 'gp': 1, 'd_lr': 0.0001, 'g_lr': 0.0001, 'eq_lr': 0.001}\n",
      "1.0745988220151046e-05\n",
      "{'d2': 0.01, 'num_epochs': 50000, 'gp': 1, 'd_lr': 0.001, 'g_lr': 0.0002, 'eq_lr': 0.001}\n",
      "1.0801019167653672e-05\n",
      "{'d2': 0.01, 'num_epochs': 50000, 'gp': 0.1, 'd_lr': 0.001, 'g_lr': 0.0001, 'eq_lr': 0.0001}\n",
      "1.0984592942501573e-05\n",
      "{'d2': 0.001, 'num_epochs': 50000, 'gp': 0.1, 'd_lr': 0.001, 'g_lr': 0.0001, 'eq_lr': 0.0001}\n",
      "1.116793373512337e-05\n",
      "{'d2': 0.001, 'num_epochs': 50000, 'gp': 1, 'd_lr': 0.0001, 'g_lr': 0.0001, 'eq_lr': 0.0002}\n",
      "1.1236446577337725e-05\n",
      "{'d2': 0.01, 'num_epochs': 50000, 'gp': 1, 'd_lr': 0.0002, 'g_lr': 0.0001, 'eq_lr': 0.001}\n",
      "1.1360827556927687e-05\n",
      "{'d2': 0.001, 'num_epochs': 20000, 'gp': 0.1, 'd_lr': 0.001, 'g_lr': 0.001, 'eq_lr': 0.001}\n",
      "1.1739879482774995e-05\n",
      "{'d2': 0.01, 'num_epochs': 50000, 'gp': 1, 'd_lr': 0.001, 'g_lr': 0.0001, 'eq_lr': 0.001}\n",
      "1.1771715738480756e-05\n",
      "{'d2': 0.01, 'num_epochs': 50000, 'gp': 1, 'd_lr': 0.001, 'g_lr': 0.0002, 'eq_lr': 0.0001}\n"
     ]
    }
   ],
   "source": [
    "for i in range(50):\n",
    "    print(srt2.iloc[i].mean_mse)\n",
    "    print(srt2.iloc[i].kwargs)"
   ]
  },
  {
   "cell_type": "code",
   "execution_count": 6,
   "metadata": {},
   "outputs": [
    {
     "data": {
      "text/plain": [
       "Text(0.5, 0, 'Top $i^{th}$ Setting')"
      ]
     },
     "execution_count": 6,
     "metadata": {},
     "output_type": "execute_result"
    },
    {
     "data": {
      "image/png": "[encoded data removed]",
      "text/plain": [
       "<Figure size 432x288 with 1 Axes>"
      ]
     },
     "metadata": {
      "needs_background": "light"
     },
     "output_type": "display_data"
    }
   ],
   "source": [
    "plt.errorbar(range(10), srt2.mean_mse.iloc[0:10], yerr=srt2.std_mse.iloc[0:10], fmt='o')\n",
    "plt.yscale('log')\n",
    "plt.ylabel('log MSE')\n",
    "plt.xlabel('Top $i^{th}$ Setting')"
   ]
  },
  {
   "cell_type": "markdown",
   "metadata": {},
   "source": [
    "# Job 3"
   ]
  },
  {
   "cell_type": "code",
   "execution_count": 3,
   "metadata": {},
   "outputs": [],
   "source": [
    "hp3 = pd.read_csv('/Users/dylanrandle/Downloads/GAN_hyper_results2.csv', index_col=0)"
   ]
  },
  {
   "cell_type": "code",
   "execution_count": 4,
   "metadata": {},
   "outputs": [],
   "source": [
    "srt3 = hp3.sort_values(by='mean_mse')"
   ]
  },
  {
   "cell_type": "code",
   "execution_count": 5,
   "metadata": {},
   "outputs": [
    {
     "data": {
      "text/html": [
       "<div>\n",
       "<style scoped>\n",
       "    .dataframe tbody tr th:only-of-type {\n",
       "        vertical-align: middle;\n",
       "    }\n",
       "\n",
       "    .dataframe tbody tr th {\n",
       "        vertical-align: top;\n",
       "    }\n",
       "\n",
       "    .dataframe thead th {\n",
       "        text-align: right;\n",
       "    }\n",
       "</style>\n",
       "<table border=\"1\" class=\"dataframe\">\n",
       "  <thead>\n",
       "    <tr style=\"text-align: right;\">\n",
       "      <th></th>\n",
       "      <th>kwargs</th>\n",
       "      <th>mean_mse</th>\n",
       "      <th>std_mse</th>\n",
       "    </tr>\n",
       "  </thead>\n",
       "  <tbody>\n",
       "    <tr>\n",
       "      <th>725</th>\n",
       "      <td>{'num_epochs': 10000, 'd_lr': 0.001, 'g_lr': 0...</td>\n",
       "      <td>0.00001</td>\n",
       "      <td>1.700799e-07</td>\n",
       "    </tr>\n",
       "    <tr>\n",
       "      <th>719</th>\n",
       "      <td>{'num_epochs': 10000, 'd_lr': 0.001, 'g_lr': 0...</td>\n",
       "      <td>0.00001</td>\n",
       "      <td>1.133164e-07</td>\n",
       "    </tr>\n",
       "    <tr>\n",
       "      <th>728</th>\n",
       "      <td>{'num_epochs': 10000, 'd_lr': 0.001, 'g_lr': 0...</td>\n",
       "      <td>0.00001</td>\n",
       "      <td>1.909427e-07</td>\n",
       "    </tr>\n",
       "    <tr>\n",
       "      <th>716</th>\n",
       "      <td>{'num_epochs': 10000, 'd_lr': 0.001, 'g_lr': 0...</td>\n",
       "      <td>0.00001</td>\n",
       "      <td>1.041122e-07</td>\n",
       "    </tr>\n",
       "    <tr>\n",
       "      <th>726</th>\n",
       "      <td>{'num_epochs': 10000, 'd_lr': 0.001, 'g_lr': 0...</td>\n",
       "      <td>0.00001</td>\n",
       "      <td>2.016282e-08</td>\n",
       "    </tr>\n",
       "    <tr>\n",
       "      <th>718</th>\n",
       "      <td>{'num_epochs': 10000, 'd_lr': 0.001, 'g_lr': 0...</td>\n",
       "      <td>0.00001</td>\n",
       "      <td>2.449185e-07</td>\n",
       "    </tr>\n",
       "    <tr>\n",
       "      <th>715</th>\n",
       "      <td>{'num_epochs': 10000, 'd_lr': 0.001, 'g_lr': 0...</td>\n",
       "      <td>0.00001</td>\n",
       "      <td>2.283923e-07</td>\n",
       "    </tr>\n",
       "    <tr>\n",
       "      <th>700</th>\n",
       "      <td>{'num_epochs': 10000, 'd_lr': 0.001, 'g_lr': 0...</td>\n",
       "      <td>0.00001</td>\n",
       "      <td>1.448261e-07</td>\n",
       "    </tr>\n",
       "    <tr>\n",
       "      <th>707</th>\n",
       "      <td>{'num_epochs': 10000, 'd_lr': 0.001, 'g_lr': 0...</td>\n",
       "      <td>0.00001</td>\n",
       "      <td>2.962337e-08</td>\n",
       "    </tr>\n",
       "    <tr>\n",
       "      <th>692</th>\n",
       "      <td>{'num_epochs': 10000, 'd_lr': 0.001, 'g_lr': 0...</td>\n",
       "      <td>0.00001</td>\n",
       "      <td>2.079722e-07</td>\n",
       "    </tr>\n",
       "  </tbody>\n",
       "</table>\n",
       "</div>"
      ],
      "text/plain": [
       "                                                kwargs  mean_mse       std_mse\n",
       "725  {'num_epochs': 10000, 'd_lr': 0.001, 'g_lr': 0...   0.00001  1.700799e-07\n",
       "719  {'num_epochs': 10000, 'd_lr': 0.001, 'g_lr': 0...   0.00001  1.133164e-07\n",
       "728  {'num_epochs': 10000, 'd_lr': 0.001, 'g_lr': 0...   0.00001  1.909427e-07\n",
       "716  {'num_epochs': 10000, 'd_lr': 0.001, 'g_lr': 0...   0.00001  1.041122e-07\n",
       "726  {'num_epochs': 10000, 'd_lr': 0.001, 'g_lr': 0...   0.00001  2.016282e-08\n",
       "718  {'num_epochs': 10000, 'd_lr': 0.001, 'g_lr': 0...   0.00001  2.449185e-07\n",
       "715  {'num_epochs': 10000, 'd_lr': 0.001, 'g_lr': 0...   0.00001  2.283923e-07\n",
       "700  {'num_epochs': 10000, 'd_lr': 0.001, 'g_lr': 0...   0.00001  1.448261e-07\n",
       "707  {'num_epochs': 10000, 'd_lr': 0.001, 'g_lr': 0...   0.00001  2.962337e-08\n",
       "692  {'num_epochs': 10000, 'd_lr': 0.001, 'g_lr': 0...   0.00001  2.079722e-07"
      ]
     },
     "execution_count": 5,
     "metadata": {},
     "output_type": "execute_result"
    }
   ],
   "source": [
    "srt3.head(10)"
   ]
  },
  {
   "cell_type": "code",
   "execution_count": 6,
   "metadata": {},
   "outputs": [
    {
     "name": "stdout",
     "output_type": "stream",
     "text": [
      "1.0203941807655307e-05\n",
      "{'num_epochs': 10000, 'd_lr': 0.001, 'g_lr': 0.001, 'g_units': 64, 'g_layers': 8, 'd_units': 32, 'd_layers': 8}\n",
      "1.0216164810117334e-05\n",
      "{'num_epochs': 10000, 'd_lr': 0.001, 'g_lr': 0.001, 'g_units': 64, 'g_layers': 4, 'd_units': 64, 'd_layers': 8}\n",
      "1.0240814541854583e-05\n",
      "{'num_epochs': 10000, 'd_lr': 0.001, 'g_lr': 0.001, 'g_units': 64, 'g_layers': 8, 'd_units': 64, 'd_layers': 8}\n",
      "1.031737095521142e-05\n",
      "{'num_epochs': 10000, 'd_lr': 0.001, 'g_lr': 0.001, 'g_units': 64, 'g_layers': 4, 'd_units': 32, 'd_layers': 8}\n",
      "1.0375456137505047e-05\n",
      "{'num_epochs': 10000, 'd_lr': 0.001, 'g_lr': 0.001, 'g_units': 64, 'g_layers': 8, 'd_units': 64, 'd_layers': 2}\n",
      "1.0414733272530915e-05\n",
      "{'num_epochs': 10000, 'd_lr': 0.001, 'g_lr': 0.001, 'g_units': 64, 'g_layers': 4, 'd_units': 64, 'd_layers': 4}\n",
      "1.0434326820056109e-05\n",
      "{'num_epochs': 10000, 'd_lr': 0.001, 'g_lr': 0.001, 'g_units': 64, 'g_layers': 4, 'd_units': 32, 'd_layers': 4}\n",
      "1.0471993543130036e-05\n",
      "{'num_epochs': 10000, 'd_lr': 0.001, 'g_lr': 0.001, 'g_units': 32, 'g_layers': 8, 'd_units': 64, 'd_layers': 4}\n",
      "1.0488069771478573e-05\n",
      "{'num_epochs': 10000, 'd_lr': 0.001, 'g_lr': 0.001, 'g_units': 64, 'g_layers': 2, 'd_units': 32, 'd_layers': 8}\n",
      "1.048850360045132e-05\n",
      "{'num_epochs': 10000, 'd_lr': 0.001, 'g_lr': 0.001, 'g_units': 32, 'g_layers': 4, 'd_units': 64, 'd_layers': 8}\n",
      "1.0493617385994487e-05\n",
      "{'num_epochs': 10000, 'd_lr': 0.001, 'g_lr': 0.001, 'g_units': 32, 'g_layers': 4, 'd_units': 64, 'd_layers': 2}\n",
      "1.0504751116968691e-05\n",
      "{'num_epochs': 10000, 'd_lr': 0.001, 'g_lr': 0.001, 'g_units': 64, 'g_layers': 2, 'd_units': 64, 'd_layers': 4}\n",
      "1.0505615440100277e-05\n",
      "{'num_epochs': 10000, 'd_lr': 0.001, 'g_lr': 0.001, 'g_units': 64, 'g_layers': 4, 'd_units': 64, 'd_layers': 2}\n",
      "1.0537213408194173e-05\n",
      "{'num_epochs': 10000, 'd_lr': 0.001, 'g_lr': 0.001, 'g_units': 64, 'g_layers': 2, 'd_units': 64, 'd_layers': 8}\n",
      "1.0542687656804144e-05\n",
      "{'num_epochs': 10000, 'd_lr': 0.001, 'g_lr': 0.001, 'g_units': 64, 'g_layers': 8, 'd_units': 64, 'd_layers': 4}\n",
      "1.054395791773762e-05\n",
      "{'num_epochs': 10000, 'd_lr': 0.001, 'g_lr': 0.001, 'g_units': 32, 'g_layers': 4, 'd_units': 64, 'd_layers': 4}\n",
      "1.0560175724094734e-05\n",
      "{'num_epochs': 10000, 'd_lr': 0.001, 'g_lr': 0.001, 'g_units': 32, 'g_layers': 8, 'd_units': 64, 'd_layers': 2}\n",
      "1.057071040122537e-05\n",
      "{'num_epochs': 10000, 'd_lr': 0.0002, 'g_lr': 0.001, 'g_units': 64, 'g_layers': 4, 'd_units': 64, 'd_layers': 8}\n",
      "1.0601839979547853e-05\n",
      "{'num_epochs': 10000, 'd_lr': 0.001, 'g_lr': 0.001, 'g_units': 32, 'g_layers': 4, 'd_units': 32, 'd_layers': 4}\n",
      "1.0690588169381954e-05\n",
      "{'num_epochs': 10000, 'd_lr': 0.001, 'g_lr': 0.001, 'g_units': 64, 'g_layers': 2, 'd_units': 64, 'd_layers': 2}\n"
     ]
    }
   ],
   "source": [
    "for i in range(20):\n",
    "    print(srt3.iloc[i].mean_mse)\n",
    "    print(srt3.iloc[i].kwargs)"
   ]
  },
  {
   "cell_type": "code",
   "execution_count": null,
   "metadata": {},
   "outputs": [],
   "source": []
  }
 ],
 "metadata": {
  "kernelspec": {
   "display_name": "Python 3",
   "language": "python",
   "name": "python3"
  },
  "language_info": {
   "codemirror_mode": {
    "name": "ipython",
    "version": 3
   },
   "file_extension": ".py",
   "mimetype": "text/x-python",
   "name": "python",
   "nbconvert_exporter": "python",
   "pygments_lexer": "ipython3",
   "version": "3.7.3"
  }
 },
 "nbformat": 4,
 "nbformat_minor": 4
}
