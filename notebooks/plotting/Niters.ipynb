{
 "cells": [
  {
   "cell_type": "code",
   "execution_count": 72,
   "metadata": {},
   "outputs": [],
   "source": [
    "import pandas as pd\n",
    "import matplotlib.pyplot as plt\n",
    "import denn.utils as utils\n",
    "import numpy as np"
   ]
  },
  {
   "cell_type": "code",
   "execution_count": 73,
   "metadata": {},
   "outputs": [],
   "source": [
    "# fnames = ['../../results/csvs/nlo_GAN_niters.csv', '../../results/csvs/nlo_L2_niters.csv',\n",
    "#           '../../results/csvs/sho_GAN_hypertune_niters.csv', \n",
    "#           '../../results/csvs/sho_L2_hypertune_niters.csv']\n",
    "sho_fnames = ['../../experiments/csvs/sho_GAN_niters_20reps_from_biggest.csv',\n",
    "              '../../experiments/csvs/sho_L2_niters_20rep_60by2.csv']"
   ]
  },
  {
   "cell_type": "code",
   "execution_count": 74,
   "metadata": {},
   "outputs": [],
   "source": [
    "dfs = []\n",
    "for f in sho_fnames:\n",
    "    dfs.append(\n",
    "        pd.read_csv(f, index_col=0)\n",
    "    )"
   ]
  },
  {
   "cell_type": "code",
   "execution_count": 75,
   "metadata": {},
   "outputs": [
    {
     "data": {
      "text/html": [
       "<div>\n",
       "<style scoped>\n",
       "    .dataframe tbody tr th:only-of-type {\n",
       "        vertical-align: middle;\n",
       "    }\n",
       "\n",
       "    .dataframe tbody tr th {\n",
       "        vertical-align: top;\n",
       "    }\n",
       "\n",
       "    .dataframe thead th {\n",
       "        text-align: right;\n",
       "    }\n",
       "</style>\n",
       "<table border=\"1\" class=\"dataframe\">\n",
       "  <thead>\n",
       "    <tr style=\"text-align: right;\">\n",
       "      <th></th>\n",
       "      <th>mse</th>\n",
       "      <th>hypers</th>\n",
       "    </tr>\n",
       "  </thead>\n",
       "  <tbody>\n",
       "    <tr>\n",
       "      <th>0</th>\n",
       "      <td>[0.17484891414642334, 0.16073854267597198, 0.2...</td>\n",
       "      <td>{'gan_niters': 1000, 'gan_gamma': 0.999, 'disc...</td>\n",
       "    </tr>\n",
       "    <tr>\n",
       "      <th>1</th>\n",
       "      <td>[0.08091077208518982, 0.001273106667213142, 0....</td>\n",
       "      <td>{'gan_niters': 2000, 'gan_gamma': 0.999, 'disc...</td>\n",
       "    </tr>\n",
       "    <tr>\n",
       "      <th>2</th>\n",
       "      <td>[1.660758425714448e-05, 2.070787786578876e-06,...</td>\n",
       "      <td>{'gan_niters': 5000, 'gan_gamma': 0.999, 'disc...</td>\n",
       "    </tr>\n",
       "    <tr>\n",
       "      <th>3</th>\n",
       "      <td>[2.818130269588437e-06, 4.380001250581245e-09,...</td>\n",
       "      <td>{'gan_niters': 10000, 'gan_gamma': 0.999, 'dis...</td>\n",
       "    </tr>\n",
       "    <tr>\n",
       "      <th>4</th>\n",
       "      <td>[3.1628173413622562e-09, 2.5486093235826957e-0...</td>\n",
       "      <td>{'gan_niters': 20000, 'gan_gamma': 0.999, 'dis...</td>\n",
       "    </tr>\n",
       "  </tbody>\n",
       "</table>\n",
       "</div>"
      ],
      "text/plain": [
       "                                                 mse  \\\n",
       "0  [0.17484891414642334, 0.16073854267597198, 0.2...   \n",
       "1  [0.08091077208518982, 0.001273106667213142, 0....   \n",
       "2  [1.660758425714448e-05, 2.070787786578876e-06,...   \n",
       "3  [2.818130269588437e-06, 4.380001250581245e-09,...   \n",
       "4  [3.1628173413622562e-09, 2.5486093235826957e-0...   \n",
       "\n",
       "                                              hypers  \n",
       "0  {'gan_niters': 1000, 'gan_gamma': 0.999, 'disc...  \n",
       "1  {'gan_niters': 2000, 'gan_gamma': 0.999, 'disc...  \n",
       "2  {'gan_niters': 5000, 'gan_gamma': 0.999, 'disc...  \n",
       "3  {'gan_niters': 10000, 'gan_gamma': 0.999, 'dis...  \n",
       "4  {'gan_niters': 20000, 'gan_gamma': 0.999, 'dis...  "
      ]
     },
     "metadata": {},
     "output_type": "display_data"
    },
    {
     "data": {
      "text/html": [
       "<div>\n",
       "<style scoped>\n",
       "    .dataframe tbody tr th:only-of-type {\n",
       "        vertical-align: middle;\n",
       "    }\n",
       "\n",
       "    .dataframe tbody tr th {\n",
       "        vertical-align: top;\n",
       "    }\n",
       "\n",
       "    .dataframe thead th {\n",
       "        text-align: right;\n",
       "    }\n",
       "</style>\n",
       "<table border=\"1\" class=\"dataframe\">\n",
       "  <thead>\n",
       "    <tr style=\"text-align: right;\">\n",
       "      <th></th>\n",
       "      <th>mse</th>\n",
       "      <th>hypers</th>\n",
       "    </tr>\n",
       "  </thead>\n",
       "  <tbody>\n",
       "    <tr>\n",
       "      <th>0</th>\n",
       "      <td>[0.13042812049388885, 0.06417343020439148, 0.1...</td>\n",
       "      <td>{'model_n_hidden_units': 64, 'model_n_hidden_l...</td>\n",
       "    </tr>\n",
       "    <tr>\n",
       "      <th>1</th>\n",
       "      <td>[0.03315220773220062, 0.006466000806540251, 0....</td>\n",
       "      <td>{'model_n_hidden_units': 64, 'model_n_hidden_l...</td>\n",
       "    </tr>\n",
       "    <tr>\n",
       "      <th>2</th>\n",
       "      <td>[4.086726221430581e-06, 1.0136152468476212e-06...</td>\n",
       "      <td>{'model_n_hidden_units': 64, 'model_n_hidden_l...</td>\n",
       "    </tr>\n",
       "    <tr>\n",
       "      <th>3</th>\n",
       "      <td>[2.232506624011421e-08, 2.667156877578236e-07,...</td>\n",
       "      <td>{'model_n_hidden_units': 64, 'model_n_hidden_l...</td>\n",
       "    </tr>\n",
       "    <tr>\n",
       "      <th>4</th>\n",
       "      <td>[1.0755265122952551e-07, 4.530007657876922e-08...</td>\n",
       "      <td>{'model_n_hidden_units': 64, 'model_n_hidden_l...</td>\n",
       "    </tr>\n",
       "  </tbody>\n",
       "</table>\n",
       "</div>"
      ],
      "text/plain": [
       "                                                 mse  \\\n",
       "0  [0.13042812049388885, 0.06417343020439148, 0.1...   \n",
       "1  [0.03315220773220062, 0.006466000806540251, 0....   \n",
       "2  [4.086726221430581e-06, 1.0136152468476212e-06...   \n",
       "3  [2.232506624011421e-08, 2.667156877578236e-07,...   \n",
       "4  [1.0755265122952551e-07, 4.530007657876922e-08...   \n",
       "\n",
       "                                              hypers  \n",
       "0  {'model_n_hidden_units': 64, 'model_n_hidden_l...  \n",
       "1  {'model_n_hidden_units': 64, 'model_n_hidden_l...  \n",
       "2  {'model_n_hidden_units': 64, 'model_n_hidden_l...  \n",
       "3  {'model_n_hidden_units': 64, 'model_n_hidden_l...  \n",
       "4  {'model_n_hidden_units': 64, 'model_n_hidden_l...  "
      ]
     },
     "metadata": {},
     "output_type": "display_data"
    }
   ],
   "source": [
    "from IPython.display import display\n",
    "for d in dfs:\n",
    "    display(d.head())"
   ]
  },
  {
   "cell_type": "code",
   "execution_count": 78,
   "metadata": {},
   "outputs": [],
   "source": [
    "for d in dfs:\n",
    "    d.mse = d.mse.apply(eval) # convert string to list"
   ]
  },
  {
   "cell_type": "code",
   "execution_count": 85,
   "metadata": {},
   "outputs": [],
   "source": [
    "for d in dfs:\n",
    "    d['mse_top'] = d.mse.apply(lambda x: np.sort(x)[:10])"
   ]
  },
  {
   "cell_type": "code",
   "execution_count": 86,
   "metadata": {},
   "outputs": [],
   "source": [
    "for d in dfs:\n",
    "    d['mse_mean'] = d.mse_top.apply(np.mean)\n",
    "    d['mse_std'] = d.mse_top.apply(np.std)"
   ]
  },
  {
   "cell_type": "code",
   "execution_count": 87,
   "metadata": {},
   "outputs": [],
   "source": [
    "niters = [1000, 2000, 5000, 10000, 20000]"
   ]
  },
  {
   "cell_type": "code",
   "execution_count": 100,
   "metadata": {},
   "outputs": [
    {
     "data": {
      "image/png": "[encoded data removed]",
      "text/plain": [
       "<Figure size 720x432 with 1 Axes>"
      ]
     },
     "metadata": {
      "needs_background": "light"
     },
     "output_type": "display_data"
    }
   ],
   "source": [
    "plt.figure(figsize=(10,6))\n",
    "plt.plot(niters, dfs[0].mse_mean, '-.', label='GAN')\n",
    "plt.fill_between(niters, dfs[0].mse_mean - dfs[0].mse_std, dfs[0].mse_mean + dfs[0].mse_std, alpha=0.2)\n",
    "plt.plot(niters, dfs[1].mse_mean, label='L2')\n",
    "plt.fill_between(niters, dfs[1].mse_mean - dfs[1].mse_std, dfs[1].mse_mean + dfs[1].mse_std, alpha=0.2)\n",
    "plt.ylabel('Mean Squared Error (Log Scale)')\n",
    "plt.xlabel('Number of Iterations')\n",
    "plt.legend(loc='upper right')\n",
    "plt.yscale('log')\n",
    "plt.savefig('../../results/imgs/sho_gan_vs_l2_niters.png')"
   ]
  },
  {
   "cell_type": "code",
   "execution_count": 29,
   "metadata": {},
   "outputs": [],
   "source": [
    "newfs = ['../../results/csvs/sho_GAN_niters.csv', \n",
    "         '../../results/csvs/sho_L2_niters.csv']"
   ]
  },
  {
   "cell_type": "code",
   "execution_count": 30,
   "metadata": {},
   "outputs": [],
   "source": [
    "newdfs = []\n",
    "for f in newfs:\n",
    "    newdfs.append(\n",
    "        pd.read_csv(f, index_col=0)\n",
    "    )"
   ]
  },
  {
   "cell_type": "code",
   "execution_count": 31,
   "metadata": {},
   "outputs": [
    {
     "data": {
      "text/html": [
       "<div>\n",
       "<style scoped>\n",
       "    .dataframe tbody tr th:only-of-type {\n",
       "        vertical-align: middle;\n",
       "    }\n",
       "\n",
       "    .dataframe tbody tr th {\n",
       "        vertical-align: top;\n",
       "    }\n",
       "\n",
       "    .dataframe thead th {\n",
       "        text-align: right;\n",
       "    }\n",
       "</style>\n",
       "<table border=\"1\" class=\"dataframe\">\n",
       "  <thead>\n",
       "    <tr style=\"text-align: right;\">\n",
       "      <th></th>\n",
       "      <th>mse</th>\n",
       "      <th>hypers</th>\n",
       "    </tr>\n",
       "  </thead>\n",
       "  <tbody>\n",
       "    <tr>\n",
       "      <th>0</th>\n",
       "      <td>[0.1891838014125824, 0.20131973922252655, 0.18...</td>\n",
       "      <td>{'gan_niters': 1000, 'disc_n_hidden_units': 64...</td>\n",
       "    </tr>\n",
       "    <tr>\n",
       "      <th>1</th>\n",
       "      <td>[3.096386791412442e-08, 2.6667001051805528e-08...</td>\n",
       "      <td>{'gan_niters': 5000, 'disc_n_hidden_units': 64...</td>\n",
       "    </tr>\n",
       "    <tr>\n",
       "      <th>2</th>\n",
       "      <td>[6.0907257015685445e-09, 2.0279339096873628e-0...</td>\n",
       "      <td>{'gan_niters': 10000, 'disc_n_hidden_units': 6...</td>\n",
       "    </tr>\n",
       "    <tr>\n",
       "      <th>3</th>\n",
       "      <td>[3.267293768871582e-09, 2.8852687350422457e-08...</td>\n",
       "      <td>{'gan_niters': 20000, 'disc_n_hidden_units': 6...</td>\n",
       "    </tr>\n",
       "    <tr>\n",
       "      <th>4</th>\n",
       "      <td>[9.881341300754798e-10, 2.614183092219946e-09,...</td>\n",
       "      <td>{'gan_niters': 50000, 'disc_n_hidden_units': 6...</td>\n",
       "    </tr>\n",
       "  </tbody>\n",
       "</table>\n",
       "</div>"
      ],
      "text/plain": [
       "                                                 mse  \\\n",
       "0  [0.1891838014125824, 0.20131973922252655, 0.18...   \n",
       "1  [3.096386791412442e-08, 2.6667001051805528e-08...   \n",
       "2  [6.0907257015685445e-09, 2.0279339096873628e-0...   \n",
       "3  [3.267293768871582e-09, 2.8852687350422457e-08...   \n",
       "4  [9.881341300754798e-10, 2.614183092219946e-09,...   \n",
       "\n",
       "                                              hypers  \n",
       "0  {'gan_niters': 1000, 'disc_n_hidden_units': 64...  \n",
       "1  {'gan_niters': 5000, 'disc_n_hidden_units': 64...  \n",
       "2  {'gan_niters': 10000, 'disc_n_hidden_units': 6...  \n",
       "3  {'gan_niters': 20000, 'disc_n_hidden_units': 6...  \n",
       "4  {'gan_niters': 50000, 'disc_n_hidden_units': 6...  "
      ]
     },
     "execution_count": 31,
     "metadata": {},
     "output_type": "execute_result"
    }
   ],
   "source": [
    "newdfs[0].head()"
   ]
  },
  {
   "cell_type": "code",
   "execution_count": 58,
   "metadata": {},
   "outputs": [],
   "source": [
    "best_run_from_list_string = lambda x: np.min(np.array(x.strip('][').split(', '), dtype=np.float))"
   ]
  },
  {
   "cell_type": "code",
   "execution_count": 60,
   "metadata": {},
   "outputs": [],
   "source": [
    "min_mses = []\n",
    "for df in newdfs:\n",
    "    min_mses.append(\n",
    "        df.mse.apply(best_run_from_list_string).tolist()\n",
    "    )\n",
    "    "
   ]
  },
  {
   "cell_type": "code",
   "execution_count": 63,
   "metadata": {},
   "outputs": [
    {
     "data": {
      "image/png": "[encoded data removed]",
      "text/plain": [
       "<Figure size 864x432 with 1 Axes>"
      ]
     },
     "metadata": {
      "needs_background": "light"
     },
     "output_type": "display_data"
    }
   ],
   "source": [
    "plt.figure(figsize=(12,6))\n",
    "# plt.plot(niters, mses[0], '--', label='NLO-GAN')\n",
    "# plt.plot(niters, mses[1], label='NLO-L2')\n",
    "plt.plot(niters, mses[2], '-.', label='SHO-GAN')\n",
    "plt.plot(niters, mses[3], label='SHO-L2')\n",
    "plt.plot(niters, min_mses[0], '--', label='SHO-GAN-MIN')\n",
    "plt.plot(niters, min_mses[1], label='SHO-L2-MIN')\n",
    "plt.ylabel('Log MSE')\n",
    "plt.xlabel('Num Iters')\n",
    "plt.legend(loc='upper right')\n",
    "plt.yscale('log')"
   ]
  },
  {
   "cell_type": "code",
   "execution_count": null,
   "metadata": {},
   "outputs": [],
   "source": []
  }
 ],
 "metadata": {
  "kernelspec": {
   "display_name": "Python 3",
   "language": "python",
   "name": "python3"
  },
  "language_info": {
   "codemirror_mode": {
    "name": "ipython",
    "version": 3
   },
   "file_extension": ".py",
   "mimetype": "text/x-python",
   "name": "python",
   "nbconvert_exporter": "python",
   "pygments_lexer": "ipython3",
   "version": "3.7.3"
  }
 },
 "nbformat": 4,
 "nbformat_minor": 4
}
