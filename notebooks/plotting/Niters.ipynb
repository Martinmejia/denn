{
 "cells": [
  {
   "cell_type": "code",
   "execution_count": 52,
   "metadata": {},
   "outputs": [],
   "source": [
    "import pandas as pd\n",
    "import matplotlib.pyplot as plt\n",
    "import denn.utils as utils\n",
    "import numpy as np"
   ]
  },
  {
   "cell_type": "code",
   "execution_count": 2,
   "metadata": {},
   "outputs": [],
   "source": [
    "fnames = ['../../results/csvs/nlo_GAN_niters.csv', '../../results/csvs/nlo_L2_niters.csv',\n",
    "          '../../results/csvs/sho_GAN_hypertune_niters.csv', \n",
    "          '../../results/csvs/sho_L2_hypertune_niters.csv']"
   ]
  },
  {
   "cell_type": "code",
   "execution_count": 3,
   "metadata": {},
   "outputs": [],
   "source": [
    "dfs = []\n",
    "for f in fnames:\n",
    "    dfs.append(\n",
    "        pd.read_csv(f, index_col=0)\n",
    "    )"
   ]
  },
  {
   "cell_type": "code",
   "execution_count": 15,
   "metadata": {},
   "outputs": [
    {
     "data": {
      "text/html": [
       "<div>\n",
       "<style scoped>\n",
       "    .dataframe tbody tr th:only-of-type {\n",
       "        vertical-align: middle;\n",
       "    }\n",
       "\n",
       "    .dataframe tbody tr th {\n",
       "        vertical-align: top;\n",
       "    }\n",
       "\n",
       "    .dataframe thead th {\n",
       "        text-align: right;\n",
       "    }\n",
       "</style>\n",
       "<table border=\"1\" class=\"dataframe\">\n",
       "  <thead>\n",
       "    <tr style=\"text-align: right;\">\n",
       "      <th></th>\n",
       "      <th>mse</th>\n",
       "      <th>hypers</th>\n",
       "    </tr>\n",
       "  </thead>\n",
       "  <tbody>\n",
       "    <tr>\n",
       "      <th>0</th>\n",
       "      <td>0.230614</td>\n",
       "      <td>{'gan_niters': 1000, 'disc_n_hidden_units': 64...</td>\n",
       "    </tr>\n",
       "    <tr>\n",
       "      <th>1</th>\n",
       "      <td>0.812740</td>\n",
       "      <td>{'gan_niters': 5000, 'disc_n_hidden_units': 64...</td>\n",
       "    </tr>\n",
       "    <tr>\n",
       "      <th>2</th>\n",
       "      <td>0.000006</td>\n",
       "      <td>{'gan_niters': 10000, 'disc_n_hidden_units': 6...</td>\n",
       "    </tr>\n",
       "    <tr>\n",
       "      <th>3</th>\n",
       "      <td>0.812760</td>\n",
       "      <td>{'gan_niters': 20000, 'disc_n_hidden_units': 6...</td>\n",
       "    </tr>\n",
       "    <tr>\n",
       "      <th>4</th>\n",
       "      <td>0.000047</td>\n",
       "      <td>{'gan_niters': 50000, 'disc_n_hidden_units': 6...</td>\n",
       "    </tr>\n",
       "  </tbody>\n",
       "</table>\n",
       "</div>"
      ],
      "text/plain": [
       "        mse                                             hypers\n",
       "0  0.230614  {'gan_niters': 1000, 'disc_n_hidden_units': 64...\n",
       "1  0.812740  {'gan_niters': 5000, 'disc_n_hidden_units': 64...\n",
       "2  0.000006  {'gan_niters': 10000, 'disc_n_hidden_units': 6...\n",
       "3  0.812760  {'gan_niters': 20000, 'disc_n_hidden_units': 6...\n",
       "4  0.000047  {'gan_niters': 50000, 'disc_n_hidden_units': 6..."
      ]
     },
     "metadata": {},
     "output_type": "display_data"
    },
    {
     "data": {
      "text/html": [
       "<div>\n",
       "<style scoped>\n",
       "    .dataframe tbody tr th:only-of-type {\n",
       "        vertical-align: middle;\n",
       "    }\n",
       "\n",
       "    .dataframe tbody tr th {\n",
       "        vertical-align: top;\n",
       "    }\n",
       "\n",
       "    .dataframe thead th {\n",
       "        text-align: right;\n",
       "    }\n",
       "</style>\n",
       "<table border=\"1\" class=\"dataframe\">\n",
       "  <thead>\n",
       "    <tr style=\"text-align: right;\">\n",
       "      <th></th>\n",
       "      <th>mse</th>\n",
       "      <th>hypers</th>\n",
       "    </tr>\n",
       "  </thead>\n",
       "  <tbody>\n",
       "    <tr>\n",
       "      <th>0</th>\n",
       "      <td>0.112918</td>\n",
       "      <td>{'model_n_hidden_units': 64, 'model_n_hidden_l...</td>\n",
       "    </tr>\n",
       "    <tr>\n",
       "      <th>1</th>\n",
       "      <td>0.812749</td>\n",
       "      <td>{'model_n_hidden_units': 64, 'model_n_hidden_l...</td>\n",
       "    </tr>\n",
       "    <tr>\n",
       "      <th>2</th>\n",
       "      <td>0.074428</td>\n",
       "      <td>{'model_n_hidden_units': 64, 'model_n_hidden_l...</td>\n",
       "    </tr>\n",
       "    <tr>\n",
       "      <th>3</th>\n",
       "      <td>0.028807</td>\n",
       "      <td>{'model_n_hidden_units': 64, 'model_n_hidden_l...</td>\n",
       "    </tr>\n",
       "    <tr>\n",
       "      <th>4</th>\n",
       "      <td>0.002985</td>\n",
       "      <td>{'model_n_hidden_units': 64, 'model_n_hidden_l...</td>\n",
       "    </tr>\n",
       "  </tbody>\n",
       "</table>\n",
       "</div>"
      ],
      "text/plain": [
       "        mse                                             hypers\n",
       "0  0.112918  {'model_n_hidden_units': 64, 'model_n_hidden_l...\n",
       "1  0.812749  {'model_n_hidden_units': 64, 'model_n_hidden_l...\n",
       "2  0.074428  {'model_n_hidden_units': 64, 'model_n_hidden_l...\n",
       "3  0.028807  {'model_n_hidden_units': 64, 'model_n_hidden_l...\n",
       "4  0.002985  {'model_n_hidden_units': 64, 'model_n_hidden_l..."
      ]
     },
     "metadata": {},
     "output_type": "display_data"
    },
    {
     "data": {
      "text/html": [
       "<div>\n",
       "<style scoped>\n",
       "    .dataframe tbody tr th:only-of-type {\n",
       "        vertical-align: middle;\n",
       "    }\n",
       "\n",
       "    .dataframe tbody tr th {\n",
       "        vertical-align: top;\n",
       "    }\n",
       "\n",
       "    .dataframe thead th {\n",
       "        text-align: right;\n",
       "    }\n",
       "</style>\n",
       "<table border=\"1\" class=\"dataframe\">\n",
       "  <thead>\n",
       "    <tr style=\"text-align: right;\">\n",
       "      <th></th>\n",
       "      <th>mse</th>\n",
       "      <th>hypers</th>\n",
       "    </tr>\n",
       "  </thead>\n",
       "  <tbody>\n",
       "    <tr>\n",
       "      <th>0</th>\n",
       "      <td>1.891838e-01</td>\n",
       "      <td>{'gan_niters': 1000, 'disc_n_hidden_units': 64...</td>\n",
       "    </tr>\n",
       "    <tr>\n",
       "      <th>1</th>\n",
       "      <td>3.096387e-08</td>\n",
       "      <td>{'gan_niters': 5000, 'disc_n_hidden_units': 64...</td>\n",
       "    </tr>\n",
       "    <tr>\n",
       "      <th>2</th>\n",
       "      <td>6.090726e-09</td>\n",
       "      <td>{'gan_niters': 10000, 'disc_n_hidden_units': 6...</td>\n",
       "    </tr>\n",
       "    <tr>\n",
       "      <th>3</th>\n",
       "      <td>3.267294e-09</td>\n",
       "      <td>{'gan_niters': 20000, 'disc_n_hidden_units': 6...</td>\n",
       "    </tr>\n",
       "    <tr>\n",
       "      <th>4</th>\n",
       "      <td>9.881341e-10</td>\n",
       "      <td>{'gan_niters': 50000, 'disc_n_hidden_units': 6...</td>\n",
       "    </tr>\n",
       "  </tbody>\n",
       "</table>\n",
       "</div>"
      ],
      "text/plain": [
       "            mse                                             hypers\n",
       "0  1.891838e-01  {'gan_niters': 1000, 'disc_n_hidden_units': 64...\n",
       "1  3.096387e-08  {'gan_niters': 5000, 'disc_n_hidden_units': 64...\n",
       "2  6.090726e-09  {'gan_niters': 10000, 'disc_n_hidden_units': 6...\n",
       "3  3.267294e-09  {'gan_niters': 20000, 'disc_n_hidden_units': 6...\n",
       "4  9.881341e-10  {'gan_niters': 50000, 'disc_n_hidden_units': 6..."
      ]
     },
     "metadata": {},
     "output_type": "display_data"
    },
    {
     "data": {
      "text/html": [
       "<div>\n",
       "<style scoped>\n",
       "    .dataframe tbody tr th:only-of-type {\n",
       "        vertical-align: middle;\n",
       "    }\n",
       "\n",
       "    .dataframe tbody tr th {\n",
       "        vertical-align: top;\n",
       "    }\n",
       "\n",
       "    .dataframe thead th {\n",
       "        text-align: right;\n",
       "    }\n",
       "</style>\n",
       "<table border=\"1\" class=\"dataframe\">\n",
       "  <thead>\n",
       "    <tr style=\"text-align: right;\">\n",
       "      <th></th>\n",
       "      <th>mse</th>\n",
       "      <th>hypers</th>\n",
       "    </tr>\n",
       "  </thead>\n",
       "  <tbody>\n",
       "    <tr>\n",
       "      <th>0</th>\n",
       "      <td>1.458767e-01</td>\n",
       "      <td>{'model_n_hidden_units': 64, 'model_n_hidden_l...</td>\n",
       "    </tr>\n",
       "    <tr>\n",
       "      <th>1</th>\n",
       "      <td>3.690528e-07</td>\n",
       "      <td>{'model_n_hidden_units': 64, 'model_n_hidden_l...</td>\n",
       "    </tr>\n",
       "    <tr>\n",
       "      <th>2</th>\n",
       "      <td>2.770371e-08</td>\n",
       "      <td>{'model_n_hidden_units': 64, 'model_n_hidden_l...</td>\n",
       "    </tr>\n",
       "    <tr>\n",
       "      <th>3</th>\n",
       "      <td>9.999210e-10</td>\n",
       "      <td>{'model_n_hidden_units': 64, 'model_n_hidden_l...</td>\n",
       "    </tr>\n",
       "    <tr>\n",
       "      <th>4</th>\n",
       "      <td>3.785751e-10</td>\n",
       "      <td>{'model_n_hidden_units': 64, 'model_n_hidden_l...</td>\n",
       "    </tr>\n",
       "  </tbody>\n",
       "</table>\n",
       "</div>"
      ],
      "text/plain": [
       "            mse                                             hypers\n",
       "0  1.458767e-01  {'model_n_hidden_units': 64, 'model_n_hidden_l...\n",
       "1  3.690528e-07  {'model_n_hidden_units': 64, 'model_n_hidden_l...\n",
       "2  2.770371e-08  {'model_n_hidden_units': 64, 'model_n_hidden_l...\n",
       "3  9.999210e-10  {'model_n_hidden_units': 64, 'model_n_hidden_l...\n",
       "4  3.785751e-10  {'model_n_hidden_units': 64, 'model_n_hidden_l..."
      ]
     },
     "metadata": {},
     "output_type": "display_data"
    }
   ],
   "source": [
    "from IPython.display import display\n",
    "mses = []\n",
    "niters = [1000, 5000, 10000, 20000, 50000, 100000]\n",
    "for d in dfs:\n",
    "    display(d.head())\n",
    "    mses.append(\n",
    "        d.mse\n",
    "    )"
   ]
  },
  {
   "cell_type": "code",
   "execution_count": 28,
   "metadata": {},
   "outputs": [
    {
     "data": {
      "image/png": "[encoded data removed]",
      "text/plain": [
       "<Figure size 864x432 with 1 Axes>"
      ]
     },
     "metadata": {
      "needs_background": "light"
     },
     "output_type": "display_data"
    }
   ],
   "source": [
    "plt.figure(figsize=(12,6))\n",
    "plt.plot(niters, mses[0], '--', label='NLO-GAN')\n",
    "plt.plot(niters, mses[1], label='NLO-L2')\n",
    "plt.plot(niters, mses[2], '-.', label='SHO-GAN')\n",
    "plt.plot(niters, mses[3], label='SHO-L2')\n",
    "plt.ylabel('Log MSE')\n",
    "plt.xlabel('Num Iters')\n",
    "plt.legend(loc='upper right')\n",
    "plt.yscale('log')"
   ]
  },
  {
   "cell_type": "code",
   "execution_count": 29,
   "metadata": {},
   "outputs": [],
   "source": [
    "newfs = ['../../results/csvs/sho_GAN_niters.csv', \n",
    "         '../../results/csvs/sho_L2_niters.csv']"
   ]
  },
  {
   "cell_type": "code",
   "execution_count": 30,
   "metadata": {},
   "outputs": [],
   "source": [
    "newdfs = []\n",
    "for f in newfs:\n",
    "    newdfs.append(\n",
    "        pd.read_csv(f, index_col=0)\n",
    "    )"
   ]
  },
  {
   "cell_type": "code",
   "execution_count": 31,
   "metadata": {},
   "outputs": [
    {
     "data": {
      "text/html": [
       "<div>\n",
       "<style scoped>\n",
       "    .dataframe tbody tr th:only-of-type {\n",
       "        vertical-align: middle;\n",
       "    }\n",
       "\n",
       "    .dataframe tbody tr th {\n",
       "        vertical-align: top;\n",
       "    }\n",
       "\n",
       "    .dataframe thead th {\n",
       "        text-align: right;\n",
       "    }\n",
       "</style>\n",
       "<table border=\"1\" class=\"dataframe\">\n",
       "  <thead>\n",
       "    <tr style=\"text-align: right;\">\n",
       "      <th></th>\n",
       "      <th>mse</th>\n",
       "      <th>hypers</th>\n",
       "    </tr>\n",
       "  </thead>\n",
       "  <tbody>\n",
       "    <tr>\n",
       "      <th>0</th>\n",
       "      <td>[0.1891838014125824, 0.20131973922252655, 0.18...</td>\n",
       "      <td>{'gan_niters': 1000, 'disc_n_hidden_units': 64...</td>\n",
       "    </tr>\n",
       "    <tr>\n",
       "      <th>1</th>\n",
       "      <td>[3.096386791412442e-08, 2.6667001051805528e-08...</td>\n",
       "      <td>{'gan_niters': 5000, 'disc_n_hidden_units': 64...</td>\n",
       "    </tr>\n",
       "    <tr>\n",
       "      <th>2</th>\n",
       "      <td>[6.0907257015685445e-09, 2.0279339096873628e-0...</td>\n",
       "      <td>{'gan_niters': 10000, 'disc_n_hidden_units': 6...</td>\n",
       "    </tr>\n",
       "    <tr>\n",
       "      <th>3</th>\n",
       "      <td>[3.267293768871582e-09, 2.8852687350422457e-08...</td>\n",
       "      <td>{'gan_niters': 20000, 'disc_n_hidden_units': 6...</td>\n",
       "    </tr>\n",
       "    <tr>\n",
       "      <th>4</th>\n",
       "      <td>[9.881341300754798e-10, 2.614183092219946e-09,...</td>\n",
       "      <td>{'gan_niters': 50000, 'disc_n_hidden_units': 6...</td>\n",
       "    </tr>\n",
       "  </tbody>\n",
       "</table>\n",
       "</div>"
      ],
      "text/plain": [
       "                                                 mse  \\\n",
       "0  [0.1891838014125824, 0.20131973922252655, 0.18...   \n",
       "1  [3.096386791412442e-08, 2.6667001051805528e-08...   \n",
       "2  [6.0907257015685445e-09, 2.0279339096873628e-0...   \n",
       "3  [3.267293768871582e-09, 2.8852687350422457e-08...   \n",
       "4  [9.881341300754798e-10, 2.614183092219946e-09,...   \n",
       "\n",
       "                                              hypers  \n",
       "0  {'gan_niters': 1000, 'disc_n_hidden_units': 64...  \n",
       "1  {'gan_niters': 5000, 'disc_n_hidden_units': 64...  \n",
       "2  {'gan_niters': 10000, 'disc_n_hidden_units': 6...  \n",
       "3  {'gan_niters': 20000, 'disc_n_hidden_units': 6...  \n",
       "4  {'gan_niters': 50000, 'disc_n_hidden_units': 6...  "
      ]
     },
     "execution_count": 31,
     "metadata": {},
     "output_type": "execute_result"
    }
   ],
   "source": [
    "newdfs[0].head()"
   ]
  },
  {
   "cell_type": "code",
   "execution_count": 58,
   "metadata": {},
   "outputs": [],
   "source": [
    "best_run_from_list_string = lambda x: np.min(np.array(x.strip('][').split(', '), dtype=np.float))"
   ]
  },
  {
   "cell_type": "code",
   "execution_count": 60,
   "metadata": {},
   "outputs": [],
   "source": [
    "min_mses = []\n",
    "for df in newdfs:\n",
    "    min_mses.append(\n",
    "        df.mse.apply(best_run_from_list_string).tolist()\n",
    "    )\n",
    "    "
   ]
  },
  {
   "cell_type": "code",
   "execution_count": 63,
   "metadata": {},
   "outputs": [
    {
     "data": {
      "image/png": "[encoded data removed]",
      "text/plain": [
       "<Figure size 864x432 with 1 Axes>"
      ]
     },
     "metadata": {
      "needs_background": "light"
     },
     "output_type": "display_data"
    }
   ],
   "source": [
    "plt.figure(figsize=(12,6))\n",
    "# plt.plot(niters, mses[0], '--', label='NLO-GAN')\n",
    "# plt.plot(niters, mses[1], label='NLO-L2')\n",
    "plt.plot(niters, mses[2], '-.', label='SHO-GAN')\n",
    "plt.plot(niters, mses[3], label='SHO-L2')\n",
    "plt.plot(niters, min_mses[0], '--', label='SHO-GAN-MIN')\n",
    "plt.plot(niters, min_mses[1], label='SHO-L2-MIN')\n",
    "plt.ylabel('Log MSE')\n",
    "plt.xlabel('Num Iters')\n",
    "plt.legend(loc='upper right')\n",
    "plt.yscale('log')"
   ]
  },
  {
   "cell_type": "code",
   "execution_count": null,
   "metadata": {},
   "outputs": [],
   "source": []
  }
 ],
 "metadata": {
  "kernelspec": {
   "display_name": "Python 3",
   "language": "python",
   "name": "python3"
  },
  "language_info": {
   "codemirror_mode": {
    "name": "ipython",
    "version": 3
   },
   "file_extension": ".py",
   "mimetype": "text/x-python",
   "name": "python",
   "nbconvert_exporter": "python",
   "pygments_lexer": "ipython3",
   "version": "3.7.3"
  }
 },
 "nbformat": 4,
 "nbformat_minor": 4
}
