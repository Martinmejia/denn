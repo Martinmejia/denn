{
 "cells": [
  {
   "cell_type": "code",
   "execution_count": 1,
   "metadata": {},
   "outputs": [],
   "source": [
    "import pandas as pd\n",
    "import matplotlib.pyplot as plt\n",
    "import denn.utils as utils\n",
    "import numpy as np"
   ]
  },
  {
   "cell_type": "markdown",
   "metadata": {},
   "source": [
    "# SHO"
   ]
  },
  {
   "cell_type": "code",
   "execution_count": 6,
   "metadata": {},
   "outputs": [],
   "source": [
    "# fnames = ['../../results/csvs/nlo_GAN_niters.csv', '../../results/csvs/nlo_L2_niters.csv',\n",
    "#           '../../results/csvs/sho_GAN_hypertune_niters.csv', \n",
    "#           '../../results/csvs/sho_L2_hypertune_niters.csv']\n",
    "sho_fnames = ['../../results/csvs/sho_GAN_niters_20reps_G64by2_D64by10.csv',\n",
    "              '../../results/csvs/sho_L2_niters_20rep_64by2.csv']"
   ]
  },
  {
   "cell_type": "code",
   "execution_count": 7,
   "metadata": {},
   "outputs": [],
   "source": [
    "dfs = []\n",
    "for f in sho_fnames:\n",
    "    dfs.append(\n",
    "        pd.read_csv(f, index_col=0)\n",
    "    )"
   ]
  },
  {
   "cell_type": "code",
   "execution_count": 8,
   "metadata": {},
   "outputs": [
    {
     "data": {
      "text/html": [
       "<div>\n",
       "<style scoped>\n",
       "    .dataframe tbody tr th:only-of-type {\n",
       "        vertical-align: middle;\n",
       "    }\n",
       "\n",
       "    .dataframe tbody tr th {\n",
       "        vertical-align: top;\n",
       "    }\n",
       "\n",
       "    .dataframe thead th {\n",
       "        text-align: right;\n",
       "    }\n",
       "</style>\n",
       "<table border=\"1\" class=\"dataframe\">\n",
       "  <thead>\n",
       "    <tr style=\"text-align: right;\">\n",
       "      <th></th>\n",
       "      <th>mse</th>\n",
       "      <th>hypers</th>\n",
       "    </tr>\n",
       "  </thead>\n",
       "  <tbody>\n",
       "    <tr>\n",
       "      <th>0</th>\n",
       "      <td>[0.17484891414642334, 0.16073854267597198, 0.2...</td>\n",
       "      <td>{'gan_niters': 1000, 'gan_gamma': 0.999, 'disc...</td>\n",
       "    </tr>\n",
       "    <tr>\n",
       "      <th>1</th>\n",
       "      <td>[0.08091077208518982, 0.001273106667213142, 0....</td>\n",
       "      <td>{'gan_niters': 2000, 'gan_gamma': 0.999, 'disc...</td>\n",
       "    </tr>\n",
       "    <tr>\n",
       "      <th>2</th>\n",
       "      <td>[1.660758425714448e-05, 2.070787786578876e-06,...</td>\n",
       "      <td>{'gan_niters': 5000, 'gan_gamma': 0.999, 'disc...</td>\n",
       "    </tr>\n",
       "    <tr>\n",
       "      <th>3</th>\n",
       "      <td>[2.818130269588437e-06, 4.380001250581245e-09,...</td>\n",
       "      <td>{'gan_niters': 10000, 'gan_gamma': 0.999, 'dis...</td>\n",
       "    </tr>\n",
       "    <tr>\n",
       "      <th>4</th>\n",
       "      <td>[3.1628173413622562e-09, 2.5486093235826957e-0...</td>\n",
       "      <td>{'gan_niters': 20000, 'gan_gamma': 0.999, 'dis...</td>\n",
       "    </tr>\n",
       "  </tbody>\n",
       "</table>\n",
       "</div>"
      ],
      "text/plain": [
       "                                                 mse  \\\n",
       "0  [0.17484891414642334, 0.16073854267597198, 0.2...   \n",
       "1  [0.08091077208518982, 0.001273106667213142, 0....   \n",
       "2  [1.660758425714448e-05, 2.070787786578876e-06,...   \n",
       "3  [2.818130269588437e-06, 4.380001250581245e-09,...   \n",
       "4  [3.1628173413622562e-09, 2.5486093235826957e-0...   \n",
       "\n",
       "                                              hypers  \n",
       "0  {'gan_niters': 1000, 'gan_gamma': 0.999, 'disc...  \n",
       "1  {'gan_niters': 2000, 'gan_gamma': 0.999, 'disc...  \n",
       "2  {'gan_niters': 5000, 'gan_gamma': 0.999, 'disc...  \n",
       "3  {'gan_niters': 10000, 'gan_gamma': 0.999, 'dis...  \n",
       "4  {'gan_niters': 20000, 'gan_gamma': 0.999, 'dis...  "
      ]
     },
     "metadata": {},
     "output_type": "display_data"
    },
    {
     "data": {
      "text/html": [
       "<div>\n",
       "<style scoped>\n",
       "    .dataframe tbody tr th:only-of-type {\n",
       "        vertical-align: middle;\n",
       "    }\n",
       "\n",
       "    .dataframe tbody tr th {\n",
       "        vertical-align: top;\n",
       "    }\n",
       "\n",
       "    .dataframe thead th {\n",
       "        text-align: right;\n",
       "    }\n",
       "</style>\n",
       "<table border=\"1\" class=\"dataframe\">\n",
       "  <thead>\n",
       "    <tr style=\"text-align: right;\">\n",
       "      <th></th>\n",
       "      <th>mse</th>\n",
       "      <th>hypers</th>\n",
       "    </tr>\n",
       "  </thead>\n",
       "  <tbody>\n",
       "    <tr>\n",
       "      <th>0</th>\n",
       "      <td>[0.13042812049388885, 0.06417343020439148, 0.1...</td>\n",
       "      <td>{'model_n_hidden_units': 64, 'model_n_hidden_l...</td>\n",
       "    </tr>\n",
       "    <tr>\n",
       "      <th>1</th>\n",
       "      <td>[0.03315220773220062, 0.006466000806540251, 0....</td>\n",
       "      <td>{'model_n_hidden_units': 64, 'model_n_hidden_l...</td>\n",
       "    </tr>\n",
       "    <tr>\n",
       "      <th>2</th>\n",
       "      <td>[4.086726221430581e-06, 1.0136152468476212e-06...</td>\n",
       "      <td>{'model_n_hidden_units': 64, 'model_n_hidden_l...</td>\n",
       "    </tr>\n",
       "    <tr>\n",
       "      <th>3</th>\n",
       "      <td>[2.232506624011421e-08, 2.667156877578236e-07,...</td>\n",
       "      <td>{'model_n_hidden_units': 64, 'model_n_hidden_l...</td>\n",
       "    </tr>\n",
       "    <tr>\n",
       "      <th>4</th>\n",
       "      <td>[1.0755265122952551e-07, 4.530007657876922e-08...</td>\n",
       "      <td>{'model_n_hidden_units': 64, 'model_n_hidden_l...</td>\n",
       "    </tr>\n",
       "  </tbody>\n",
       "</table>\n",
       "</div>"
      ],
      "text/plain": [
       "                                                 mse  \\\n",
       "0  [0.13042812049388885, 0.06417343020439148, 0.1...   \n",
       "1  [0.03315220773220062, 0.006466000806540251, 0....   \n",
       "2  [4.086726221430581e-06, 1.0136152468476212e-06...   \n",
       "3  [2.232506624011421e-08, 2.667156877578236e-07,...   \n",
       "4  [1.0755265122952551e-07, 4.530007657876922e-08...   \n",
       "\n",
       "                                              hypers  \n",
       "0  {'model_n_hidden_units': 64, 'model_n_hidden_l...  \n",
       "1  {'model_n_hidden_units': 64, 'model_n_hidden_l...  \n",
       "2  {'model_n_hidden_units': 64, 'model_n_hidden_l...  \n",
       "3  {'model_n_hidden_units': 64, 'model_n_hidden_l...  \n",
       "4  {'model_n_hidden_units': 64, 'model_n_hidden_l...  "
      ]
     },
     "metadata": {},
     "output_type": "display_data"
    }
   ],
   "source": [
    "from IPython.display import display\n",
    "for d in dfs:\n",
    "    display(d.head())"
   ]
  },
  {
   "cell_type": "code",
   "execution_count": 9,
   "metadata": {},
   "outputs": [],
   "source": [
    "for d in dfs:\n",
    "    d.mse = d.mse.apply(eval) # convert string to list"
   ]
  },
  {
   "cell_type": "code",
   "execution_count": 10,
   "metadata": {},
   "outputs": [],
   "source": [
    "for d in dfs:\n",
    "    d['mse_top'] = d.mse.apply(lambda x: np.sort(x)[:10])"
   ]
  },
  {
   "cell_type": "code",
   "execution_count": 11,
   "metadata": {},
   "outputs": [],
   "source": [
    "for d in dfs:\n",
    "    d['mse_mean'] = d.mse_top.apply(np.mean)\n",
    "    d['mse_std'] = d.mse_top.apply(np.std)"
   ]
  },
  {
   "cell_type": "code",
   "execution_count": 12,
   "metadata": {},
   "outputs": [],
   "source": [
    "niters = [1000, 2000, 5000, 10000, 20000]"
   ]
  },
  {
   "cell_type": "code",
   "execution_count": 16,
   "metadata": {},
   "outputs": [
    {
     "data": {
      "image/png": "[encoded data removed]",
      "text/plain": [
       "<Figure size 432x288 with 1 Axes>"
      ]
     },
     "metadata": {
      "needs_background": "light"
     },
     "output_type": "display_data"
    }
   ],
   "source": [
    "fig = plt.figure(figsize=(6,4))\n",
    "plt.plot(niters, dfs[0].mse_mean, '-.', label='GAN')\n",
    "plt.fill_between(niters, dfs[0].mse_mean - dfs[0].mse_std, dfs[0].mse_mean + dfs[0].mse_std, alpha=0.2)\n",
    "plt.plot(niters, dfs[1].mse_mean, label='L2')\n",
    "plt.fill_between(niters, dfs[1].mse_mean - dfs[1].mse_std, dfs[1].mse_mean + dfs[1].mse_std, alpha=0.2)\n",
    "plt.ylabel('Mean Squared Error')\n",
    "plt.xlabel('Number of Iterations')\n",
    "plt.legend(loc='upper right')\n",
    "plt.yscale('log')\n",
    "fig.tight_layout()\n",
    "plt.savefig('../../results/imgs/sho_gan_vs_l2_niters.png')"
   ]
  },
  {
   "cell_type": "code",
   "execution_count": 17,
   "metadata": {},
   "outputs": [],
   "source": [
    "newfs = ['../../results/csvs/sho_GAN_niters.csv', \n",
    "         '../../results/csvs/sho_L2_niters.csv']"
   ]
  },
  {
   "cell_type": "code",
   "execution_count": null,
   "metadata": {},
   "outputs": [],
   "source": [
    "newdfs = []\n",
    "for f in newfs:\n",
    "    newdfs.append(\n",
    "        pd.read_csv(f, index_col=0)\n",
    "    )"
   ]
  },
  {
   "cell_type": "code",
   "execution_count": 31,
   "metadata": {},
   "outputs": [
    {
     "data": {
      "text/html": [
       "<div>\n",
       "<style scoped>\n",
       "    .dataframe tbody tr th:only-of-type {\n",
       "        vertical-align: middle;\n",
       "    }\n",
       "\n",
       "    .dataframe tbody tr th {\n",
       "        vertical-align: top;\n",
       "    }\n",
       "\n",
       "    .dataframe thead th {\n",
       "        text-align: right;\n",
       "    }\n",
       "</style>\n",
       "<table border=\"1\" class=\"dataframe\">\n",
       "  <thead>\n",
       "    <tr style=\"text-align: right;\">\n",
       "      <th></th>\n",
       "      <th>mse</th>\n",
       "      <th>hypers</th>\n",
       "    </tr>\n",
       "  </thead>\n",
       "  <tbody>\n",
       "    <tr>\n",
       "      <th>0</th>\n",
       "      <td>[0.1891838014125824, 0.20131973922252655, 0.18...</td>\n",
       "      <td>{'gan_niters': 1000, 'disc_n_hidden_units': 64...</td>\n",
       "    </tr>\n",
       "    <tr>\n",
       "      <th>1</th>\n",
       "      <td>[3.096386791412442e-08, 2.6667001051805528e-08...</td>\n",
       "      <td>{'gan_niters': 5000, 'disc_n_hidden_units': 64...</td>\n",
       "    </tr>\n",
       "    <tr>\n",
       "      <th>2</th>\n",
       "      <td>[6.0907257015685445e-09, 2.0279339096873628e-0...</td>\n",
       "      <td>{'gan_niters': 10000, 'disc_n_hidden_units': 6...</td>\n",
       "    </tr>\n",
       "    <tr>\n",
       "      <th>3</th>\n",
       "      <td>[3.267293768871582e-09, 2.8852687350422457e-08...</td>\n",
       "      <td>{'gan_niters': 20000, 'disc_n_hidden_units': 6...</td>\n",
       "    </tr>\n",
       "    <tr>\n",
       "      <th>4</th>\n",
       "      <td>[9.881341300754798e-10, 2.614183092219946e-09,...</td>\n",
       "      <td>{'gan_niters': 50000, 'disc_n_hidden_units': 6...</td>\n",
       "    </tr>\n",
       "  </tbody>\n",
       "</table>\n",
       "</div>"
      ],
      "text/plain": [
       "                                                 mse  \\\n",
       "0  [0.1891838014125824, 0.20131973922252655, 0.18...   \n",
       "1  [3.096386791412442e-08, 2.6667001051805528e-08...   \n",
       "2  [6.0907257015685445e-09, 2.0279339096873628e-0...   \n",
       "3  [3.267293768871582e-09, 2.8852687350422457e-08...   \n",
       "4  [9.881341300754798e-10, 2.614183092219946e-09,...   \n",
       "\n",
       "                                              hypers  \n",
       "0  {'gan_niters': 1000, 'disc_n_hidden_units': 64...  \n",
       "1  {'gan_niters': 5000, 'disc_n_hidden_units': 64...  \n",
       "2  {'gan_niters': 10000, 'disc_n_hidden_units': 6...  \n",
       "3  {'gan_niters': 20000, 'disc_n_hidden_units': 6...  \n",
       "4  {'gan_niters': 50000, 'disc_n_hidden_units': 6...  "
      ]
     },
     "execution_count": 31,
     "metadata": {},
     "output_type": "execute_result"
    }
   ],
   "source": [
    "newdfs[0].head()"
   ]
  },
  {
   "cell_type": "code",
   "execution_count": 58,
   "metadata": {},
   "outputs": [],
   "source": [
    "best_run_from_list_string = lambda x: np.min(np.array(x.strip('][').split(', '), dtype=np.float))"
   ]
  },
  {
   "cell_type": "code",
   "execution_count": 60,
   "metadata": {},
   "outputs": [],
   "source": [
    "min_mses = []\n",
    "for df in newdfs:\n",
    "    min_mses.append(\n",
    "        df.mse.apply(best_run_from_list_string).tolist()\n",
    "    )\n",
    "    "
   ]
  },
  {
   "cell_type": "code",
   "execution_count": 63,
   "metadata": {},
   "outputs": [
    {
     "data": {
      "image/png": "[encoded data removed]",
      "text/plain": [
       "<Figure size 864x432 with 1 Axes>"
      ]
     },
     "metadata": {
      "needs_background": "light"
     },
     "output_type": "display_data"
    }
   ],
   "source": [
    "plt.figure(figsize=(12,6))\n",
    "# plt.plot(niters, mses[0], '--', label='NLO-GAN')\n",
    "# plt.plot(niters, mses[1], label='NLO-L2')\n",
    "plt.plot(niters, mses[2], '-.', label='SHO-GAN')\n",
    "plt.plot(niters, mses[3], label='SHO-L2')\n",
    "plt.plot(niters, min_mses[0], '--', label='SHO-GAN-MIN')\n",
    "plt.plot(niters, min_mses[1], label='SHO-L2-MIN')\n",
    "plt.ylabel('Log MSE')\n",
    "plt.xlabel('Num Iters')\n",
    "plt.legend(loc='upper right')\n",
    "plt.yscale('log')"
   ]
  },
  {
   "cell_type": "markdown",
   "metadata": {},
   "source": [
    "# NLO"
   ]
  },
  {
   "cell_type": "code",
   "execution_count": 201,
   "metadata": {},
   "outputs": [],
   "source": [
    "nlo_fnames = ['../../experiments/csvs/nlo_GAN_niters_expdecay.csv',\n",
    "              '../../experiments/csvs/nlo_L2_niters_expdecay.csv']\n",
    "\n",
    "nlo_fnames2 = ['../../experiments/csvs/nlo_GAN_niters_new_to_200k.csv',\n",
    "              '../../experiments/csvs/nlo_L2_niters_new_to_200k.csv']"
   ]
  },
  {
   "cell_type": "code",
   "execution_count": 202,
   "metadata": {},
   "outputs": [],
   "source": [
    "dfs = []\n",
    "for f in nlo_fnames:\n",
    "    dfs.append(\n",
    "        pd.read_csv(f, index_col=0)\n",
    "    )"
   ]
  },
  {
   "cell_type": "code",
   "execution_count": 203,
   "metadata": {},
   "outputs": [],
   "source": [
    "dfs2 = []\n",
    "for f in nlo_fnames2:\n",
    "    dfs2.append(\n",
    "        pd.read_csv(f, index_col=0)\n",
    "    )"
   ]
  },
  {
   "cell_type": "code",
   "execution_count": 204,
   "metadata": {},
   "outputs": [],
   "source": [
    "for i in range(2):\n",
    "    dfs[i] = pd.concat((dfs[i],dfs2[i]), axis=0)"
   ]
  },
  {
   "cell_type": "code",
   "execution_count": 206,
   "metadata": {},
   "outputs": [
    {
     "data": {
      "text/html": [
       "<div>\n",
       "<style scoped>\n",
       "    .dataframe tbody tr th:only-of-type {\n",
       "        vertical-align: middle;\n",
       "    }\n",
       "\n",
       "    .dataframe tbody tr th {\n",
       "        vertical-align: top;\n",
       "    }\n",
       "\n",
       "    .dataframe thead th {\n",
       "        text-align: right;\n",
       "    }\n",
       "</style>\n",
       "<table border=\"1\" class=\"dataframe\">\n",
       "  <thead>\n",
       "    <tr style=\"text-align: right;\">\n",
       "      <th></th>\n",
       "      <th>mse</th>\n",
       "      <th>hypers</th>\n",
       "    </tr>\n",
       "  </thead>\n",
       "  <tbody>\n",
       "    <tr>\n",
       "      <th>0</th>\n",
       "      <td>[0.7868427634239197, 0.12231526523828506, 0.12...</td>\n",
       "      <td>{'gan_niters': 10000, 'disc_n_hidden_units': 6...</td>\n",
       "    </tr>\n",
       "    <tr>\n",
       "      <th>1</th>\n",
       "      <td>[0.8178132176399231, 0.7863682508468628, 0.007...</td>\n",
       "      <td>{'gan_niters': 25000, 'disc_n_hidden_units': 6...</td>\n",
       "    </tr>\n",
       "    <tr>\n",
       "      <th>2</th>\n",
       "      <td>[0.8068164587020874, 0.8123703002929688, 0.812...</td>\n",
       "      <td>{'gan_niters': 50000, 'disc_n_hidden_units': 6...</td>\n",
       "    </tr>\n",
       "    <tr>\n",
       "      <th>3</th>\n",
       "      <td>[4.06991018664371e-09, 0.8128524422645569, 0.8...</td>\n",
       "      <td>{'gan_niters': 75000, 'disc_n_hidden_units': 6...</td>\n",
       "    </tr>\n",
       "    <tr>\n",
       "      <th>4</th>\n",
       "      <td>[0.8127744197845459, 0.8084324598312378, 0.812...</td>\n",
       "      <td>{'gan_niters': 100000, 'disc_n_hidden_units': ...</td>\n",
       "    </tr>\n",
       "    <tr>\n",
       "      <th>0</th>\n",
       "      <td>[0.8127719759941101, 4.1258454985815263e-10, 0...</td>\n",
       "      <td>{'gan_niters': 150000, 'disc_n_hidden_units': ...</td>\n",
       "    </tr>\n",
       "    <tr>\n",
       "      <th>1</th>\n",
       "      <td>[0.8085772395133972, 0.8127722144126892, 0.812...</td>\n",
       "      <td>{'gan_niters': 200000, 'disc_n_hidden_units': ...</td>\n",
       "    </tr>\n",
       "  </tbody>\n",
       "</table>\n",
       "</div>"
      ],
      "text/plain": [
       "                                                 mse  \\\n",
       "0  [0.7868427634239197, 0.12231526523828506, 0.12...   \n",
       "1  [0.8178132176399231, 0.7863682508468628, 0.007...   \n",
       "2  [0.8068164587020874, 0.8123703002929688, 0.812...   \n",
       "3  [4.06991018664371e-09, 0.8128524422645569, 0.8...   \n",
       "4  [0.8127744197845459, 0.8084324598312378, 0.812...   \n",
       "0  [0.8127719759941101, 4.1258454985815263e-10, 0...   \n",
       "1  [0.8085772395133972, 0.8127722144126892, 0.812...   \n",
       "\n",
       "                                              hypers  \n",
       "0  {'gan_niters': 10000, 'disc_n_hidden_units': 6...  \n",
       "1  {'gan_niters': 25000, 'disc_n_hidden_units': 6...  \n",
       "2  {'gan_niters': 50000, 'disc_n_hidden_units': 6...  \n",
       "3  {'gan_niters': 75000, 'disc_n_hidden_units': 6...  \n",
       "4  {'gan_niters': 100000, 'disc_n_hidden_units': ...  \n",
       "0  {'gan_niters': 150000, 'disc_n_hidden_units': ...  \n",
       "1  {'gan_niters': 200000, 'disc_n_hidden_units': ...  "
      ]
     },
     "metadata": {},
     "output_type": "display_data"
    },
    {
     "data": {
      "text/html": [
       "<div>\n",
       "<style scoped>\n",
       "    .dataframe tbody tr th:only-of-type {\n",
       "        vertical-align: middle;\n",
       "    }\n",
       "\n",
       "    .dataframe tbody tr th {\n",
       "        vertical-align: top;\n",
       "    }\n",
       "\n",
       "    .dataframe thead th {\n",
       "        text-align: right;\n",
       "    }\n",
       "</style>\n",
       "<table border=\"1\" class=\"dataframe\">\n",
       "  <thead>\n",
       "    <tr style=\"text-align: right;\">\n",
       "      <th></th>\n",
       "      <th>mse</th>\n",
       "      <th>hypers</th>\n",
       "    </tr>\n",
       "  </thead>\n",
       "  <tbody>\n",
       "    <tr>\n",
       "      <th>0</th>\n",
       "      <td>[0.002097155898809433, 0.813778281211853, 0.82...</td>\n",
       "      <td>{'model_n_hidden_units': 64, 'model_n_hidden_l...</td>\n",
       "    </tr>\n",
       "    <tr>\n",
       "      <th>1</th>\n",
       "      <td>[0.03643536940217018, 0.036799490451812744, 0....</td>\n",
       "      <td>{'model_n_hidden_units': 64, 'model_n_hidden_l...</td>\n",
       "    </tr>\n",
       "    <tr>\n",
       "      <th>2</th>\n",
       "      <td>[0.0008038771338760853, 0.0001589715975569561,...</td>\n",
       "      <td>{'model_n_hidden_units': 64, 'model_n_hidden_l...</td>\n",
       "    </tr>\n",
       "    <tr>\n",
       "      <th>3</th>\n",
       "      <td>[0.8127598762512207, 2.1967146324186615e-07, 0...</td>\n",
       "      <td>{'model_n_hidden_units': 64, 'model_n_hidden_l...</td>\n",
       "    </tr>\n",
       "    <tr>\n",
       "      <th>4</th>\n",
       "      <td>[7.625241664754867e-07, 3.0037595024623442e-06...</td>\n",
       "      <td>{'model_n_hidden_units': 64, 'model_n_hidden_l...</td>\n",
       "    </tr>\n",
       "    <tr>\n",
       "      <th>0</th>\n",
       "      <td>[1.7430734544632287e-07, 0.8127411603927612, 1...</td>\n",
       "      <td>{'model_n_hidden_units': 64, 'model_n_hidden_l...</td>\n",
       "    </tr>\n",
       "    <tr>\n",
       "      <th>1</th>\n",
       "      <td>[6.612586389564967e-08, 7.680214935135155e-07,...</td>\n",
       "      <td>{'model_n_hidden_units': 64, 'model_n_hidden_l...</td>\n",
       "    </tr>\n",
       "  </tbody>\n",
       "</table>\n",
       "</div>"
      ],
      "text/plain": [
       "                                                 mse  \\\n",
       "0  [0.002097155898809433, 0.813778281211853, 0.82...   \n",
       "1  [0.03643536940217018, 0.036799490451812744, 0....   \n",
       "2  [0.0008038771338760853, 0.0001589715975569561,...   \n",
       "3  [0.8127598762512207, 2.1967146324186615e-07, 0...   \n",
       "4  [7.625241664754867e-07, 3.0037595024623442e-06...   \n",
       "0  [1.7430734544632287e-07, 0.8127411603927612, 1...   \n",
       "1  [6.612586389564967e-08, 7.680214935135155e-07,...   \n",
       "\n",
       "                                              hypers  \n",
       "0  {'model_n_hidden_units': 64, 'model_n_hidden_l...  \n",
       "1  {'model_n_hidden_units': 64, 'model_n_hidden_l...  \n",
       "2  {'model_n_hidden_units': 64, 'model_n_hidden_l...  \n",
       "3  {'model_n_hidden_units': 64, 'model_n_hidden_l...  \n",
       "4  {'model_n_hidden_units': 64, 'model_n_hidden_l...  \n",
       "0  {'model_n_hidden_units': 64, 'model_n_hidden_l...  \n",
       "1  {'model_n_hidden_units': 64, 'model_n_hidden_l...  "
      ]
     },
     "metadata": {},
     "output_type": "display_data"
    }
   ],
   "source": [
    "from IPython.display import display\n",
    "for d in dfs:\n",
    "    display(d)"
   ]
  },
  {
   "cell_type": "code",
   "execution_count": 207,
   "metadata": {},
   "outputs": [],
   "source": [
    "for d in dfs:\n",
    "    d.mse = d.mse.apply(eval) # convert string to list"
   ]
  },
  {
   "cell_type": "code",
   "execution_count": 208,
   "metadata": {},
   "outputs": [],
   "source": [
    "for d in dfs:\n",
    "    d['mse_top'] = d.mse.apply(lambda x: np.sort(x)[:3])"
   ]
  },
  {
   "cell_type": "code",
   "execution_count": 209,
   "metadata": {},
   "outputs": [],
   "source": [
    "for d in dfs:\n",
    "    d['mse_mean'] = d.mse_top.apply(np.mean)\n",
    "    d['mse_std'] = d.mse_top.apply(np.std)"
   ]
  },
  {
   "cell_type": "code",
   "execution_count": 210,
   "metadata": {},
   "outputs": [],
   "source": [
    "niters = [10000, 25000, 50000, 75000, 100000, 150000, 200000]"
   ]
  },
  {
   "cell_type": "code",
   "execution_count": 211,
   "metadata": {},
   "outputs": [
    {
     "data": {
      "image/png": "[encoded data removed]",
      "text/plain": [
       "<Figure size 432x288 with 1 Axes>"
      ]
     },
     "metadata": {
      "needs_background": "light"
     },
     "output_type": "display_data"
    }
   ],
   "source": [
    "fig = plt.figure(figsize=(6,4))\n",
    "plt.plot(niters, dfs[0].mse_mean, '-.', label='GAN')\n",
    "plt.fill_between(niters, dfs[0].mse_mean - dfs[0].mse_std, dfs[0].mse_mean + dfs[0].mse_std, alpha=0.2)\n",
    "plt.plot(niters, dfs[1].mse_mean, label='L2')\n",
    "plt.fill_between(niters, dfs[1].mse_mean - dfs[1].mse_std, dfs[1].mse_mean + dfs[1].mse_std, alpha=0.2)\n",
    "plt.ylabel('Mean Squared Error')\n",
    "plt.xlabel('Number of Iterations')\n",
    "plt.legend(loc='upper right')\n",
    "plt.yscale('log')\n",
    "fig.tight_layout()\n",
    "plt.savefig('../../results/imgs/nlo_gan_vs_l2_niters.png')"
   ]
  },
  {
   "cell_type": "markdown",
   "metadata": {},
   "source": [
    "# Poisson"
   ]
  },
  {
   "cell_type": "code",
   "execution_count": 142,
   "metadata": {},
   "outputs": [],
   "source": [
    "pos_fnames = ['../../experiments/csvs/pos_GAN_niters_new.csv',\n",
    "              '../../experiments/csvs/pos_L2_niters_new.csv']\n",
    "\n",
    "pos_fnames2 = ['../../experiments/csvs/pos_GAN_niters_1k2k.csv',\n",
    "               '../../experiments/csvs/pos_L2_niters_1k2k.csv']\n",
    "\n",
    "# pos_fnames = ['../../denn/gan_pos_niters.csv',\n",
    "#               '../../denn/l2_pos_niters.csv']"
   ]
  },
  {
   "cell_type": "code",
   "execution_count": 143,
   "metadata": {},
   "outputs": [],
   "source": [
    "dfs1 = []\n",
    "for f in pos_fnames:\n",
    "    dfs1.append(\n",
    "        pd.read_csv(f, index_col=0)\n",
    "    )"
   ]
  },
  {
   "cell_type": "code",
   "execution_count": 144,
   "metadata": {},
   "outputs": [],
   "source": [
    "dfs2 = []\n",
    "for f in pos_fnames2:\n",
    "    dfs2.append(\n",
    "        pd.read_csv(f, index_col=0)\n",
    "    )"
   ]
  },
  {
   "cell_type": "code",
   "execution_count": 146,
   "metadata": {},
   "outputs": [],
   "source": [
    "dfs = []\n",
    "for d1, d2 in zip(dfs1, dfs2):\n",
    "    dfs.append(pd.concat((d1,d2), axis=0))"
   ]
  },
  {
   "cell_type": "code",
   "execution_count": 147,
   "metadata": {},
   "outputs": [
    {
     "data": {
      "text/html": [
       "<div>\n",
       "<style scoped>\n",
       "    .dataframe tbody tr th:only-of-type {\n",
       "        vertical-align: middle;\n",
       "    }\n",
       "\n",
       "    .dataframe tbody tr th {\n",
       "        vertical-align: top;\n",
       "    }\n",
       "\n",
       "    .dataframe thead th {\n",
       "        text-align: right;\n",
       "    }\n",
       "</style>\n",
       "<table border=\"1\" class=\"dataframe\">\n",
       "  <thead>\n",
       "    <tr style=\"text-align: right;\">\n",
       "      <th></th>\n",
       "      <th>mse</th>\n",
       "      <th>hypers</th>\n",
       "    </tr>\n",
       "  </thead>\n",
       "  <tbody>\n",
       "    <tr>\n",
       "      <th>0</th>\n",
       "      <td>[0.07833447307348251, 0.08658941835165024, 0.0...</td>\n",
       "      <td>{'gan_niters': 10, 'disc_n_hidden_units': 64, ...</td>\n",
       "    </tr>\n",
       "    <tr>\n",
       "      <th>1</th>\n",
       "      <td>[0.04386673867702484, 0.041368577629327774, 0....</td>\n",
       "      <td>{'gan_niters': 25, 'disc_n_hidden_units': 64, ...</td>\n",
       "    </tr>\n",
       "    <tr>\n",
       "      <th>2</th>\n",
       "      <td>[0.022996261715888977, 0.024573713541030884, 0...</td>\n",
       "      <td>{'gan_niters': 50, 'disc_n_hidden_units': 64, ...</td>\n",
       "    </tr>\n",
       "    <tr>\n",
       "      <th>3</th>\n",
       "      <td>[0.0239004734903574, 0.014714064076542854, 0.0...</td>\n",
       "      <td>{'gan_niters': 75, 'disc_n_hidden_units': 64, ...</td>\n",
       "    </tr>\n",
       "    <tr>\n",
       "      <th>4</th>\n",
       "      <td>[0.009233458898961544, 0.011373691260814667, 0...</td>\n",
       "      <td>{'gan_niters': 100, 'disc_n_hidden_units': 64,...</td>\n",
       "    </tr>\n",
       "    <tr>\n",
       "      <th>5</th>\n",
       "      <td>[0.002538301981985569, 0.0022573494352400303, ...</td>\n",
       "      <td>{'gan_niters': 200, 'disc_n_hidden_units': 64,...</td>\n",
       "    </tr>\n",
       "    <tr>\n",
       "      <th>6</th>\n",
       "      <td>[0.004369404632598162, 0.0005955059896223247, ...</td>\n",
       "      <td>{'gan_niters': 500, 'disc_n_hidden_units': 64,...</td>\n",
       "    </tr>\n",
       "    <tr>\n",
       "      <th>0</th>\n",
       "      <td>[0.002432918408885598, 0.0005865090060979128, ...</td>\n",
       "      <td>{'gan_niters': 1000, 'disc_n_hidden_units': 64...</td>\n",
       "    </tr>\n",
       "    <tr>\n",
       "      <th>1</th>\n",
       "      <td>[0.0006709417211823165, 0.0009625101811252534,...</td>\n",
       "      <td>{'gan_niters': 2000, 'disc_n_hidden_units': 64...</td>\n",
       "    </tr>\n",
       "  </tbody>\n",
       "</table>\n",
       "</div>"
      ],
      "text/plain": [
       "                                                 mse  \\\n",
       "0  [0.07833447307348251, 0.08658941835165024, 0.0...   \n",
       "1  [0.04386673867702484, 0.041368577629327774, 0....   \n",
       "2  [0.022996261715888977, 0.024573713541030884, 0...   \n",
       "3  [0.0239004734903574, 0.014714064076542854, 0.0...   \n",
       "4  [0.009233458898961544, 0.011373691260814667, 0...   \n",
       "5  [0.002538301981985569, 0.0022573494352400303, ...   \n",
       "6  [0.004369404632598162, 0.0005955059896223247, ...   \n",
       "0  [0.002432918408885598, 0.0005865090060979128, ...   \n",
       "1  [0.0006709417211823165, 0.0009625101811252534,...   \n",
       "\n",
       "                                              hypers  \n",
       "0  {'gan_niters': 10, 'disc_n_hidden_units': 64, ...  \n",
       "1  {'gan_niters': 25, 'disc_n_hidden_units': 64, ...  \n",
       "2  {'gan_niters': 50, 'disc_n_hidden_units': 64, ...  \n",
       "3  {'gan_niters': 75, 'disc_n_hidden_units': 64, ...  \n",
       "4  {'gan_niters': 100, 'disc_n_hidden_units': 64,...  \n",
       "5  {'gan_niters': 200, 'disc_n_hidden_units': 64,...  \n",
       "6  {'gan_niters': 500, 'disc_n_hidden_units': 64,...  \n",
       "0  {'gan_niters': 1000, 'disc_n_hidden_units': 64...  \n",
       "1  {'gan_niters': 2000, 'disc_n_hidden_units': 64...  "
      ]
     },
     "metadata": {},
     "output_type": "display_data"
    },
    {
     "data": {
      "text/html": [
       "<div>\n",
       "<style scoped>\n",
       "    .dataframe tbody tr th:only-of-type {\n",
       "        vertical-align: middle;\n",
       "    }\n",
       "\n",
       "    .dataframe tbody tr th {\n",
       "        vertical-align: top;\n",
       "    }\n",
       "\n",
       "    .dataframe thead th {\n",
       "        text-align: right;\n",
       "    }\n",
       "</style>\n",
       "<table border=\"1\" class=\"dataframe\">\n",
       "  <thead>\n",
       "    <tr style=\"text-align: right;\">\n",
       "      <th></th>\n",
       "      <th>mse</th>\n",
       "      <th>hypers</th>\n",
       "    </tr>\n",
       "  </thead>\n",
       "  <tbody>\n",
       "    <tr>\n",
       "      <th>0</th>\n",
       "      <td>[0.09562679380178452, 0.08719068765640259, 0.0...</td>\n",
       "      <td>{'train_niters': 10, 'model_n_hidden_units': 6...</td>\n",
       "    </tr>\n",
       "    <tr>\n",
       "      <th>1</th>\n",
       "      <td>[0.056585270911455154, 0.06184493377804756, 0....</td>\n",
       "      <td>{'train_niters': 25, 'model_n_hidden_units': 6...</td>\n",
       "    </tr>\n",
       "    <tr>\n",
       "      <th>2</th>\n",
       "      <td>[0.04506276920437813, 0.04145204648375511, 0.0...</td>\n",
       "      <td>{'train_niters': 50, 'model_n_hidden_units': 6...</td>\n",
       "    </tr>\n",
       "    <tr>\n",
       "      <th>3</th>\n",
       "      <td>[0.026102198287844658, 0.031468287110328674, 0...</td>\n",
       "      <td>{'train_niters': 75, 'model_n_hidden_units': 6...</td>\n",
       "    </tr>\n",
       "    <tr>\n",
       "      <th>4</th>\n",
       "      <td>[0.023801127448678017, 0.024172380566596985, 0...</td>\n",
       "      <td>{'train_niters': 100, 'model_n_hidden_units': ...</td>\n",
       "    </tr>\n",
       "    <tr>\n",
       "      <th>5</th>\n",
       "      <td>[0.01664985902607441, 0.009015422314405441, 0....</td>\n",
       "      <td>{'train_niters': 200, 'model_n_hidden_units': ...</td>\n",
       "    </tr>\n",
       "    <tr>\n",
       "      <th>6</th>\n",
       "      <td>[0.005038523580878973, 0.006049716379493475, 0...</td>\n",
       "      <td>{'train_niters': 500, 'model_n_hidden_units': ...</td>\n",
       "    </tr>\n",
       "    <tr>\n",
       "      <th>0</th>\n",
       "      <td>[0.004639558028429747, 0.006097973324358463, 0...</td>\n",
       "      <td>{'train_niters': 1000, 'model_n_hidden_units':...</td>\n",
       "    </tr>\n",
       "    <tr>\n",
       "      <th>1</th>\n",
       "      <td>[0.004099401645362377, 0.007195781916379929, 0...</td>\n",
       "      <td>{'train_niters': 2000, 'model_n_hidden_units':...</td>\n",
       "    </tr>\n",
       "  </tbody>\n",
       "</table>\n",
       "</div>"
      ],
      "text/plain": [
       "                                                 mse  \\\n",
       "0  [0.09562679380178452, 0.08719068765640259, 0.0...   \n",
       "1  [0.056585270911455154, 0.06184493377804756, 0....   \n",
       "2  [0.04506276920437813, 0.04145204648375511, 0.0...   \n",
       "3  [0.026102198287844658, 0.031468287110328674, 0...   \n",
       "4  [0.023801127448678017, 0.024172380566596985, 0...   \n",
       "5  [0.01664985902607441, 0.009015422314405441, 0....   \n",
       "6  [0.005038523580878973, 0.006049716379493475, 0...   \n",
       "0  [0.004639558028429747, 0.006097973324358463, 0...   \n",
       "1  [0.004099401645362377, 0.007195781916379929, 0...   \n",
       "\n",
       "                                              hypers  \n",
       "0  {'train_niters': 10, 'model_n_hidden_units': 6...  \n",
       "1  {'train_niters': 25, 'model_n_hidden_units': 6...  \n",
       "2  {'train_niters': 50, 'model_n_hidden_units': 6...  \n",
       "3  {'train_niters': 75, 'model_n_hidden_units': 6...  \n",
       "4  {'train_niters': 100, 'model_n_hidden_units': ...  \n",
       "5  {'train_niters': 200, 'model_n_hidden_units': ...  \n",
       "6  {'train_niters': 500, 'model_n_hidden_units': ...  \n",
       "0  {'train_niters': 1000, 'model_n_hidden_units':...  \n",
       "1  {'train_niters': 2000, 'model_n_hidden_units':...  "
      ]
     },
     "metadata": {},
     "output_type": "display_data"
    }
   ],
   "source": [
    "from IPython.display import display\n",
    "for d in dfs:\n",
    "    display(d)"
   ]
  },
  {
   "cell_type": "code",
   "execution_count": 148,
   "metadata": {},
   "outputs": [],
   "source": [
    "dfs[0].to_csv('../../experiments/csvs/pos_GAN_niters_new_joined.csv')\n",
    "dfs[1].to_csv('../../experiments/csvs/pos_L2_niters_new_joined.csv')"
   ]
  },
  {
   "cell_type": "code",
   "execution_count": 149,
   "metadata": {},
   "outputs": [],
   "source": [
    "for d in dfs:\n",
    "    d.mse = d.mse.apply(eval) # convert string to list"
   ]
  },
  {
   "cell_type": "code",
   "execution_count": 150,
   "metadata": {},
   "outputs": [],
   "source": [
    "for d in dfs:\n",
    "    d['mse_top'] = d.mse.apply(lambda x: np.sort(x)[:10])"
   ]
  },
  {
   "cell_type": "code",
   "execution_count": 151,
   "metadata": {},
   "outputs": [],
   "source": [
    "for d in dfs:\n",
    "    d['mse_mean'] = d.mse_top.apply(np.mean)\n",
    "    d['mse_std'] = d.mse_top.apply(np.std)"
   ]
  },
  {
   "cell_type": "code",
   "execution_count": 152,
   "metadata": {},
   "outputs": [],
   "source": [
    "niters = [10, 25, 50, 75, 100,  200, 500, 1000, 2000]\n",
    "# niters = [10, 20, 50, 100, 200, 500, 1000]"
   ]
  },
  {
   "cell_type": "code",
   "execution_count": 153,
   "metadata": {},
   "outputs": [
    {
     "data": {
      "image/png": "[encoded data removed]",
      "text/plain": [
       "<Figure size 432x288 with 1 Axes>"
      ]
     },
     "metadata": {
      "needs_background": "light"
     },
     "output_type": "display_data"
    }
   ],
   "source": [
    "fig = plt.figure(figsize=(6,4))\n",
    "plt.plot(niters, dfs[0].mse_mean, '-.', label='GAN')\n",
    "plt.fill_between(niters, dfs[0].mse_mean - dfs[0].mse_std, dfs[0].mse_mean + dfs[0].mse_std, alpha=0.2)\n",
    "plt.plot(niters, dfs[1].mse_mean, label='L2')\n",
    "plt.fill_between(niters, dfs[1].mse_mean - dfs[1].mse_std, dfs[1].mse_mean + dfs[1].mse_std, alpha=0.2)\n",
    "plt.ylabel('Mean Squared Error')\n",
    "plt.xlabel('Number of Iterations')\n",
    "plt.legend(loc='upper right')\n",
    "plt.yscale('log')\n",
    "fig.tight_layout()\n",
    "plt.savefig('../../results/imgs/pos_gan_vs_l2_niters.png')"
   ]
  },
  {
   "cell_type": "markdown",
   "metadata": {},
   "source": [
    "# EXP"
   ]
  },
  {
   "cell_type": "code",
   "execution_count": 154,
   "metadata": {},
   "outputs": [],
   "source": [
    "gan_reps = np.load('../exp/gan_exp_niters.npy')"
   ]
  },
  {
   "cell_type": "code",
   "execution_count": 168,
   "metadata": {},
   "outputs": [
    {
     "data": {
      "text/plain": [
       "array([2.75018702e-15, 2.38605708e-07, 4.42833010e-12, 3.13268664e-08,\n",
       "       4.21394546e-08, 2.03433520e-11, 2.98814218e-16, 3.24863969e-14,\n",
       "       9.72096709e-12, 2.98814218e-16, 2.76818637e-11, 6.93196238e-12,\n",
       "       2.98814218e-16, 4.40922736e-16, 2.98814218e-16, 2.82328501e-12,\n",
       "       6.77342297e-12, 1.04142632e-10, 3.61279305e-14, 1.91021981e-12])"
      ]
     },
     "execution_count": 168,
     "metadata": {},
     "output_type": "execute_result"
    }
   ],
   "source": [
    "gan_reps[:,-1]"
   ]
  },
  {
   "cell_type": "code",
   "execution_count": 175,
   "metadata": {},
   "outputs": [],
   "source": [
    "k=10\n",
    "top_k = (gan_reps[:,-1]).argsort()[:k]"
   ]
  },
  {
   "cell_type": "code",
   "execution_count": 176,
   "metadata": {},
   "outputs": [
    {
     "data": {
      "text/plain": [
       "array([2.98814218e-16, 2.98814218e-16, 2.98814218e-16, 2.98814218e-16,\n",
       "       4.40922736e-16, 2.75018702e-15, 3.24863969e-14, 3.61279305e-14,\n",
       "       1.91021981e-12, 2.82328501e-12])"
      ]
     },
     "execution_count": 176,
     "metadata": {},
     "output_type": "execute_result"
    }
   ],
   "source": [
    "gan_reps[:,-1][top_k]"
   ]
  },
  {
   "cell_type": "code",
   "execution_count": 179,
   "metadata": {},
   "outputs": [],
   "source": [
    "gan_best = gan_reps[top_k,:]"
   ]
  },
  {
   "cell_type": "code",
   "execution_count": 180,
   "metadata": {},
   "outputs": [],
   "source": [
    "gan_reps_mu = np.mean(gan_best, axis=0)"
   ]
  },
  {
   "cell_type": "code",
   "execution_count": 181,
   "metadata": {},
   "outputs": [
    {
     "data": {
      "text/plain": [
       "(500,)"
      ]
     },
     "execution_count": 181,
     "metadata": {},
     "output_type": "execute_result"
    }
   ],
   "source": [
    "gan_reps_mu.shape"
   ]
  },
  {
   "cell_type": "code",
   "execution_count": 182,
   "metadata": {},
   "outputs": [],
   "source": [
    "gan_reps_std = np.std(gan_best, axis=0)"
   ]
  },
  {
   "cell_type": "code",
   "execution_count": 183,
   "metadata": {},
   "outputs": [
    {
     "data": {
      "text/plain": [
       "(500,)"
      ]
     },
     "execution_count": 183,
     "metadata": {},
     "output_type": "execute_result"
    }
   ],
   "source": [
    "gan_reps_std.shape"
   ]
  },
  {
   "cell_type": "code",
   "execution_count": 222,
   "metadata": {},
   "outputs": [],
   "source": [
    "gan_reps_mu_trunc = gan_reps_mu[100::25]\n",
    "gan_reps_std_trunc = gan_reps_std[100::25]"
   ]
  },
  {
   "cell_type": "code",
   "execution_count": 225,
   "metadata": {},
   "outputs": [
    {
     "data": {
      "image/png": "[encoded data removed]",
      "text/plain": [
       "<Figure size 432x288 with 1 Axes>"
      ]
     },
     "metadata": {
      "needs_background": "light"
     },
     "output_type": "display_data"
    }
   ],
   "source": [
    "# niters = np.arange(len(gan_reps_mu_trunc))\n",
    "niters = np.arange(100,500,25)\n",
    "plt.plot(niters, gan_reps_mu_trunc)\n",
    "plt.fill_between(niters, gan_reps_mu_trunc-.5*gan_reps_std_trunc, gan_reps_mu_trunc+.5*gan_reps_std_trunc, alpha=0.2)\n",
    "plt.yscale('log')\n",
    "# plt.ylim((1e-100, 0))"
   ]
  },
  {
   "cell_type": "code",
   "execution_count": null,
   "metadata": {},
   "outputs": [],
   "source": []
  }
 ],
 "metadata": {
  "kernelspec": {
   "display_name": "Python 3",
   "language": "python",
   "name": "python3"
  },
  "language_info": {
   "codemirror_mode": {
    "name": "ipython",
    "version": 3
   },
   "file_extension": ".py",
   "mimetype": "text/x-python",
   "name": "python",
   "nbconvert_exporter": "python",
   "pygments_lexer": "ipython3",
   "version": "3.7.3"
  }
 },
 "nbformat": 4,
 "nbformat_minor": 4
}
