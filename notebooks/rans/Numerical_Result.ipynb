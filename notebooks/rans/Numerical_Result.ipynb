{
 "cells": [
  {
   "cell_type": "code",
   "execution_count": 1,
   "metadata": {},
   "outputs": [],
   "source": [
    "import denn.rans.channel_flow as chan\n",
    "import matplotlib.pyplot as plt\n",
    "import numpy as np\n",
    "import denn.rans.rans_utils as utils\n",
    "import pandas as pd"
   ]
  },
  {
   "cell_type": "code",
   "execution_count": 2,
   "metadata": {},
   "outputs": [],
   "source": [
    "# continuously load modules (for easier debugging)\n",
    "%load_ext autoreload\n",
    "%autoreload 2"
   ]
  },
  {
   "cell_type": "code",
   "execution_count": 3,
   "metadata": {},
   "outputs": [
    {
     "name": "stdout",
     "output_type": "stream",
     "text": [
      "Calculating at Retau=180.0000018\n"
     ]
    }
   ],
   "source": [
    "# overall hypers\n",
    "pde_nn = chan.Chanflow()\n",
    "hypers=pde_nn.hypers\n",
    "retau=utils.calc_retau(hypers['delta'], hypers['dp_dx'], hypers['rho'], hypers['nu'])\n",
    "print('Calculating at Retau={}'.format(retau))\n",
    "\n",
    "# grid\n",
    "delta=hypers['delta']\n",
    "n = hypers['n']\n",
    "y = np.linspace(hypers['ymin'], hypers['ymax'], n)\n",
    "delta_y = y[1] - y[0]\n",
    "u0 = np.ones_like(y)\n",
    "U_0, U_L = 0, 0"
   ]
  },
  {
   "cell_type": "code",
   "execution_count": 4,
   "metadata": {},
   "outputs": [
    {
     "data": {
      "text/plain": [
       "{'dp_dx': -1.0,\n",
       " 'nu': 0.0055555555,\n",
       " 'rho': 1.0,\n",
       " 'k': 0.41,\n",
       " 'num_units': 40,\n",
       " 'num_layers': 2,\n",
       " 'batch_size': 1000,\n",
       " 'lr': 0.0001,\n",
       " 'num_epochs': 1000,\n",
       " 'ymin': -1,\n",
       " 'ymax': 1,\n",
       " 'weight_decay': 0,\n",
       " 'delta': 1,\n",
       " 'n': 1000,\n",
       " 'in_dim': 1,\n",
       " 'out_dim': 1,\n",
       " 'retau': 180,\n",
       " 'sampling': 'grid',\n",
       " 'activation': 'tanh'}"
      ]
     },
     "execution_count": 4,
     "metadata": {},
     "output_type": "execute_result"
    }
   ],
   "source": [
    "hypers"
   ]
  },
  {
   "cell_type": "code",
   "execution_count": 5,
   "metadata": {},
   "outputs": [],
   "source": [
    "from scipy.integrate import solve_bvp"
   ]
  },
  {
   "cell_type": "markdown",
   "metadata": {},
   "source": [
    "$$\\nu \\frac{d^2u}{dy^2} + \\frac{d}{dy}\\left[\\left(\\frac{\\kappa}{2 \\delta} \\left(|y| - \\delta\\right)\\right)^{2} \\left|\\frac{du}{dy}\\right| \\frac{du}{dy}\\right] - \\frac{1}{\\rho} \\frac{dp}{dx} = 0$$\n",
    "\n",
    "transformed to\n",
    "\n",
    "$$ \\frac{du}{dy} = v $$\n",
    "\n",
    "$$ \\frac{dv}{dy} = \\frac{-\\kappa^2 \\left(4 (y^2 - \\delta) y \\times \\text{sign}\\left(\\frac{du}{dy}\\right) \\frac{du}{dy}^2 \\right) + \\frac{1}{\\rho} \\frac{dp}{dx}}{\\nu + \\kappa^2 \\left((y^2 - \\delta)^2 \\times \\left( \\text{sign}\\left(\\frac{du}{dy}\\right)\\frac{du}{dy} + \\left|\\frac{du}{dy}\\right| \\right)\\right)} $$"
   ]
  },
  {
   "cell_type": "markdown",
   "metadata": {},
   "source": [
    "# New, preferred method"
   ]
  },
  {
   "cell_type": "code",
   "execution_count": 6,
   "metadata": {},
   "outputs": [],
   "source": [
    "from denn.rans.numerical import solve_rans_scipy_solve_bvp"
   ]
  },
  {
   "cell_type": "code",
   "execution_count": 7,
   "metadata": {},
   "outputs": [],
   "source": [
    "y = np.linspace(-1, 1, 100)"
   ]
  },
  {
   "cell_type": "code",
   "execution_count": 9,
   "metadata": {},
   "outputs": [
    {
     "data": {
      "text/plain": [
       "'The algorithm converged to the desired accuracy.'"
      ]
     },
     "execution_count": 9,
     "metadata": {},
     "output_type": "execute_result"
    }
   ],
   "source": [
    "res = solve_rans_scipy_solve_bvp(y, max_nodes=10000)\n",
    "res.message"
   ]
  },
  {
   "cell_type": "code",
   "execution_count": 22,
   "metadata": {},
   "outputs": [],
   "source": [
    "yplt = np.linspace(-1,1,100)"
   ]
  },
  {
   "cell_type": "code",
   "execution_count": 12,
   "metadata": {},
   "outputs": [],
   "source": [
    "dns = pd.read_csv('../../data/LM_Channel_Retau180.txt', delimiter=' ')\n",
    "half_u, half_y = utils.convert_dns(hypers, dns)"
   ]
  },
  {
   "cell_type": "code",
   "execution_count": 13,
   "metadata": {},
   "outputs": [],
   "source": [
    "full_y = np.concatenate((half_y, -half_y + 2))\n",
    "full_u = np.concatenate((half_u, half_u))"
   ]
  },
  {
   "cell_type": "code",
   "execution_count": 17,
   "metadata": {},
   "outputs": [],
   "source": [
    "old_res = np.load('../../data/mixlen_numerical_u180_halfk.npy')"
   ]
  },
  {
   "cell_type": "code",
   "execution_count": 29,
   "metadata": {},
   "outputs": [
    {
     "data": {
      "image/png": "[encoded data removed]",
      "text/plain": [
       "<Figure size 720x720 with 1 Axes>"
      ]
     },
     "metadata": {
      "needs_background": "light"
     },
     "output_type": "display_data"
    }
   ],
   "source": [
    "plt.figure(figsize=(10,10))\n",
    "sol = res.sol(yplt)[0]\n",
    "plt.scatter(yplt + 1, sol, s=4, alpha=1, label='scipy')\n",
    "plt.scatter(full_y, full_u, s=4, label='DNS')\n",
    "plt.scatter(yplt + 1, old_res[::10], s=4, label='old')\n",
    "plt.legend();"
   ]
  },
  {
   "cell_type": "markdown",
   "metadata": {},
   "source": [
    "# Old, below"
   ]
  },
  {
   "cell_type": "code",
   "execution_count": 10,
   "metadata": {},
   "outputs": [],
   "source": [
    "rho = hypers['rho']\n",
    "dpdx = hypers['dp_dx']\n",
    "k = hypers['k'] / 4\n",
    "nu = hypers['nu']\n",
    "delta = hypers['delta']"
   ]
  },
  {
   "cell_type": "markdown",
   "metadata": {},
   "source": [
    "```\n",
    "y1' = y2\n",
    "y2' = -exp(y1)\n",
    "```\n",
    "\n",
    "```\n",
    "def func(y,x):\n",
    "    return [ \n",
    "        y[1], \n",
    "        y[2], \n",
    "        ( 7*x**1.5 - 5*x**2*y[2]-2*x*y[1] + 2*y[0]) / x**3 \n",
    "        ]   \n",
    "```"
   ]
  },
  {
   "cell_type": "markdown",
   "metadata": {},
   "source": [
    "```\n",
    "u' = v\n",
    "v' = (1/nu) * [-( ((k/(2*delta))**2) *  ) + (1/rho)dpdx]\n",
    "```"
   ]
  },
  {
   "cell_type": "code",
   "execution_count": 6,
   "metadata": {},
   "outputs": [],
   "source": [
    "def fun(y, u):\n",
    "    du_sig = np.sign(u[1])\n",
    "    a = 4*((y**2)-delta)*y*du_sig*u[1]**2\n",
    "    b = ((y**2)-delta)**2\n",
    "    return np.vstack([\n",
    "        u[1],\n",
    "        (-(k**2)*a + dpdx/rho)/( nu + (k**2) * b * ( du_sig * u[1] + np.abs(u[1]) ) )\n",
    "    ])"
   ]
  },
  {
   "cell_type": "code",
   "execution_count": 7,
   "metadata": {},
   "outputs": [],
   "source": [
    "def bc(ua, ub):\n",
    "    return np.array([ua[0], ub[0]])"
   ]
  },
  {
   "cell_type": "code",
   "execution_count": 8,
   "metadata": {},
   "outputs": [
    {
     "data": {
      "text/plain": [
       "((2, 100), (100,))"
      ]
     },
     "execution_count": 8,
     "metadata": {},
     "output_type": "execute_result"
    }
   ],
   "source": [
    "y = np.linspace(hypers['ymin'], hypers['ymax'], 100)\n",
    "u0 = np.zeros((2, y.size))\n",
    "u0.shape, y.shape"
   ]
  },
  {
   "cell_type": "code",
   "execution_count": 9,
   "metadata": {},
   "outputs": [],
   "source": [
    "res = solve_bvp(fun, bc, y, u0, max_nodes=100000, tol=1e-6)"
   ]
  },
  {
   "cell_type": "code",
   "execution_count": 10,
   "metadata": {},
   "outputs": [
    {
     "data": {
      "text/plain": [
       "(True, 'The algorithm converged to the desired accuracy.')"
      ]
     },
     "execution_count": 10,
     "metadata": {},
     "output_type": "execute_result"
    }
   ],
   "source": [
    "res.success, res.message"
   ]
  },
  {
   "cell_type": "code",
   "execution_count": 11,
   "metadata": {},
   "outputs": [
    {
     "data": {
      "text/plain": [
       "((5987,), (5987,))"
      ]
     },
     "execution_count": 11,
     "metadata": {},
     "output_type": "execute_result"
    }
   ],
   "source": [
    "res.x.shape, res.y[0].shape"
   ]
  },
  {
   "cell_type": "markdown",
   "metadata": {},
   "source": [
    "# OLD (below)"
   ]
  },
  {
   "cell_type": "code",
   "execution_count": 75,
   "metadata": {},
   "outputs": [],
   "source": [
    "# just here for reference.\n",
    "# reynolds_stress_fn = lambda y, du_dy: -1*((hypers['k']*(np.abs(y)-delta))**2)*np.abs(du_dy)*du_dy\n",
    "# diffeq = lambda du2_dy2, dre_dy: hypers['nu']*du2_dy2 - dre_dy - (1/hypers['rho']) * hypers['dp_dx']"
   ]
  },
  {
   "cell_type": "code",
   "execution_count": 230,
   "metadata": {},
   "outputs": [],
   "source": [
    "def handle_boundary(u, i, n):\n",
    "    # careful with boundaries. contains {i-2, i-1, i, i+1, i+2}\n",
    "    # if we step on or beyond the boundary, just set to the boundary (check this assumption!)\n",
    "    # returns u[i-2], u[i-1], u[i], u[i+1], u[i+2] while respecting boundary conditions\n",
    "\n",
    "    if i==0: # far left\n",
    "        return U_0, U_0, u[i], u[i+1], u[i+2]\n",
    "    elif i==1: # second from left\n",
    "        return U_0, u[i-1], u[i], u[i+1], u[i+2]\n",
    "    elif i==n-2: # second from right\n",
    "        return u[i-2], u[i-1], u[i], u[i+1], U_L\n",
    "    elif i==n-1: # far right\n",
    "        return u[i-2], u[i-1], u[i], U_L, U_L\n",
    "    else: # no boundaries\n",
    "        return u[i-2], u[i-1], u[i], u[i+1], u[i+2]\n",
    "\n",
    "def Gf(u):\n",
    "    n = u.shape[0]\n",
    "    gvec = np.zeros(n)\n",
    "    for i in range(n):\n",
    "        \n",
    "        uim2, uim1, ui, uip1, uip2 = handle_boundary(u, i, n)\n",
    "        yim1, yip1 = y[i] - delta_y, y[i] + delta_y\n",
    "            \n",
    "        a = (hypers['nu'] / (delta_y ** 2)) * (uip1 - 2*ui + uim1) \n",
    "        fplus = (uip2 - ui) / (2*delta_y)\n",
    "        fminus = (ui - uim2) / (2*delta_y)\n",
    "        b = (1 / (2 * delta_y)) * ((hypers['k'] * np.abs(yip1 - delta)) ** 2) * np.abs(fplus) * fplus \n",
    "        c = (-1 / (2 * delta_y)) * ((hypers['k'] * np.abs(yim1 - delta)) ** 2) * np.abs(fminus) * fminus\n",
    "        d = (-1 / hypers['rho']) * hypers['dp_dx']\n",
    "        \n",
    "        gvec[i] = a + b + c + d\n",
    "        \n",
    "    return gvec\n",
    "\n",
    "def dGi_ui(u, i, eps=1e-8):\n",
    "    n = u.shape[0]\n",
    "    uim2, uim1, ui, uip1, uip2 = handle_boundary(u, i, n)\n",
    "    yim1, yip1 = y[i] - delta_y, y[i] + delta_y\n",
    "    \n",
    "    a = -2*hypers['nu'] / (delta_y**2)\n",
    "    b = (hypers['k']**2) / (2*delta_y)\n",
    "    \n",
    "    fplus = ((uip2 - ui)/(2*delta_y)) + eps\n",
    "    fminus = ((ui - uim2)/(2*delta_y)) + eps\n",
    "    \n",
    "    c1 = (np.abs(yip1-delta)**2)\n",
    "    c2 = (fplus**2) * (-1/(2*delta_y)) / np.abs(fplus)\n",
    "    c3 = np.abs(fplus) * (-1/(2*delta_y))\n",
    "    c = c1*(c2+c3)\n",
    "    \n",
    "    d1 = -(np.abs(yim1-delta)**2)\n",
    "    d2 = (fminus**2) * (1/(2*delta_y)) / np.abs(fminus)\n",
    "    d3 = np.abs(fminus) * (1/(2*delta_y))\n",
    "    d = d1*(d2+d3)\n",
    "    \n",
    "    return a + b * (c + d)\n",
    "\n",
    "def dGi_uim2(u, i, eps=1e-8):\n",
    "    n = u.shape[0]\n",
    "    uim2, uim1, ui, uip1, uip2 = handle_boundary(u, i, n)\n",
    "    yim1, yip1 = y[i] - delta_y, y[i] + delta_y\n",
    "    \n",
    "    a = -((hypers['k'] * np.abs(yim1 - delta))**2) / (2*delta_y)\n",
    "    fminus = ((ui - uim2) / (2*delta_y)) + eps\n",
    "    b = (fminus**2) * (-1/(2*delta_y)) / np.abs(fminus)\n",
    "    c = np.abs(fminus) * (-1/(2*delta_y))\n",
    "    \n",
    "    return a * (b + c)\n",
    "\n",
    "def dGi_uip2(u, i, eps=1e-8):\n",
    "    n = u.shape[0]\n",
    "    uim2, uim1, ui, uip1, uip2 = handle_boundary(u, i, n)\n",
    "    yim1, yip1 = y[i] - delta_y, y[i] + delta_y\n",
    "    \n",
    "    a = -((hypers['k'] * np.abs(yip1 - delta))**2) / (2*delta_y)\n",
    "    fplus = ((uip2 - ui) / (2*delta_y)) + eps\n",
    "    b = (fplus**2) * (1/(2*delta_y)) / np.abs(fplus)\n",
    "    c = np.abs(fplus) * (1/(2*delta_y))\n",
    "    \n",
    "    return a * (b + c)\n",
    "\n",
    "def jacobian(u, eps=1e-8):\n",
    "    # returns an entire column of jacobian\n",
    "    # careful with boundaries. contains {i-2, ..}\n",
    "    n = u.shape[0]\n",
    "    jac = np.zeros((n,n))\n",
    "    for i in range(n):\n",
    "        if i == 0:\n",
    "            jac[i,i]=dGi_ui(u, i, eps)\n",
    "            jac[i+1, i]=hypers['nu']/(delta_y**2)\n",
    "            jac[i+2, i]=dGi_uip2(u, i, eps)\n",
    "        elif i==1:\n",
    "            jac[i-1, i] = hypers['nu']/(delta_y**2)\n",
    "            jac[i, i] = dGi_ui(u, i, eps)\n",
    "            jac[i+1, i] = hypers['nu']/(delta_y**2)\n",
    "            jac[i+2, i] = dGi_uip2(u, i, eps)\n",
    "        elif i==n-2:\n",
    "            jac[i-2, i] = dGi_uim2(u, i, eps)\n",
    "            jac[i-1, i] = hypers['nu']/(delta_y**2)\n",
    "            jac[i, i] = dGi_ui(u, i, eps)\n",
    "            jac[i+1, i] = hypers['nu']/(delta_y**2)\n",
    "        elif i==n-1:\n",
    "            jac[i-2, i] = dGi_uim2(u, i, eps)\n",
    "            jac[i-1, i] = hypers['nu']/(delta_y**2)\n",
    "            jac[i, i] = dGi_ui(u, i, eps)\n",
    "        else:\n",
    "            jac[i-2, i] = dGi_uim2(u, i, eps)\n",
    "            jac[i-1, i] = hypers['nu']/(delta_y**2)\n",
    "            jac[i, i] = dGi_ui(u, i, eps)\n",
    "            jac[i+1, i] = hypers['nu']/(delta_y**2)\n",
    "            jac[i+2, i] = dGi_uip2(u, i, eps)\n",
    "        \n",
    "    return jac\n",
    "\n",
    "# from tqdm import tqdm\n",
    "# def newton(u0, tol=1e-14, max_iter=int(1e6), eps=1e-8):\n",
    "#     u = u0\n",
    "#     for it in range(max_iter):\n",
    "#         G = Gf(u)\n",
    "#         jac = jacobian(u, eps=eps)\n",
    "#         delta_u = np.linalg.solve(jac, -G)\n",
    "#         u = u + delta_u\n",
    "#         max_du = np.max(delta_u)\n",
    "#         if it % 100 == 0:\n",
    "#             print('iter {}/{}: max delta_u = {}'.format(it, max_iter, max_du))\n",
    "#         if max_du < tol:\n",
    "#             break\n",
    "#     return u"
   ]
  },
  {
   "cell_type": "markdown",
   "metadata": {},
   "source": [
    "## Scipy Root"
   ]
  },
  {
   "cell_type": "code",
   "execution_count": 214,
   "metadata": {},
   "outputs": [],
   "source": [
    "from scipy.optimize import root"
   ]
  },
  {
   "cell_type": "code",
   "execution_count": 217,
   "metadata": {},
   "outputs": [],
   "source": [
    "y = np.linspace(-1, 1, 1000)"
   ]
  },
  {
   "cell_type": "code",
   "execution_count": 227,
   "metadata": {},
   "outputs": [],
   "source": [
    "u0 = 10 * (-y**2 + 1)"
   ]
  },
  {
   "cell_type": "code",
   "execution_count": 228,
   "metadata": {},
   "outputs": [
    {
     "data": {
      "text/plain": [
       "<matplotlib.collections.PathCollection at 0x133e604e0>"
      ]
     },
     "execution_count": 228,
     "metadata": {},
     "output_type": "execute_result"
    },
    {
     "data": {
      "image/png": "[encoded data removed]",
      "text/plain": [
       "<Figure size 432x288 with 1 Axes>"
      ]
     },
     "metadata": {
      "needs_background": "light"
     },
     "output_type": "display_data"
    }
   ],
   "source": [
    "plt.scatter(y, u0)"
   ]
  },
  {
   "cell_type": "code",
   "execution_count": 231,
   "metadata": {},
   "outputs": [],
   "source": [
    "scipy_optimal_res = root(Gf, u0, jac=jacobian, method='lm')"
   ]
  },
  {
   "cell_type": "code",
   "execution_count": 232,
   "metadata": {},
   "outputs": [
    {
     "data": {
      "text/plain": [
       "True"
      ]
     },
     "execution_count": 232,
     "metadata": {},
     "output_type": "execute_result"
    }
   ],
   "source": [
    "scipy_optimal_res.success"
   ]
  },
  {
   "cell_type": "code",
   "execution_count": 233,
   "metadata": {},
   "outputs": [],
   "source": [
    "u_star = scipy_optimal_res.x"
   ]
  },
  {
   "cell_type": "code",
   "execution_count": 234,
   "metadata": {},
   "outputs": [
    {
     "data": {
      "text/plain": [
       "[<matplotlib.lines.Line2D at 0x133e17eb8>]"
      ]
     },
     "execution_count": 234,
     "metadata": {},
     "output_type": "execute_result"
    },
    {
     "data": {
      "image/png": "[encoded data removed]",
      "text/plain": [
       "<Figure size 432x288 with 1 Axes>"
      ]
     },
     "metadata": {
      "needs_background": "light"
     },
     "output_type": "display_data"
    }
   ],
   "source": [
    "plt.plot(u_star, y)"
   ]
  },
  {
   "cell_type": "markdown",
   "metadata": {},
   "source": [
    "## Use Numpy gradient + Scipy Root"
   ]
  },
  {
   "cell_type": "code",
   "execution_count": 235,
   "metadata": {},
   "outputs": [],
   "source": [
    "from scipy.optimize import root, least_squares"
   ]
  },
  {
   "cell_type": "code",
   "execution_count": 236,
   "metadata": {},
   "outputs": [],
   "source": [
    "ls = np.load('../../data/mixlen_numerical_u180.npy') #previous result"
   ]
  },
  {
   "cell_type": "code",
   "execution_count": 237,
   "metadata": {},
   "outputs": [],
   "source": [
    "reynolds_stress_fn = lambda y, du_dy: ((k*y)**2) * np.abs(du_dy) * du_dy\n",
    "diffeq = lambda du2_dy2, dre_dy: hypers['nu']*du2_dy2 + dre_dy - C"
   ]
  },
  {
   "cell_type": "code",
   "execution_count": 238,
   "metadata": {},
   "outputs": [],
   "source": [
    "# u0 = np.zeros_like(y)"
   ]
  },
  {
   "cell_type": "code",
   "execution_count": 239,
   "metadata": {},
   "outputs": [
    {
     "ename": "KeyboardInterrupt",
     "evalue": "",
     "output_type": "error",
     "traceback": [
      "\u001b[0;31m---------------------------------------------------------------------------\u001b[0m",
      "\u001b[0;31mKeyboardInterrupt\u001b[0m                         Traceback (most recent call last)",
      "\u001b[0;32m<ipython-input-239-3f7d7dd87d06>\u001b[0m in \u001b[0;36m<module>\u001b[0;34m\u001b[0m\n\u001b[1;32m      6\u001b[0m     \u001b[0;32mreturn\u001b[0m \u001b[0mdiffeq\u001b[0m\u001b[0;34m(\u001b[0m\u001b[0mdu2_dy2\u001b[0m\u001b[0;34m,\u001b[0m \u001b[0mdre_dy\u001b[0m\u001b[0;34m)\u001b[0m\u001b[0;34m\u001b[0m\u001b[0;34m\u001b[0m\u001b[0m\n\u001b[1;32m      7\u001b[0m \u001b[0;34m\u001b[0m\u001b[0m\n\u001b[0;32m----> 8\u001b[0;31m \u001b[0mscipy_opt\u001b[0m \u001b[0;34m=\u001b[0m \u001b[0mroot\u001b[0m\u001b[0;34m(\u001b[0m\u001b[0mGf_np\u001b[0m\u001b[0;34m,\u001b[0m \u001b[0mu0\u001b[0m\u001b[0;34m,\u001b[0m \u001b[0mmethod\u001b[0m\u001b[0;34m=\u001b[0m\u001b[0;34m'lm'\u001b[0m\u001b[0;34m)\u001b[0m\u001b[0;34m\u001b[0m\u001b[0;34m\u001b[0m\u001b[0m\n\u001b[0m",
      "\u001b[0;32m~/anaconda3/envs/denn/lib/python3.7/site-packages/scipy/optimize/_root.py\u001b[0m in \u001b[0;36mroot\u001b[0;34m(fun, x0, args, method, jac, tol, callback, options)\u001b[0m\n\u001b[1;32m    187\u001b[0m         \u001b[0msol\u001b[0m \u001b[0;34m=\u001b[0m \u001b[0m_root_hybr\u001b[0m\u001b[0;34m(\u001b[0m\u001b[0mfun\u001b[0m\u001b[0;34m,\u001b[0m \u001b[0mx0\u001b[0m\u001b[0;34m,\u001b[0m \u001b[0margs\u001b[0m\u001b[0;34m=\u001b[0m\u001b[0margs\u001b[0m\u001b[0;34m,\u001b[0m \u001b[0mjac\u001b[0m\u001b[0;34m=\u001b[0m\u001b[0mjac\u001b[0m\u001b[0;34m,\u001b[0m \u001b[0;34m**\u001b[0m\u001b[0moptions\u001b[0m\u001b[0;34m)\u001b[0m\u001b[0;34m\u001b[0m\u001b[0;34m\u001b[0m\u001b[0m\n\u001b[1;32m    188\u001b[0m     \u001b[0;32melif\u001b[0m \u001b[0mmeth\u001b[0m \u001b[0;34m==\u001b[0m \u001b[0;34m'lm'\u001b[0m\u001b[0;34m:\u001b[0m\u001b[0;34m\u001b[0m\u001b[0;34m\u001b[0m\u001b[0m\n\u001b[0;32m--> 189\u001b[0;31m         \u001b[0msol\u001b[0m \u001b[0;34m=\u001b[0m \u001b[0m_root_leastsq\u001b[0m\u001b[0;34m(\u001b[0m\u001b[0mfun\u001b[0m\u001b[0;34m,\u001b[0m \u001b[0mx0\u001b[0m\u001b[0;34m,\u001b[0m \u001b[0margs\u001b[0m\u001b[0;34m=\u001b[0m\u001b[0margs\u001b[0m\u001b[0;34m,\u001b[0m \u001b[0mjac\u001b[0m\u001b[0;34m=\u001b[0m\u001b[0mjac\u001b[0m\u001b[0;34m,\u001b[0m \u001b[0;34m**\u001b[0m\u001b[0moptions\u001b[0m\u001b[0;34m)\u001b[0m\u001b[0;34m\u001b[0m\u001b[0;34m\u001b[0m\u001b[0m\n\u001b[0m\u001b[1;32m    190\u001b[0m     \u001b[0;32melif\u001b[0m \u001b[0mmeth\u001b[0m \u001b[0;34m==\u001b[0m \u001b[0;34m'df-sane'\u001b[0m\u001b[0;34m:\u001b[0m\u001b[0;34m\u001b[0m\u001b[0;34m\u001b[0m\u001b[0m\n\u001b[1;32m    191\u001b[0m         \u001b[0m_warn_jac_unused\u001b[0m\u001b[0;34m(\u001b[0m\u001b[0mjac\u001b[0m\u001b[0;34m,\u001b[0m \u001b[0mmethod\u001b[0m\u001b[0;34m)\u001b[0m\u001b[0;34m\u001b[0m\u001b[0;34m\u001b[0m\u001b[0m\n",
      "\u001b[0;32m~/anaconda3/envs/denn/lib/python3.7/site-packages/scipy/optimize/_root.py\u001b[0m in \u001b[0;36m_root_leastsq\u001b[0;34m(func, x0, args, jac, col_deriv, xtol, ftol, gtol, maxiter, eps, factor, diag, **unknown_options)\u001b[0m\n\u001b[1;32m    250\u001b[0m                                        \u001b[0mftol\u001b[0m\u001b[0;34m=\u001b[0m\u001b[0mftol\u001b[0m\u001b[0;34m,\u001b[0m \u001b[0mgtol\u001b[0m\u001b[0;34m=\u001b[0m\u001b[0mgtol\u001b[0m\u001b[0;34m,\u001b[0m\u001b[0;34m\u001b[0m\u001b[0;34m\u001b[0m\u001b[0m\n\u001b[1;32m    251\u001b[0m                                        \u001b[0mmaxfev\u001b[0m\u001b[0;34m=\u001b[0m\u001b[0mmaxiter\u001b[0m\u001b[0;34m,\u001b[0m \u001b[0mepsfcn\u001b[0m\u001b[0;34m=\u001b[0m\u001b[0meps\u001b[0m\u001b[0;34m,\u001b[0m\u001b[0;34m\u001b[0m\u001b[0;34m\u001b[0m\u001b[0m\n\u001b[0;32m--> 252\u001b[0;31m                                        factor=factor, diag=diag)\n\u001b[0m\u001b[1;32m    253\u001b[0m     sol = OptimizeResult(x=x, message=msg, status=ier,\n\u001b[1;32m    254\u001b[0m                          \u001b[0msuccess\u001b[0m\u001b[0;34m=\u001b[0m\u001b[0mier\u001b[0m \u001b[0;32min\u001b[0m \u001b[0;34m(\u001b[0m\u001b[0;36m1\u001b[0m\u001b[0;34m,\u001b[0m \u001b[0;36m2\u001b[0m\u001b[0;34m,\u001b[0m \u001b[0;36m3\u001b[0m\u001b[0;34m,\u001b[0m \u001b[0;36m4\u001b[0m\u001b[0;34m)\u001b[0m\u001b[0;34m,\u001b[0m \u001b[0mcov_x\u001b[0m\u001b[0;34m=\u001b[0m\u001b[0mcov_x\u001b[0m\u001b[0;34m,\u001b[0m\u001b[0;34m\u001b[0m\u001b[0;34m\u001b[0m\u001b[0m\n",
      "\u001b[0;32m~/anaconda3/envs/denn/lib/python3.7/site-packages/scipy/optimize/minpack.py\u001b[0m in \u001b[0;36mleastsq\u001b[0;34m(func, x0, args, Dfun, full_output, col_deriv, ftol, xtol, gtol, maxfev, epsfcn, factor, diag)\u001b[0m\n\u001b[1;32m    394\u001b[0m             \u001b[0mmaxfev\u001b[0m \u001b[0;34m=\u001b[0m \u001b[0;36m200\u001b[0m\u001b[0;34m*\u001b[0m\u001b[0;34m(\u001b[0m\u001b[0mn\u001b[0m \u001b[0;34m+\u001b[0m \u001b[0;36m1\u001b[0m\u001b[0;34m)\u001b[0m\u001b[0;34m\u001b[0m\u001b[0;34m\u001b[0m\u001b[0m\n\u001b[1;32m    395\u001b[0m         retval = _minpack._lmdif(func, x0, args, full_output, ftol, xtol,\n\u001b[0;32m--> 396\u001b[0;31m                                  gtol, maxfev, epsfcn, factor, diag)\n\u001b[0m\u001b[1;32m    397\u001b[0m     \u001b[0;32melse\u001b[0m\u001b[0;34m:\u001b[0m\u001b[0;34m\u001b[0m\u001b[0;34m\u001b[0m\u001b[0m\n\u001b[1;32m    398\u001b[0m         \u001b[0;32mif\u001b[0m \u001b[0mcol_deriv\u001b[0m\u001b[0;34m:\u001b[0m\u001b[0;34m\u001b[0m\u001b[0;34m\u001b[0m\u001b[0m\n",
      "\u001b[0;32m<ipython-input-239-3f7d7dd87d06>\u001b[0m in \u001b[0;36mGf_np\u001b[0;34m(u)\u001b[0m\n\u001b[0;32m----> 1\u001b[0;31m \u001b[0;32mdef\u001b[0m \u001b[0mGf_np\u001b[0m\u001b[0;34m(\u001b[0m\u001b[0mu\u001b[0m\u001b[0;34m)\u001b[0m\u001b[0;34m:\u001b[0m\u001b[0;34m\u001b[0m\u001b[0;34m\u001b[0m\u001b[0m\n\u001b[0m\u001b[1;32m      2\u001b[0m     \u001b[0mu\u001b[0m\u001b[0;34m[\u001b[0m\u001b[0;36m0\u001b[0m\u001b[0;34m]\u001b[0m\u001b[0;34m,\u001b[0m\u001b[0mu\u001b[0m\u001b[0;34m[\u001b[0m\u001b[0;34m-\u001b[0m\u001b[0;36m1\u001b[0m\u001b[0;34m]\u001b[0m\u001b[0;34m=\u001b[0m\u001b[0;36m0\u001b[0m\u001b[0;34m,\u001b[0m\u001b[0;36m0\u001b[0m\u001b[0;34m\u001b[0m\u001b[0;34m\u001b[0m\u001b[0m\n\u001b[1;32m      3\u001b[0m     \u001b[0mdu_dy\u001b[0m \u001b[0;34m=\u001b[0m \u001b[0mnp\u001b[0m\u001b[0;34m.\u001b[0m\u001b[0mgradient\u001b[0m\u001b[0;34m(\u001b[0m\u001b[0mu\u001b[0m\u001b[0;34m,\u001b[0m \u001b[0mdelta_y\u001b[0m\u001b[0;34m,\u001b[0m \u001b[0medge_order\u001b[0m\u001b[0;34m=\u001b[0m\u001b[0;36m2\u001b[0m\u001b[0;34m)\u001b[0m\u001b[0;34m\u001b[0m\u001b[0;34m\u001b[0m\u001b[0m\n\u001b[1;32m      4\u001b[0m     \u001b[0mdre_dy\u001b[0m \u001b[0;34m=\u001b[0m \u001b[0mnp\u001b[0m\u001b[0;34m.\u001b[0m\u001b[0mgradient\u001b[0m\u001b[0;34m(\u001b[0m\u001b[0mreynolds_stress_fn\u001b[0m\u001b[0;34m(\u001b[0m\u001b[0my\u001b[0m\u001b[0;34m,\u001b[0m \u001b[0mdu_dy\u001b[0m\u001b[0;34m)\u001b[0m\u001b[0;34m,\u001b[0m \u001b[0mdelta_y\u001b[0m\u001b[0;34m,\u001b[0m \u001b[0medge_order\u001b[0m\u001b[0;34m=\u001b[0m\u001b[0;36m2\u001b[0m\u001b[0;34m)\u001b[0m\u001b[0;34m\u001b[0m\u001b[0;34m\u001b[0m\u001b[0m\n\u001b[1;32m      5\u001b[0m     \u001b[0mdu2_dy2\u001b[0m \u001b[0;34m=\u001b[0m \u001b[0mnp\u001b[0m\u001b[0;34m.\u001b[0m\u001b[0mgradient\u001b[0m\u001b[0;34m(\u001b[0m\u001b[0mdu_dy\u001b[0m\u001b[0;34m,\u001b[0m \u001b[0mdelta_y\u001b[0m\u001b[0;34m,\u001b[0m \u001b[0medge_order\u001b[0m\u001b[0;34m=\u001b[0m\u001b[0;36m2\u001b[0m\u001b[0;34m)\u001b[0m\u001b[0;34m\u001b[0m\u001b[0;34m\u001b[0m\u001b[0m\n",
      "\u001b[0;31mKeyboardInterrupt\u001b[0m: "
     ]
    }
   ],
   "source": [
    "def Gf_np(u):\n",
    "    u[0],u[-1]=0,0\n",
    "    du_dy = np.gradient(u, delta_y, edge_order=2)\n",
    "    dre_dy = np.gradient(reynolds_stress_fn(y, du_dy), delta_y, edge_order=2)\n",
    "    du2_dy2 = np.gradient(du_dy, delta_y, edge_order=2)\n",
    "    return diffeq(du2_dy2, dre_dy)\n",
    "\n",
    "scipy_opt = root(Gf_np, u0, method='lm')"
   ]
  },
  {
   "cell_type": "code",
   "execution_count": null,
   "metadata": {},
   "outputs": [],
   "source": [
    "scipy_opt.success"
   ]
  },
  {
   "cell_type": "code",
   "execution_count": 56,
   "metadata": {},
   "outputs": [
    {
     "data": {
      "text/plain": [
       "[<matplotlib.lines.Line2D at 0x13691bcf8>]"
      ]
     },
     "execution_count": 56,
     "metadata": {},
     "output_type": "execute_result"
    },
    {
     "data": {
      "image/png": "[encoded data removed]",
      "text/plain": [
       "<Figure size 432x288 with 1 Axes>"
      ]
     },
     "metadata": {
      "needs_background": "light"
     },
     "output_type": "display_data"
    }
   ],
   "source": [
    "plt.plot(scipy_opt.x, y)\n",
    "# plt.plot(ls, y, '--');"
   ]
  },
  {
   "cell_type": "code",
   "execution_count": 11,
   "metadata": {},
   "outputs": [],
   "source": [
    "new_kappa = scipy_opt.x"
   ]
  },
  {
   "cell_type": "code",
   "execution_count": 13,
   "metadata": {},
   "outputs": [],
   "source": [
    "# np.save('data/mixlen_numerical_u180_halfk.npy', new_kappa)"
   ]
  },
  {
   "cell_type": "markdown",
   "metadata": {},
   "source": [
    "## retau 1k"
   ]
  },
  {
   "cell_type": "code",
   "execution_count": 14,
   "metadata": {},
   "outputs": [],
   "source": [
    "hypers['nu']=0.001"
   ]
  },
  {
   "cell_type": "code",
   "execution_count": 15,
   "metadata": {},
   "outputs": [],
   "source": [
    "scipy_opt1k = root(Gf_np, scipy_opt.x, method='lm')"
   ]
  },
  {
   "cell_type": "code",
   "execution_count": 16,
   "metadata": {},
   "outputs": [
    {
     "data": {
      "text/plain": [
       "True"
      ]
     },
     "execution_count": 16,
     "metadata": {},
     "output_type": "execute_result"
    }
   ],
   "source": [
    "scipy_opt1k.success"
   ]
  },
  {
   "cell_type": "code",
   "execution_count": 17,
   "metadata": {},
   "outputs": [],
   "source": [
    "prev1k = np.load('data/mixlen_numerical_u1000.npy')"
   ]
  },
  {
   "cell_type": "code",
   "execution_count": 18,
   "metadata": {},
   "outputs": [
    {
     "data": {
      "image/png": "[encoded data removed]",
      "text/plain": [
       "<Figure size 432x288 with 1 Axes>"
      ]
     },
     "metadata": {},
     "output_type": "display_data"
    }
   ],
   "source": [
    "plt.plot(scipy_opt1k.x, y)\n",
    "plt.plot(prev1k, y, '--');"
   ]
  },
  {
   "cell_type": "code",
   "execution_count": 19,
   "metadata": {},
   "outputs": [],
   "source": [
    "# np.save('data/mixlen_numerical_u1000_halfk.npy', scipy_opt1k.x)"
   ]
  },
  {
   "cell_type": "markdown",
   "metadata": {},
   "source": [
    "## Retau 550"
   ]
  },
  {
   "cell_type": "code",
   "execution_count": 20,
   "metadata": {},
   "outputs": [],
   "source": [
    "hypers['nu']=0.001818181818"
   ]
  },
  {
   "cell_type": "code",
   "execution_count": 21,
   "metadata": {},
   "outputs": [],
   "source": [
    "scipy_opt550 = root(Gf_np, scipy_opt.x, method='lm')"
   ]
  },
  {
   "cell_type": "code",
   "execution_count": 22,
   "metadata": {},
   "outputs": [
    {
     "data": {
      "text/plain": [
       "True"
      ]
     },
     "execution_count": 22,
     "metadata": {},
     "output_type": "execute_result"
    }
   ],
   "source": [
    "scipy_opt550.success"
   ]
  },
  {
   "cell_type": "code",
   "execution_count": 23,
   "metadata": {},
   "outputs": [],
   "source": [
    "prev550 = np.load('data/mixlen_numerical_u550.npy')"
   ]
  },
  {
   "cell_type": "code",
   "execution_count": 24,
   "metadata": {},
   "outputs": [
    {
     "data": {
      "image/png": "[encoded data removed]",
      "text/plain": [
       "<Figure size 432x288 with 1 Axes>"
      ]
     },
     "metadata": {},
     "output_type": "display_data"
    }
   ],
   "source": [
    "plt.plot(scipy_opt550.x, y)\n",
    "plt.plot(prev550, y, '--');"
   ]
  },
  {
   "cell_type": "code",
   "execution_count": 25,
   "metadata": {},
   "outputs": [],
   "source": [
    "# np.save('data/mixlen_numerical_u550_halfk.npy', scipy_opt550.x)"
   ]
  },
  {
   "cell_type": "code",
   "execution_count": 15,
   "metadata": {},
   "outputs": [
    {
     "data": {
      "text/plain": [
       "Text(0,0.5,'y')"
      ]
     },
     "execution_count": 15,
     "metadata": {},
     "output_type": "execute_result"
    },
    {
     "data": {
      "image/png": "[encoded data removed]",
      "text/plain": [
       "<Figure size 1440x720 with 1 Axes>"
      ]
     },
     "metadata": {},
     "output_type": "display_data"
    }
   ],
   "source": [
    "plt.figure(figsize=(20,10))\n",
    "plt.plot(ls, y, '-o', label='Retau 180', markersize=0.5)\n",
    "plt.plot(prev1k, y, '-o', label='Retau 1000', markersize=0.5)\n",
    "plt.plot(prev550, y, '-o', label='Retau 550', markersize=0.5)\n",
    "plt.legend()\n",
    "plt.title('Numerical solution to Channel Flow at Various Re_tau with Mixing Length Model (k=0.41)')\n",
    "plt.xlabel('< u >')\n",
    "plt.ylabel('y')"
   ]
  },
  {
   "cell_type": "code",
   "execution_count": null,
   "metadata": {},
   "outputs": [],
   "source": []
  }
 ],
 "metadata": {
  "kernelspec": {
   "display_name": "Python 3",
   "language": "python",
   "name": "python3"
  },
  "language_info": {
   "codemirror_mode": {
    "name": "ipython",
    "version": 3
   },
   "file_extension": ".py",
   "mimetype": "text/x-python",
   "name": "python",
   "nbconvert_exporter": "python",
   "pygments_lexer": "ipython3",
   "version": "3.7.3"
  }
 },
 "nbformat": 4,
 "nbformat_minor": 4
}
