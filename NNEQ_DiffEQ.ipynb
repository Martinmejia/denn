{
  "nbformat": 4,
  "nbformat_minor": 0,
  "metadata": {
    "colab": {
      "name": "NNEQ_DiffEQ.ipynb",
      "version": "0.3.2",
      "provenance": [],
      "collapsed_sections": []
    },
    "kernelspec": {
      "name": "python3",
      "display_name": "Python 3"
    },
    "accelerator": "GPU"
  },
  "cells": [
    {
      "cell_type": "markdown",
      "metadata": {
        "id": "_2h4mkZi7Km-",
        "colab_type": "text"
      },
      "source": [
        "# NNEQ Diff EQ\n",
        "\n",
        "Our idea here is that instead of classifying real/fake (which is difficult since the \"real distribution\" keeps changing) we use a NN with equality embedded inside it to parameterize the loss."
      ]
    },
    {
      "cell_type": "code",
      "metadata": {
        "id": "Q1u--Tnj74lu",
        "colab_type": "code",
        "colab": {}
      },
      "source": [
        "import torch\n",
        "import torch.nn as nn\n",
        "from torch import tensor, autograd\n",
        "from collections import OrderedDict\n",
        "import numpy as np\n",
        "import matplotlib.pyplot as plt\n",
        "from copy import deepcopy\n",
        "from IPython.display import clear_output\n",
        "import itertools"
      ],
      "execution_count": 0,
      "outputs": []
    },
    {
      "cell_type": "code",
      "metadata": {
        "id": "fBlTRRpABB60",
        "colab_type": "code",
        "colab": {}
      },
      "source": [
        "class Problem():\n",
        "  def __init__(self, tlo=0, thi=2*np.pi, n=100, x0=0., dx_dt0=-1., mass=1., k_const=1.):\n",
        "    self.tlo = tlo\n",
        "    self.thi = thi\n",
        "    self.n = n\n",
        "    self.x0 = x0\n",
        "    self.dx_dt0 = dx_dt0\n",
        "    self.mass = mass\n",
        "    self.k_const = k_const"
      ],
      "execution_count": 0,
      "outputs": []
    },
    {
      "cell_type": "code",
      "metadata": {
        "id": "CaqKr65f7fX6",
        "colab_type": "code",
        "colab": {}
      },
      "source": [
        "class Generator(nn.Module):\n",
        "    def __init__(self, in_dim=1, out_dim=1, n_hidden_units=20, n_hidden_layers=2, activation=nn.Tanh(), output_tan=False):\n",
        "        \n",
        "        super(Generator, self).__init__()\n",
        "\n",
        "        # input\n",
        "        self.layers = nn.ModuleList()\n",
        "        self.layers.append(nn.Linear(in_dim, n_hidden_units))\n",
        "        self.layers.append(activation)\n",
        "        \n",
        "        # hidden\n",
        "        for l in range(n_hidden_layers):\n",
        "            self.layers.append(nn.Linear(n_hidden_units, n_hidden_units))\n",
        "            self.layers.append(activation)\n",
        "            \n",
        "        # output\n",
        "        self.layers.append(nn.Linear(n_hidden_units, out_dim))\n",
        "        if output_tan:\n",
        "            self.layers.append(nn.Tanh())\n",
        "\n",
        "    def forward(self, x):\n",
        "        for i in range(len(self.layers)):\n",
        "            x = self.layers[i](x)\n",
        "        return x\n",
        "\n",
        "class Discriminator(nn.Module):\n",
        "    def __init__(self, in_dim=1, out_dim=1, n_hidden_units=20, n_hidden_layers=2, activation=nn.Tanh(), unbounded=False):\n",
        "        \n",
        "        super(Discriminator, self).__init__()\n",
        "        \n",
        "        # input\n",
        "        self.layers = nn.ModuleList()\n",
        "        self.layers.append(nn.Linear(in_dim, n_hidden_units))\n",
        "        self.layers.append(activation)\n",
        "        \n",
        "        # hidden\n",
        "        for l in range(n_hidden_layers):\n",
        "            self.layers.append(nn.Linear(n_hidden_units, n_hidden_units))\n",
        "            self.layers.append(activation)\n",
        "        \n",
        "        # output\n",
        "        self.layers.append(nn.Linear(n_hidden_units, out_dim))\n",
        "        if not unbounded:\n",
        "            # unbounded for WGAN (no sigmoid)\n",
        "            self.layers.append(nn.Sigmoid())\n",
        "\n",
        "    def forward(self, x):\n",
        "        for i in range(len(self.layers)):\n",
        "            x = self.layers[i](x)\n",
        "        return x"
      ],
      "execution_count": 0,
      "outputs": []
    },
    {
      "cell_type": "code",
      "metadata": {
        "id": "pCaAkCx77xt5",
        "colab_type": "code",
        "colab": {}
      },
      "source": [
        "def diff(x, t):\n",
        "  \"\"\" calculate derivative of x w.r.t. t\"\"\"\n",
        "  dx_dt, = autograd.grad(x, t, grad_outputs=x.data.new(x.shape).fill_(1), create_graph=True)\n",
        "  return dx_dt\n",
        " \n",
        "def produce_SHO_preds(G, t, problem):\n",
        "  # get initial conditions\n",
        "  x0 = problem.x0\n",
        "  dx_dt0 = problem.dx_dt0\n",
        "  \n",
        "  # get pred\n",
        "  x_raw = G(t)\n",
        "\n",
        "  # adjust for initial conditions on x and dx_dt\n",
        "  x_adj = x0 + (1 - torch.exp(-t)) * dx_dt0 + ((1 - torch.exp(-t))**2) * x_raw\n",
        "\n",
        "  dx_dt = diff(x_adj, t)\n",
        "  d2x_dt2 = diff(dx_dt, t)\n",
        "\n",
        "  return x_adj, dx_dt, d2x_dt2\n",
        "\n",
        "def produce_SHO_preds_system(G, t, problem):\n",
        "  # get initial conditions\n",
        "  x0 = problem.x0\n",
        "  dx_dt0 = problem.dx_dt0\n",
        "  \n",
        "  # get pred\n",
        "  x_pred = G(t)\n",
        "\n",
        "  # x condition\n",
        "  x_adj = x0 + (1 - torch.exp(-t)) * dx_dt0 + ((1 - torch.exp(-t))**2) * x_pred\n",
        "\n",
        "  # dx_dt (directly from NN output, x_pred)\n",
        "  dx_dt = diff(x_pred, t)\n",
        "\n",
        "  # u condition guarantees that dx_dt = u (first equation in system)\n",
        "  u_adj = torch.exp(-t) * dx_dt0 + 2 * (1 - torch.exp(-t)) * torch.exp(-t) * x_pred + (1 - torch.exp(-t)) * dx_dt\n",
        "\n",
        "  # compute du_dt = d2x_dt2\n",
        "  du_dt = diff(u_adj, t)\n",
        "\n",
        "  return x_adj, u_adj, du_dt"
      ],
      "execution_count": 0,
      "outputs": []
    },
    {
      "cell_type": "code",
      "metadata": {
        "id": "3TAYN1Nf-YgS",
        "colab_type": "code",
        "colab": {}
      },
      "source": [
        "def true_solution(t, problem):\n",
        "  # get initial conditions\n",
        "  x0 = problem.x0\n",
        "  dx_dt0 = problem.dx_dt0\n",
        "  \n",
        "  return x0*np.cos(t) + dx_dt0*np.sin(t)\n",
        "\n",
        "def visualize_training(t, x_pred, problem):\n",
        "  try:\n",
        "    x_pred = x_pred.detach().cpu().numpy()\n",
        "    t = t.detach().cpu().numpy()\n",
        "  except:\n",
        "    pass\n",
        "  \n",
        "  plt.scatter(t, x_pred, label='pred', alpha=1.0, s=1.0)\n",
        "  plt.plot(t, true_solution(t, problem), '--', label='true', color='red')\n",
        "  plt.legend()\n",
        "  plt.show()"
      ],
      "execution_count": 0,
      "outputs": []
    },
    {
      "cell_type": "code",
      "metadata": {
        "id": "fCE8dOr677dZ",
        "colab_type": "code",
        "colab": {}
      },
      "source": [
        "def train_NN(problem, n_hidden=20, n_layers=2, lr=0.001, perturb=False, cuda=True, max_iter=5e5, tol=1e-5, viz_every=100):\n",
        "  # get params from problem\n",
        "  tlo = problem.tlo\n",
        "  thi = problem.thi\n",
        "  x0 = problem.x0\n",
        "  dx_dt0 = problem.dx_dt0\n",
        "  n = problem.n\n",
        "  mass = problem.mass\n",
        "  k_const = problem.k_const\n",
        "  \n",
        "  \n",
        "  # NN\n",
        "  g = Generator(n_hidden_units=n_hidden, n_hidden_layers=n_layers)\n",
        "  if cuda:\n",
        "    g.cuda()\n",
        "  # optimizer\n",
        "  opt = torch.optim.Adam(g.parameters(), lr=lr)\n",
        "\n",
        "  # input grid\n",
        "  t = torch.linspace(tlo, thi, n, dtype=torch.float, requires_grad=True).reshape(-1,1)\n",
        "  if cuda:\n",
        "    t = t.cuda()\n",
        "\n",
        "  # inter-point spacing\n",
        "  delta_t = t[1]-t[0]\n",
        "  if cuda:\n",
        "    delta_t = delta_t.cuda()\n",
        "\n",
        "  # batch getter\n",
        "  def get_batch():\n",
        "    \"\"\" perturb grid \"\"\"\n",
        "    if perturb:\n",
        "      return t + delta_t * torch.randn_like(t) / 3\n",
        "    else:\n",
        "      return t\n",
        "    \n",
        "  # training loop\n",
        "  i = 0\n",
        "  loss = 1e6\n",
        "  \n",
        "  while loss > tol and i < max_iter:\n",
        "    i += 1\n",
        "    \n",
        "    opt.zero_grad()\n",
        "    \n",
        "    t = get_batch()\n",
        "    x_adj, dx_dt, d2x_dt2 = produce_SHO_preds(g, t, problem)\n",
        "    \n",
        "    lhs = x_adj\n",
        "    rhs = -(mass/k_const) * d2x_dt2\n",
        "    \n",
        "    loss = torch.mean((lhs-rhs)**2)\n",
        "    loss.backward(retain_graph=True)\n",
        "    opt.step()\n",
        "    \n",
        "    if i % viz_every == 0:\n",
        "      clear_output(True)\n",
        "      print('Iter = {}'.format(i))\n",
        "      print('Loss = {}'.format(loss))\n",
        "      visualize_training(t, x_adj, problem)\n",
        "                \n",
        "    \n"
      ],
      "execution_count": 0,
      "outputs": []
    },
    {
      "cell_type": "code",
      "metadata": {
        "id": "N8odKT5__iK0",
        "colab_type": "code",
        "outputId": "6f27c326-3e6c-48f5-8034-4f74426955ee",
        "colab": {
          "base_uri": "https://localhost:8080/",
          "height": 35
        }
      },
      "source": [
        "torch.cuda.is_available()"
      ],
      "execution_count": 0,
      "outputs": [
        {
          "output_type": "execute_result",
          "data": {
            "text/plain": [
              "True"
            ]
          },
          "metadata": {
            "tags": []
          },
          "execution_count": 151
        }
      ]
    },
    {
      "cell_type": "code",
      "metadata": {
        "id": "DwnkjTKJBwTs",
        "colab_type": "code",
        "colab": {}
      },
      "source": [
        "eqn = Problem()"
      ],
      "execution_count": 0,
      "outputs": []
    },
    {
      "cell_type": "code",
      "metadata": {
        "id": "xjFZUSCq_UlP",
        "colab_type": "code",
        "outputId": "4ed652dc-2b11-4524-c7c6-34f24bf508ee",
        "colab": {
          "base_uri": "https://localhost:8080/",
          "height": 304
        }
      },
      "source": [
        "train_NN(eqn, perturb=False)"
      ],
      "execution_count": 0,
      "outputs": [
        {
          "output_type": "stream",
          "text": [
            "Iter = 1100\n",
            "Loss = 2.0998524632886983e-05\n"
          ],
          "name": "stdout"
        },
        {
          "output_type": "display_data",
          "data": {
            "image/png": "[encoded data removed]",
            "text/plain": [
              "<Figure size 432x288 with 1 Axes>"
            ]
          },
          "metadata": {
            "tags": []
          }
        }
      ]
    },
    {
      "cell_type": "code",
      "metadata": {
        "id": "LS8Ut9iw_Vy4",
        "colab_type": "code",
        "colab": {}
      },
      "source": [
        ""
      ],
      "execution_count": 0,
      "outputs": []
    }
  ]
}