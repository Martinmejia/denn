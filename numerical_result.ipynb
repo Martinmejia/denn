{
 "cells": [
  {
   "cell_type": "code",
   "execution_count": 28,
   "metadata": {},
   "outputs": [],
   "source": [
    "import models.channel_flow as chan\n",
    "import matplotlib.pyplot as plt\n",
    "import pandas as pd\n",
    "import numpy as np"
   ]
  },
  {
   "cell_type": "code",
   "execution_count": 19,
   "metadata": {},
   "outputs": [],
   "source": [
    "# overall hypers\n",
    "hypers = chan.get_hyperparams(ymin=-1, ymax=1, num_epochs=200, lr=0.0001, \n",
    "                              num_layers=4, num_units=40, batch_size=1000)\n",
    "delta = (hypers['ymax']-hypers['ymin'])/2"
   ]
  },
  {
   "cell_type": "markdown",
   "metadata": {},
   "source": [
    "## Numerically calculating the solution"
   ]
  },
  {
   "cell_type": "code",
   "execution_count": 20,
   "metadata": {},
   "outputs": [],
   "source": [
    "reynolds_stress_fn = lambda y, du_dy: -1*((hypers['k']*(np.abs(y)-delta))**2)*np.abs(du_dy)*du_dy\n",
    "diffeq = lambda du2_dy2, dre_dy: hypers['nu']*du2_dy2 - dre_dy - (1/hypers['rho']) * hypers['dp_dx']"
   ]
  },
  {
   "cell_type": "code",
   "execution_count": 21,
   "metadata": {},
   "outputs": [],
   "source": [
    "n=1200\n",
    "y = np.linspace(-1, 1, n)\n",
    "delta_y = y[1] - y[0]\n",
    "u_bar = 0.5*np.ones(n)"
   ]
  },
  {
   "cell_type": "code",
   "execution_count": 34,
   "metadata": {},
   "outputs": [],
   "source": [
    "from scipy.optimize import least_squares, root\n",
    "\n",
    "def diffeq_fn(u):\n",
    "    u[0],u[-1]=0,0\n",
    "    du_dy = np.gradient(u, delta_y, edge_order=2)\n",
    "    dre_dy = np.gradient(reynolds_stress_fn(y, du_dy), delta_y, edge_order=2)\n",
    "    du2_dy2 = np.gradient(du_dy, delta_y, edge_order=2)\n",
    "    return diffeq(du2_dy2, dre_dy)\n",
    "\n",
    "def compute_numerical(diffeq_fn, u_bar):\n",
    "    u_star = least_squares(diffeq_fn, u_bar)\n",
    "#     u_star = root(diffeq_fn, u_bar)\n",
    "    return u_star.x"
   ]
  },
  {
   "cell_type": "code",
   "execution_count": 35,
   "metadata": {},
   "outputs": [
    {
     "name": "stdout",
     "output_type": "stream",
     "text": [
      "Calculating at Retau=180.00018000018\n"
     ]
    }
   ],
   "source": [
    "hypers['nu']=0.00555555\n",
    "retau=chan.calc_retau(delta, hypers['dp_dx'], hypers['rho'], hypers['nu'])\n",
    "print('Calculating at Retau={}'.format(retau))\n",
    "\n",
    "u_star = compute_numerical(diffeq_fn, u_bar)"
   ]
  },
  {
   "cell_type": "code",
   "execution_count": 37,
   "metadata": {},
   "outputs": [
    {
     "data": {
      "text/plain": [
       "[<matplotlib.lines.Line2D at 0x11053e4a8>]"
      ]
     },
     "execution_count": 37,
     "metadata": {},
     "output_type": "execute_result"
    },
    {
     "data": {
      "image/png": "[encoded data removed]",
      "text/plain": [
       "<Figure size 432x288 with 1 Axes>"
      ]
     },
     "metadata": {},
     "output_type": "display_data"
    }
   ],
   "source": [
    "plt.plot(u_star, y)"
   ]
  },
  {
   "cell_type": "markdown",
   "metadata": {},
   "source": [
    "## Retau 180 with DNS params"
   ]
  },
  {
   "cell_type": "code",
   "execution_count": 38,
   "metadata": {},
   "outputs": [
    {
     "name": "stdout",
     "output_type": "stream",
     "text": [
      "Calculating at Retau=182.0882857142857\n"
     ]
    }
   ],
   "source": [
    "# hypers['nu']=0.005492\n",
    "hypers['nu']=3.50000e-04\n",
    "# u_tau = 6.37309e-02\n",
    "# tau_w = -1 * hypers['dp_dx']\n",
    "hypers['rho'] = 1/((6.37309e-02)**2)\n",
    "\n",
    "retau=chan.calc_retau(delta, hypers['dp_dx'], hypers['rho'], hypers['nu'])\n",
    "print('Calculating at Retau={}'.format(retau))\n",
    "\n",
    "u_star = compute_numerical(diffeq_fn, u_bar)"
   ]
  },
  {
   "cell_type": "code",
   "execution_count": 39,
   "metadata": {},
   "outputs": [
    {
     "data": {
      "text/plain": [
       "[<matplotlib.lines.Line2D at 0x1111754e0>]"
      ]
     },
     "execution_count": 39,
     "metadata": {},
     "output_type": "execute_result"
    },
    {
     "data": {
      "image/png": "[encoded data removed]",
      "text/plain": [
       "<Figure size 432x288 with 1 Axes>"
      ]
     },
     "metadata": {},
     "output_type": "display_data"
    }
   ],
   "source": [
    "plt.plot(u_star, y)"
   ]
  },
  {
   "cell_type": "code",
   "execution_count": 37,
   "metadata": {},
   "outputs": [
    {
     "data": {
      "text/plain": [
       "(9.961424662241415, 9.961424662274926)"
      ]
     },
     "execution_count": 37,
     "metadata": {},
     "output_type": "execute_result"
    }
   ],
   "source": [
    "np.max(u_star), np.max(np.load('data/mixlen_numerical_u180.npy'))"
   ]
  },
  {
   "cell_type": "code",
   "execution_count": 16,
   "metadata": {},
   "outputs": [],
   "source": [
    "np.save('data/mixlen_numerical_u180.npy', u_star)"
   ]
  },
  {
   "cell_type": "markdown",
   "metadata": {},
   "source": [
    "## Retau 550"
   ]
  },
  {
   "cell_type": "code",
   "execution_count": 17,
   "metadata": {},
   "outputs": [
    {
     "name": "stdout",
     "output_type": "stream",
     "text": [
      "Calculating at Retau=550.000000055\n"
     ]
    }
   ],
   "source": [
    "hypers['nu']=0.001818181818\n",
    "retau=chan.calc_retau(delta, hypers['dp_dx'], hypers['rho'], hypers['nu'])\n",
    "print('Calculating at Retau={}'.format(retau))\n",
    "u_star = compute_numerical(diffeq_fn, u_bar)"
   ]
  },
  {
   "cell_type": "code",
   "execution_count": 18,
   "metadata": {},
   "outputs": [
    {
     "data": {
      "text/plain": [
       "[<matplotlib.lines.Line2D at 0x10b684c18>]"
      ]
     },
     "execution_count": 18,
     "metadata": {},
     "output_type": "execute_result"
    },
    {
     "data": {
      "image/png": "[encoded data removed]",
      "text/plain": [
       "<Figure size 432x288 with 1 Axes>"
      ]
     },
     "metadata": {},
     "output_type": "display_data"
    }
   ],
   "source": [
    "plt.plot(u_star, y)"
   ]
  },
  {
   "cell_type": "code",
   "execution_count": 19,
   "metadata": {},
   "outputs": [],
   "source": [
    "np.save('data/mixlen_numerical_u550.npy', u_star)"
   ]
  },
  {
   "cell_type": "markdown",
   "metadata": {},
   "source": [
    "## Retau 1000"
   ]
  },
  {
   "cell_type": "code",
   "execution_count": 20,
   "metadata": {},
   "outputs": [
    {
     "name": "stdout",
     "output_type": "stream",
     "text": [
      "Calculating at Retau=1000.0\n"
     ]
    }
   ],
   "source": [
    "hypers['nu']=0.001\n",
    "retau=chan.calc_retau(delta, hypers['dp_dx'], hypers['rho'], hypers['nu'])\n",
    "print('Calculating at Retau={}'.format(retau))\n",
    "u_star = compute_numerical(diffeq_fn, u_bar)"
   ]
  },
  {
   "cell_type": "code",
   "execution_count": 21,
   "metadata": {},
   "outputs": [
    {
     "data": {
      "text/plain": [
       "[<matplotlib.lines.Line2D at 0x1026cca7f0>]"
      ]
     },
     "execution_count": 21,
     "metadata": {},
     "output_type": "execute_result"
    },
    {
     "data": {
      "image/png": "[encoded data removed]",
      "text/plain": [
       "<Figure size 432x288 with 1 Axes>"
      ]
     },
     "metadata": {},
     "output_type": "display_data"
    }
   ],
   "source": [
    "plt.plot(u_star, y)"
   ]
  },
  {
   "cell_type": "code",
   "execution_count": 22,
   "metadata": {},
   "outputs": [],
   "source": [
    "np.save('data/mixlen_numerical_u1000.npy', u_star)"
   ]
  },
  {
   "cell_type": "markdown",
   "metadata": {},
   "source": [
    "## Plot non-dimensionalized sol'n"
   ]
  },
  {
   "cell_type": "code",
   "execution_count": 94,
   "metadata": {},
   "outputs": [],
   "source": [
    "def convert_dns(delta, hypers, dns):\n",
    "    tau_w = -delta * hypers['dp_dx']\n",
    "    u_tau = np.sqrt(tau_w / hypers['rho'])\n",
    "    h_v = hypers['nu'] / u_tau\n",
    "    half_y = dns[['y+,']]*h_v\n",
    "    half_u = dns[['u_1,']]\n",
    "    # full_u = np.concatenate([half_u, half_u], axis=0)\n",
    "    # full_y = np.concatenate([half_y, -half_y+2*delta], axis=0)\n",
    "    return half_u,  half_y"
   ]
  },
  {
   "cell_type": "code",
   "execution_count": 95,
   "metadata": {},
   "outputs": [],
   "source": [
    "hypers = chan.get_hyperparams(ymin=-1, ymax=1, num_epochs=200000, lr=0.0001, \n",
    "                              num_layers=4, num_units=40, batch_size=2000)"
   ]
  },
  {
   "cell_type": "code",
   "execution_count": 96,
   "metadata": {},
   "outputs": [
    {
     "name": "stdout",
     "output_type": "stream",
     "text": [
      "Training at Retau=180.000000018\n"
     ]
    }
   ],
   "source": [
    "hypers['nu']=0.005555555555\n",
    "delta = (hypers['ymax']-hypers['ymin'])/2\n",
    "reynolds_stress = chan.get_mixing_len_model(hypers['k'], delta, hypers['dp_dx'], hypers['rho'], hypers['nu'])\n",
    "retau=chan.calc_retau(delta, hypers['dp_dx'], hypers['rho'], hypers['nu'])\n",
    "print('Training at Retau={}'.format(retau))"
   ]
  },
  {
   "cell_type": "code",
   "execution_count": 122,
   "metadata": {},
   "outputs": [],
   "source": [
    "numerical_u = np.load('data/mixing_length_numerical_Retau180.npy')[:500]"
   ]
  },
  {
   "cell_type": "code",
   "execution_count": 121,
   "metadata": {},
   "outputs": [],
   "source": [
    "pdenn_preds = np.load('data/preds_retau180_200k_epochs_2k_batchsize.npy')[:500]"
   ]
  },
  {
   "cell_type": "code",
   "execution_count": 124,
   "metadata": {},
   "outputs": [],
   "source": [
    "y=y[:500]"
   ]
  },
  {
   "cell_type": "code",
   "execution_count": 125,
   "metadata": {},
   "outputs": [
    {
     "data": {
      "text/plain": [
       "[<matplotlib.lines.Line2D at 0x101db685f8>]"
      ]
     },
     "execution_count": 125,
     "metadata": {},
     "output_type": "execute_result"
    },
    {
     "data": {
      "image/png": "[encoded data removed]",
      "text/plain": [
       "<Figure size 432x288 with 1 Axes>"
      ]
     },
     "metadata": {},
     "output_type": "display_data"
    }
   ],
   "source": [
    "plt.plot(pdenn_preds, y)\n",
    "plt.plot(numerical_u ,y)"
   ]
  },
  {
   "cell_type": "code",
   "execution_count": 126,
   "metadata": {},
   "outputs": [],
   "source": [
    "tau_w = -delta * hypers['dp_dx']\n",
    "u_tau = np.sqrt(tau_w / hypers['rho'])\n",
    "h_v = hypers['nu'] / u_tau"
   ]
  },
  {
   "cell_type": "code",
   "execution_count": 127,
   "metadata": {},
   "outputs": [],
   "source": [
    "dns_retau180 = pd.read_csv('data/LM_Channel_Retau180.txt', delimiter=' ')"
   ]
  },
  {
   "cell_type": "code",
   "execution_count": 145,
   "metadata": {},
   "outputs": [],
   "source": [
    "dns_utau = 6.37309e-02"
   ]
  },
  {
   "cell_type": "code",
   "execution_count": 150,
   "metadata": {},
   "outputs": [
    {
     "data": {
      "image/png": "[encoded data removed]",
      "text/plain": [
       "<Figure size 432x288 with 1 Axes>"
      ]
     },
     "metadata": {},
     "output_type": "display_data"
    }
   ],
   "source": [
    "plt.plot(pdenn_preds/h_v, y/delta, label='NN')\n",
    "plt.plot(numerical_u/h_v, y/delta, label='FD')\n",
    "plt.plot(dns_retau180[['u_1,']], dns_retau180[['y+,']]/h_v, label='DNS')\n",
    "plt.legend()\n",
    "plt.title('Non-dimensionalized $<U>$ and $y$')\n",
    "plt.xlabel('$<U>$ / $u_{tau}$')\n",
    "plt.ylabel('y / delta')\n",
    "plt.show()"
   ]
  },
  {
   "cell_type": "code",
   "execution_count": null,
   "metadata": {},
   "outputs": [],
   "source": []
  }
 ],
 "metadata": {
  "kernelspec": {
   "display_name": "Python 3",
   "language": "python",
   "name": "python3"
  },
  "language_info": {
   "codemirror_mode": {
    "name": "ipython",
    "version": 3
   },
   "file_extension": ".py",
   "mimetype": "text/x-python",
   "name": "python",
   "nbconvert_exporter": "python",
   "pygments_lexer": "ipython3",
   "version": "3.6.5"
  }
 },
 "nbformat": 4,
 "nbformat_minor": 2
}
